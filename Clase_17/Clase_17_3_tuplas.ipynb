{
  "cells": [
    {
      "cell_type": "markdown",
      "metadata": {
        "id": "SuXstJ1isbQi"
      },
      "source": [
        "# Manejo de Python"
      ]
    },
    {
      "cell_type": "markdown",
      "metadata": {
        "id": "AIkVxa_8a72l"
      },
      "source": [
        "## 1. Tuplas\n",
        "\n",
        "Una tupla es una estructura de datos similar a las listas que pueden ser accedidos con _slices_, sin embargo su gran diferencia es que son **inmutables**\n",
        "\n"
      ]
    },
    {
      "cell_type": "code",
      "execution_count": 1,
      "metadata": {
        "colab": {
          "base_uri": "https://localhost:8080/"
        },
        "id": "tV_WkXKYiOYY",
        "outputId": "5ae25564-afc8-4516-a060-5dda09d91a05"
      },
      "outputs": [],
      "source": [
        "# help(tuple)"
      ]
    },
    {
      "cell_type": "markdown",
      "metadata": {
        "id": "nlbP7TsznRK3"
      },
      "source": [
        "## 2. Declaración"
      ]
    },
    {
      "cell_type": "code",
      "execution_count": 2,
      "metadata": {
        "colab": {
          "base_uri": "https://localhost:8080/"
        },
        "id": "N7jRtS4pa4pt",
        "outputId": "5f92e551-7570-497e-b2af-81f8169cb7ba"
      },
      "outputs": [
        {
          "name": "stdout",
          "output_type": "stream",
          "text": [
            "() <class 'tuple'>\n"
          ]
        }
      ],
      "source": [
        "# Creación de una tupla vacía\n",
        "tupla = ()\n",
        "print(tupla, type(tupla))"
      ]
    },
    {
      "cell_type": "code",
      "execution_count": 3,
      "metadata": {
        "colab": {
          "base_uri": "https://localhost:8080/"
        },
        "id": "1P0VtR8lnbDa",
        "outputId": "ecf5f3b7-53a8-439c-e75a-9048d0700ee7"
      },
      "outputs": [
        {
          "name": "stdout",
          "output_type": "stream",
          "text": [
            "(1, 2, 3, 4, 5) <class 'tuple'>\n"
          ]
        }
      ],
      "source": [
        "# Creación de una tupla con valores\n",
        "tupla_elementos = (1, 2, 3, 4, 5)  # -> Dinámico\n",
        "print(tupla_elementos, type(tupla_elementos))"
      ]
    },
    {
      "cell_type": "code",
      "execution_count": 4,
      "metadata": {
        "colab": {
          "base_uri": "https://localhost:8080/"
        },
        "id": "zDrnBjJTExua",
        "outputId": "1d09881f-0bb6-467e-8968-cbd332cb0d82"
      },
      "outputs": [
        {
          "name": "stdout",
          "output_type": "stream",
          "text": [
            "['a', 'b', 'c']\n",
            "['a', 'b', 'd']\n",
            "['a', 'b', 'd', 'e']\n"
          ]
        }
      ],
      "source": [
        "# Lista de prueba -> Realmente son mutables\n",
        "lista = [\"a\", \"b\", \"c\"]\n",
        "print(lista)\n",
        "lista[2] = \"d\"\n",
        "print(lista)\n",
        "lista.append(\"e\")\n",
        "print(lista)"
      ]
    },
    {
      "cell_type": "code",
      "execution_count": 5,
      "metadata": {
        "colab": {
          "base_uri": "https://localhost:8080/"
        },
        "id": "9PS0pZY-FK1U",
        "outputId": "6acd8f9a-5d73-44ae-dc1e-29d8009a47b9"
      },
      "outputs": [
        {
          "data": {
            "text/plain": [
              "3"
            ]
          },
          "execution_count": 5,
          "metadata": {},
          "output_type": "execute_result"
        }
      ],
      "source": [
        "tupla_elementos[2]"
      ]
    },
    {
      "cell_type": "code",
      "execution_count": 6,
      "metadata": {
        "colab": {
          "base_uri": "https://localhost:8080/"
        },
        "id": "0YNGRWNVcTMh",
        "outputId": "db05733d-8803-4fd0-8b3f-4b95a89f1c55"
      },
      "outputs": [
        {
          "name": "stdout",
          "output_type": "stream",
          "text": [
            "0. valor original    -->  (1, 2, 3, 4, 5)\n",
            "1. valor especifico  -->  2\n",
            "2. ultimo valor      -->  5\n",
            "3. rango valores     -->  (1, 2, 3, 4, 5)\n",
            "6. salteos           -->  (1, 3, 5)\n"
          ]
        }
      ],
      "source": [
        "# Puedo acceder a los valores a través de slices\n",
        "print(\"0. valor original    --> \", tupla_elementos)\n",
        "print(\"1. valor especifico  --> \", tupla_elementos[1])\n",
        "print(\"2. ultimo valor      --> \", tupla_elementos[-1])\n",
        "print(\"3. rango valores     --> \", tupla_elementos[:5])\n",
        "print(\"6. salteos           --> \", tupla_elementos[::2])"
      ]
    },
    {
      "cell_type": "code",
      "execution_count": 7,
      "metadata": {
        "colab": {
          "base_uri": "https://localhost:8080/"
        },
        "id": "qMOX08PDHMv3",
        "outputId": "5ea77c1a-3793-40e9-cac1-8eba2d5ef3fe"
      },
      "outputs": [
        {
          "name": "stdout",
          "output_type": "stream",
          "text": [
            "(1, 'a', True, [1, 2, 3], ('a', 'b'))\n"
          ]
        }
      ],
      "source": [
        "tupla_mixta = (1, \"a\", bool(1), [1, 2, 3], (\"a\", \"b\"))  # dinámica\n",
        "print(tupla_mixta)"
      ]
    },
    {
      "cell_type": "code",
      "execution_count": 8,
      "metadata": {
        "colab": {
          "base_uri": "https://localhost:8080/"
        },
        "id": "Ta7Zr9H5Hnzb",
        "outputId": "2869a785-d6af-40ff-c513-5872c56b7d8e"
      },
      "outputs": [
        {
          "name": "stdout",
          "output_type": "stream",
          "text": [
            "(1, 'a', True, [1, 2, 3], ('a', 'b'))\n"
          ]
        }
      ],
      "source": [
        "tupla_mixta = tuple((1, \"a\", bool(1), [1, 2, 3], (\"a\", \"b\")))  # constructor\n",
        "print(tupla_mixta)"
      ]
    }
  ],
  "metadata": {
    "colab": {
      "collapsed_sections": [],
      "provenance": []
    },
    "kernelspec": {
      "display_name": "Python 3",
      "name": "python3"
    },
    "language_info": {
      "codemirror_mode": {
        "name": "ipython",
        "version": 3
      },
      "file_extension": ".py",
      "mimetype": "text/x-python",
      "name": "python",
      "nbconvert_exporter": "python",
      "pygments_lexer": "ipython3",
      "version": "3.9.19"
    }
  },
  "nbformat": 4,
  "nbformat_minor": 0
}
