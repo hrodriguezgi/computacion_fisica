{
  "cells": [
    {
      "cell_type": "markdown",
      "metadata": {
        "id": "ydgQEJ2Lsd7d"
      },
      "source": [
        "# Manejo de Python"
      ]
    },
    {
      "cell_type": "markdown",
      "metadata": {
        "id": "KyhShs9_uVlp"
      },
      "source": [
        "## 2. Tipo de Dato: **int, float** (numéricos)"
      ]
    },
    {
      "cell_type": "code",
      "execution_count": 1,
      "metadata": {
        "colab": {
          "base_uri": "https://localhost:8080/"
        },
        "id": "vak4lWYcs3wb",
        "outputId": "8cec6cef-b321-408d-a803-23c2d4d41dfd"
      },
      "outputs": [],
      "source": [
        "# help('int')"
      ]
    },
    {
      "cell_type": "code",
      "execution_count": 4,
      "metadata": {
        "colab": {
          "base_uri": "https://localhost:8080/"
        },
        "id": "wQyWGANzufy-",
        "outputId": "7a9e0e8e-1a09-405f-c304-dc9d6ab5fd55"
      },
      "outputs": [
        {
          "name": "stdout",
          "output_type": "stream",
          "text": [
            "suma           :  7\n",
            "resta          :  3\n",
            "multiplicacion :  10\n",
            "division       :  2.5\n",
            "operaciones    :  16.142857142857142\n",
            "potencia       :  125\n"
          ]
        }
      ],
      "source": [
        "valor1 = int('5') # Constructor\n",
        "valor2:int = 2 # Referencia\n",
        "valor3 = 3 # Dinamico\n",
        "\n",
        "print(\"suma           : \", valor1 + valor2)\n",
        "print(\"resta          : \", valor1 - valor2)\n",
        "print(\"multiplicacion : \", valor1 * valor2)\n",
        "print(\"division       : \", valor1 / valor2) # Flotante\n",
        "print(\"operaciones    : \", ((valor1 * valor2) + 555) / 35) # Flotante\n",
        "print(\"potencia       : \", valor1 ** valor3) # 5^3 = 5*5*5"
      ]
    },
    {
      "cell_type": "code",
      "execution_count": 5,
      "metadata": {},
      "outputs": [
        {
          "name": "stdout",
          "output_type": "stream",
          "text": [
            "raiz cuadrada  :  2.23606797749979\n"
          ]
        }
      ],
      "source": [
        "import math\n",
        "\n",
        "print(\"raiz cuadrada  : \", math.sqrt(valor1))"
      ]
    },
    {
      "cell_type": "markdown",
      "metadata": {
        "id": "mB5XQ6vIuq6U"
      },
      "source": [
        "## 3. Tipo de Dato: **bool** (boleanos)"
      ]
    },
    {
      "cell_type": "code",
      "execution_count": 3,
      "metadata": {
        "colab": {
          "base_uri": "https://localhost:8080/"
        },
        "id": "RmmfdBvEFoJQ",
        "outputId": "6500f88d-4c84-4e59-906e-f22565d90f29"
      },
      "outputs": [],
      "source": [
        "# help('bool')"
      ]
    },
    {
      "cell_type": "markdown",
      "metadata": {
        "id": "b_Arr6H1Fnz9"
      },
      "source": []
    },
    {
      "cell_type": "markdown",
      "metadata": {
        "id": "MpOhFu2ZuwzI"
      },
      "source": [
        "- True = 1\n",
        "- False = 0\n",
        "\n",
        "Los boleanos en python tambien aplican como numeros, es decir se puede realizar operaciones matematicas"
      ]
    },
    {
      "cell_type": "code",
      "execution_count": 8,
      "metadata": {
        "id": "Gv7vEQtJupm3"
      },
      "outputs": [],
      "source": [
        "es_verdadero = True # -> 1\n",
        "es_falso = False # -> 0"
      ]
    },
    {
      "cell_type": "code",
      "execution_count": 9,
      "metadata": {
        "colab": {
          "base_uri": "https://localhost:8080/"
        },
        "id": "NizWVqA0Tx4k",
        "outputId": "42c0c170-0764-4e0a-e1bd-69654e534214"
      },
      "outputs": [
        {
          "name": "stdout",
          "output_type": "stream",
          "text": [
            "True\n"
          ]
        }
      ],
      "source": [
        "print(es_verdadero)"
      ]
    },
    {
      "cell_type": "code",
      "execution_count": 12,
      "metadata": {
        "colab": {
          "base_uri": "https://localhost:8080/"
        },
        "id": "UZGxEmBIT2FZ",
        "outputId": "ee2834a2-bdb4-4315-a41e-836672c32d2a"
      },
      "outputs": [
        {
          "name": "stdout",
          "output_type": "stream",
          "text": [
            "True\n"
          ]
        }
      ],
      "source": [
        "tambien_verdadero = bool(1745)\n",
        "print(tambien_verdadero)"
      ]
    },
    {
      "cell_type": "code",
      "execution_count": 7,
      "metadata": {
        "colab": {
          "base_uri": "https://localhost:8080/"
        },
        "id": "XPNF6pOPu14i",
        "outputId": "9ccd8ccd-10a9-47a4-a2fd-a3d139c2480e"
      },
      "outputs": [
        {
          "name": "stdout",
          "output_type": "stream",
          "text": [
            "suma  1    : -->  10\n",
            "suma  2    : -->  9\n",
            "ecuacion   : -->  31.0\n",
            "ecuacion   : -->  31\n",
            "suma  3    : -->  10\n"
          ]
        }
      ],
      "source": [
        "# se pueden usar como numeros\n",
        "print(\"suma  1    : --> \", 5 + 4 + es_verdadero)\n",
        "print(\"suma  2    : --> \", 5 + 4 + es_falso)\n",
        "# final \n",
        "print(\"ecuacion   : --> \", (5 * 5) + (10 / 2) + True)\n",
        "print(\"ecuacion   : --> \", int((5 * 5) + (10 / 2) + True))\n",
        "\n",
        "print(\"suma  3    : --> \", 5 + 4 + tambien_verdadero)"
      ]
    },
    {
      "cell_type": "code",
      "execution_count": null,
      "metadata": {
        "id": "uqbn0HAGu4L7"
      },
      "outputs": [],
      "source": []
    }
  ],
  "metadata": {
    "colab": {
      "collapsed_sections": [],
      "provenance": []
    },
    "kernelspec": {
      "display_name": "Python 3",
      "name": "python3"
    },
    "language_info": {
      "codemirror_mode": {
        "name": "ipython",
        "version": 3
      },
      "file_extension": ".py",
      "mimetype": "text/x-python",
      "name": "python",
      "nbconvert_exporter": "python",
      "pygments_lexer": "ipython3",
      "version": "3.9.19"
    }
  },
  "nbformat": 4,
  "nbformat_minor": 0
}
