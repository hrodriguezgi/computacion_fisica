{
  "cells": [
    {
      "cell_type": "markdown",
      "metadata": {
        "id": "SuXstJ1isbQi"
      },
      "source": [
        "# Manejo de Python"
      ]
    },
    {
      "cell_type": "markdown",
      "metadata": {
        "id": "LCa1nx67Ev8p"
      },
      "source": [
        "## 1. Listas\n",
        "\n",
        "Una lista es una estructura de datos y un tipo de dato en python con características especiales. \n",
        "\n",
        "<img src=\"https://controlautomaticoeducacion.com/wp-content/uploads/Objetos-en-una-lista-en-python-768x233.png\"\n",
        "     width=\"700\"\n",
        "     height=\"200\"  class=\"center\"/>\n",
        "\n",
        "\n",
        "**Consideraciones**\n",
        "\n",
        "\n",
        "\n",
        "1.  Permiten almacenar cualquier tipo de valor como enteros, cadenas y hasta otras funciones\n",
        "2.   Son mutables\n",
        "3.   los slices vistos en strings funcionan exactamente igual en las listas"
      ]
    },
    {
      "cell_type": "code",
      "execution_count": 1,
      "metadata": {
        "colab": {
          "base_uri": "https://localhost:8080/"
        },
        "id": "OHfcBXrOHpXI",
        "outputId": "eb496cd3-f8e1-4971-faa5-b52a47cbc023"
      },
      "outputs": [
        {
          "name": "stdout",
          "output_type": "stream",
          "text": [
            "[1, 2, 3] <class 'str'>\n"
          ]
        }
      ],
      "source": [
        "cadena = \"[1, 2, 3]\"\n",
        "print(cadena, type(cadena))"
      ]
    },
    {
      "cell_type": "code",
      "execution_count": 2,
      "metadata": {
        "colab": {
          "base_uri": "https://localhost:8080/",
          "height": 35
        },
        "id": "2QjKqfAHIFEA",
        "outputId": "13f69695-6a8e-4eba-9731-196637a1a2d3"
      },
      "outputs": [
        {
          "data": {
            "text/plain": [
              "'[1, '"
            ]
          },
          "execution_count": 2,
          "metadata": {},
          "output_type": "execute_result"
        }
      ],
      "source": [
        "cadena[0:4]"
      ]
    },
    {
      "cell_type": "markdown",
      "metadata": {
        "id": "qrch1DqwM4lW"
      },
      "source": [
        "## 2. Declaración"
      ]
    },
    {
      "cell_type": "code",
      "execution_count": 3,
      "metadata": {
        "colab": {
          "base_uri": "https://localhost:8080/"
        },
        "id": "zgEPURJK7yhR",
        "outputId": "27856d31-39ca-4c49-d707-716297b68de2"
      },
      "outputs": [
        {
          "name": "stdout",
          "output_type": "stream",
          "text": [
            "[] <class 'list'>\n"
          ]
        }
      ],
      "source": [
        "# Puedo crear listas vacías\n",
        "lista_vacia = []  # Dinámica\n",
        "print(lista_vacia, type(lista_vacia))"
      ]
    },
    {
      "cell_type": "code",
      "execution_count": 4,
      "metadata": {
        "colab": {
          "base_uri": "https://localhost:8080/"
        },
        "id": "xpBtxWBJ01WK",
        "outputId": "b9a6a743-1f2b-4bcd-9cd7-1d27f14ba548"
      },
      "outputs": [
        {
          "name": "stdout",
          "output_type": "stream",
          "text": [
            "[1, 2, 3, 4, 5, 6] <class 'list'>\n"
          ]
        }
      ],
      "source": [
        "# Puedo crear listas de sólo números\n",
        "lista_numeros = [1, 2, 3, 4, 5, 6]\n",
        "print(lista_numeros, type(lista_numeros))"
      ]
    },
    {
      "cell_type": "code",
      "execution_count": 5,
      "metadata": {
        "colab": {
          "base_uri": "https://localhost:8080/"
        },
        "id": "3vH7Q6Tq05xy",
        "outputId": "011f9559-783d-41ab-d16e-ae8b15d78b9e"
      },
      "outputs": [
        {
          "name": "stdout",
          "output_type": "stream",
          "text": [
            "['a', 'b', 'c'] <class 'list'>\n"
          ]
        }
      ],
      "source": [
        "# Puedo crear listas de sólo letras\n",
        "lista_letras = [\"a\", \"b\", \"c\"]\n",
        "print(lista_letras, type(lista_letras))"
      ]
    },
    {
      "cell_type": "code",
      "execution_count": 6,
      "metadata": {
        "colab": {
          "base_uri": "https://localhost:8080/"
        },
        "id": "-U7kED7409-_",
        "outputId": "0a74cb46-ae41-40c2-cb8c-db28ae4d304e"
      },
      "outputs": [
        {
          "name": "stdout",
          "output_type": "stream",
          "text": [
            "[1, True, 3.5, [1, 2], <method 'upper' of 'str' objects>, (1, 2), 'hola!'] <class 'list'>\n"
          ]
        }
      ],
      "source": [
        "# Puedo crear llistas mixtas\n",
        "lista_mix = [1, True, 3.5, [1, 2], str.upper, (1, 2), \"hola!\"]\n",
        "print(lista_mix, type(lista_mix))"
      ]
    },
    {
      "cell_type": "code",
      "execution_count": 7,
      "metadata": {
        "id": "29YgkkZCJTvv"
      },
      "outputs": [],
      "source": [
        "# Recomendación: Las listas deben ser homogeneas"
      ]
    },
    {
      "cell_type": "markdown",
      "metadata": {
        "id": "pw9xIhHmPKmc"
      },
      "source": [
        "## 3. Métodos de las listas"
      ]
    },
    {
      "cell_type": "code",
      "execution_count": 8,
      "metadata": {
        "colab": {
          "base_uri": "https://localhost:8080/"
        },
        "id": "SWl4dlGV0plj",
        "outputId": "a84c9ccd-b728-4c45-be5d-14293484b83c"
      },
      "outputs": [],
      "source": [
        "# help(list)"
      ]
    },
    {
      "cell_type": "markdown",
      "metadata": {
        "id": "SbU4y9Tp4ape"
      },
      "source": [
        "### 3.1 Remplazar por posición (no es método)"
      ]
    },
    {
      "cell_type": "code",
      "execution_count": 9,
      "metadata": {
        "colab": {
          "base_uri": "https://localhost:8080/"
        },
        "id": "H0ILnEquLD32",
        "outputId": "754a5c50-db84-404a-fa5a-f7abc4923ea0"
      },
      "outputs": [
        {
          "data": {
            "text/plain": [
              "[1, 2, 3, 4, 5, 6]"
            ]
          },
          "execution_count": 9,
          "metadata": {},
          "output_type": "execute_result"
        }
      ],
      "source": [
        "lista_numeros"
      ]
    },
    {
      "cell_type": "code",
      "execution_count": 10,
      "metadata": {
        "colab": {
          "base_uri": "https://localhost:8080/"
        },
        "id": "1-FoB1d0LNqO",
        "outputId": "c79b0c4f-d2d8-41c6-9302-f1979ad72d81"
      },
      "outputs": [
        {
          "data": {
            "text/plain": [
              "3"
            ]
          },
          "execution_count": 10,
          "metadata": {},
          "output_type": "execute_result"
        }
      ],
      "source": [
        "lista_numeros[2]"
      ]
    },
    {
      "cell_type": "code",
      "execution_count": 11,
      "metadata": {
        "id": "VygyLw9TLhGh"
      },
      "outputs": [],
      "source": [
        "# A la variable llamada var le asigno el valor 23\n",
        "var = 23"
      ]
    },
    {
      "cell_type": "code",
      "execution_count": 12,
      "metadata": {
        "colab": {
          "base_uri": "https://localhost:8080/"
        },
        "id": "qnCE4VyxPJDj",
        "outputId": "dddacb4c-43de-47d4-dcb3-bdf4f92784ee"
      },
      "outputs": [
        {
          "data": {
            "text/plain": [
              "[1, 2, 23, 4, 5, 6]"
            ]
          },
          "execution_count": 12,
          "metadata": {},
          "output_type": "execute_result"
        }
      ],
      "source": [
        "# A la lista en la posición 2, le asigno el valor 23\n",
        "lista_numeros[2] = 23\n",
        "lista_numeros"
      ]
    },
    {
      "cell_type": "code",
      "execution_count": 13,
      "metadata": {
        "colab": {
          "base_uri": "https://localhost:8080/"
        },
        "id": "tV1zX6_PLvCm",
        "outputId": "d9d74053-3bea-4c82-ef97-77fc218de03f"
      },
      "outputs": [
        {
          "data": {
            "text/plain": [
              "[1, 2, 23, 4, 5, 4]"
            ]
          },
          "execution_count": 13,
          "metadata": {},
          "output_type": "execute_result"
        }
      ],
      "source": [
        "lista_numeros[-1] = 4\n",
        "lista_numeros"
      ]
    },
    {
      "cell_type": "code",
      "execution_count": 14,
      "metadata": {
        "colab": {
          "base_uri": "https://localhost:8080/"
        },
        "id": "lp4rdEoZLzcz",
        "outputId": "bf5ee8c3-67d0-46da-fcc5-7a4383a5d3b9"
      },
      "outputs": [
        {
          "data": {
            "text/plain": [
              "[1, 2, 23, 4, 5, 10]"
            ]
          },
          "execution_count": 14,
          "metadata": {},
          "output_type": "execute_result"
        }
      ],
      "source": [
        "lista_numeros[5] = 10\n",
        "lista_numeros"
      ]
    },
    {
      "cell_type": "markdown",
      "metadata": {
        "id": "jXvXFn7P3-nT"
      },
      "source": [
        "### 3.2 Append\n",
        "\n",
        "Este permite adicionar nuevos elementos a la lista. Estos quedarán al final"
      ]
    },
    {
      "cell_type": "code",
      "execution_count": 15,
      "metadata": {
        "colab": {
          "base_uri": "https://localhost:8080/"
        },
        "id": "PqkbkDi8MLie",
        "outputId": "02625d64-c416-4ac6-fa72-d4907e6229b0"
      },
      "outputs": [
        {
          "name": "stdout",
          "output_type": "stream",
          "text": [
            "Help on method_descriptor:\n",
            "\n",
            "append(self, object, /)\n",
            "    Append object to the end of the list.\n",
            "\n"
          ]
        }
      ],
      "source": [
        "help(list.append)"
      ]
    },
    {
      "cell_type": "code",
      "execution_count": 16,
      "metadata": {
        "colab": {
          "base_uri": "https://localhost:8080/"
        },
        "id": "hC-AjVLyPs0I",
        "outputId": "2b1a8ef2-044c-4bc3-df6c-e900ccf40b99"
      },
      "outputs": [
        {
          "name": "stdout",
          "output_type": "stream",
          "text": [
            "[1, 2, 23, 4, 5, 10, 99]\n"
          ]
        }
      ],
      "source": [
        "lista_numeros.append(99)\n",
        "print(lista_numeros)"
      ]
    },
    {
      "cell_type": "code",
      "execution_count": 17,
      "metadata": {
        "colab": {
          "base_uri": "https://localhost:8080/"
        },
        "id": "WSvdUnr5MXiK",
        "outputId": "540c9c31-63a7-4930-ce31-d03ccc65636b"
      },
      "outputs": [
        {
          "data": {
            "text/plain": [
              "[1, 2, 23, 4, 5, 10, 99, 8]"
            ]
          },
          "execution_count": 17,
          "metadata": {},
          "output_type": "execute_result"
        }
      ],
      "source": [
        "lista_numeros.append(8)\n",
        "lista_numeros"
      ]
    },
    {
      "cell_type": "code",
      "execution_count": 18,
      "metadata": {
        "colab": {
          "base_uri": "https://localhost:8080/"
        },
        "id": "xpBQ9RZ0MqDe",
        "outputId": "5c7782e6-b4da-4fbc-daf1-d2c975280ac7"
      },
      "outputs": [
        {
          "data": {
            "text/plain": [
              "['a', 'b', 'c']"
            ]
          },
          "execution_count": 18,
          "metadata": {},
          "output_type": "execute_result"
        }
      ],
      "source": [
        "lista_letras"
      ]
    },
    {
      "cell_type": "code",
      "execution_count": 19,
      "metadata": {
        "colab": {
          "base_uri": "https://localhost:8080/"
        },
        "id": "ZrszbZFnMrYO",
        "outputId": "5a95a4d2-cfba-4f98-a211-7d794674c67b"
      },
      "outputs": [
        {
          "data": {
            "text/plain": [
              "['a', 'b', 'c', 'd']"
            ]
          },
          "execution_count": 19,
          "metadata": {},
          "output_type": "execute_result"
        }
      ],
      "source": [
        "lista_letras.append(\"d\")\n",
        "lista_letras"
      ]
    },
    {
      "cell_type": "code",
      "execution_count": 20,
      "metadata": {
        "colab": {
          "base_uri": "https://localhost:8080/"
        },
        "id": "MzQ7hRseNGZT",
        "outputId": "fdbb9991-fa8e-427d-b0f1-921aa021ff31"
      },
      "outputs": [
        {
          "name": "stdout",
          "output_type": "stream",
          "text": [
            "[1, 2, 23, 4, 5, 10, 99, 8]\n",
            "[]\n",
            "['a', 'b', 'c', 'd']\n"
          ]
        }
      ],
      "source": [
        "print(lista_numeros)\n",
        "print(lista_vacia)\n",
        "print(lista_letras)"
      ]
    },
    {
      "cell_type": "code",
      "execution_count": 21,
      "metadata": {
        "colab": {
          "base_uri": "https://localhost:8080/"
        },
        "id": "svr3T_lzNIL3",
        "outputId": "664e64c2-79ab-40ed-8112-a902a03761c2"
      },
      "outputs": [
        {
          "name": "stdout",
          "output_type": "stream",
          "text": [
            "[1]\n"
          ]
        }
      ],
      "source": [
        "lista_vacia.append(1)\n",
        "print(lista_vacia)"
      ]
    },
    {
      "cell_type": "code",
      "execution_count": 22,
      "metadata": {
        "id": "rl6LUmSaRSA8"
      },
      "outputs": [],
      "source": [
        "lista_vacia.clear()"
      ]
    },
    {
      "cell_type": "code",
      "execution_count": 23,
      "metadata": {
        "colab": {
          "base_uri": "https://localhost:8080/"
        },
        "id": "ofjQg3yARToF",
        "outputId": "b2c80775-b406-4cdf-f139-6a3f06be2814"
      },
      "outputs": [
        {
          "name": "stdout",
          "output_type": "stream",
          "text": [
            "[]\n"
          ]
        }
      ],
      "source": [
        "print(lista_vacia)"
      ]
    },
    {
      "cell_type": "markdown",
      "metadata": {},
      "source": [
        "### 3.3 Insert"
      ]
    },
    {
      "cell_type": "markdown",
      "metadata": {},
      "source": [
        "Este permite adicionar en una posición puntual un objeto"
      ]
    },
    {
      "cell_type": "code",
      "execution_count": 24,
      "metadata": {
        "colab": {
          "base_uri": "https://localhost:8080/"
        },
        "id": "Nef0EnF9Nnah",
        "outputId": "523e8fc1-f5d5-47ae-87f6-08f599a79402"
      },
      "outputs": [
        {
          "name": "stdout",
          "output_type": "stream",
          "text": [
            "Help on method_descriptor:\n",
            "\n",
            "insert(self, index, object, /)\n",
            "    Insert object before index.\n",
            "\n"
          ]
        }
      ],
      "source": [
        "help(list.insert)"
      ]
    },
    {
      "cell_type": "code",
      "execution_count": 25,
      "metadata": {
        "colab": {
          "base_uri": "https://localhost:8080/"
        },
        "id": "6t7P0W-9Nqef",
        "outputId": "64ba9d97-e79a-4794-a289-6a2f59bf6832"
      },
      "outputs": [
        {
          "name": "stdout",
          "output_type": "stream",
          "text": [
            "[1, 2, 23, 4, 5, 10, 99, 8]\n"
          ]
        }
      ],
      "source": [
        "print(lista_numeros)"
      ]
    },
    {
      "cell_type": "code",
      "execution_count": 26,
      "metadata": {
        "colab": {
          "base_uri": "https://localhost:8080/"
        },
        "id": "QH73Qk4uNvvd",
        "outputId": "17f482d3-550c-4c35-953e-ace49b5168a3"
      },
      "outputs": [
        {
          "name": "stdout",
          "output_type": "stream",
          "text": [
            "4\n"
          ]
        }
      ],
      "source": [
        "print(lista_numeros[3])"
      ]
    },
    {
      "cell_type": "code",
      "execution_count": 27,
      "metadata": {
        "colab": {
          "base_uri": "https://localhost:8080/"
        },
        "id": "tIvkgbb9RtDr",
        "outputId": "befde72f-153f-472a-9cc7-9c30a6ffcce1"
      },
      "outputs": [
        {
          "name": "stdout",
          "output_type": "stream",
          "text": [
            "[1, 2, 23, 777, 4, 5, 10, 99, 8]\n"
          ]
        }
      ],
      "source": [
        "lista_numeros.insert(3, 777)\n",
        "print(lista_numeros)"
      ]
    },
    {
      "cell_type": "code",
      "execution_count": 28,
      "metadata": {
        "colab": {
          "base_uri": "https://localhost:8080/"
        },
        "id": "ZynZ5YEUN9dD",
        "outputId": "ae4b4a82-3d89-4c5e-ed3b-f5a6f99a8d32"
      },
      "outputs": [
        {
          "name": "stdout",
          "output_type": "stream",
          "text": [
            "[1, 2, 23, 777, 4, 5, 10, 31, 99, 8]\n"
          ]
        }
      ],
      "source": [
        "lista_numeros.insert(-2, 31)\n",
        "print(lista_numeros)"
      ]
    },
    {
      "cell_type": "markdown",
      "metadata": {
        "id": "XB2PZCp4OS3q"
      },
      "source": [
        "```python\n",
        " [1, 2, 23, 777, 4, 5, 10, 31, 99, 8]\n",
        "# 0  1   2    3  4  5   6   7   8  9  # posiciones\n",
        "\n",
        "lista_numeros.insert(4, 31)\n",
        " [1, 2, 23, 777, 4, 5, 10, 31, 99, 8] # Original\n",
        " [1, 2, 23, 777, 31, 4, 5, 10, 31, 99, 8] # Modificada\n",
        "```"
      ]
    },
    {
      "cell_type": "code",
      "execution_count": 29,
      "metadata": {
        "colab": {
          "base_uri": "https://localhost:8080/"
        },
        "id": "QHdj2coNOMCa",
        "outputId": "2257f9ea-c961-4bcf-f2b3-0180fb641585"
      },
      "outputs": [
        {
          "name": "stdout",
          "output_type": "stream",
          "text": [
            "[1, 2, 23, 777, 31, 4, 5, 10, 31, 99, 8]\n"
          ]
        }
      ],
      "source": [
        "lista_numeros.insert(4, 31)\n",
        "print(lista_numeros)"
      ]
    },
    {
      "cell_type": "markdown",
      "metadata": {
        "id": "4mLnVuyDO7DM"
      },
      "source": [
        "```python\n",
        " [ 1,  2, 23, 777, 31, 4, 5, 10, 31, 99, 8]\n",
        "#-11 -10  -9   -8  -7 -6 -5  -4  -3  -2 -1 # posiciones\n",
        "\n",
        "lista_numeros.insert(-3, 48)\n",
        " [1, 2, 23, 777, 31, 4, 5, 10, 31, 99, 8] # Original\n",
        " [1, 2, 23, 777, 31, 4, 5, 10, 48, 31, 99, 8] # Modificada\n",
        "```"
      ]
    },
    {
      "cell_type": "code",
      "execution_count": 30,
      "metadata": {
        "colab": {
          "base_uri": "https://localhost:8080/"
        },
        "id": "GQgjt3hyO6rN",
        "outputId": "288cd994-6888-4500-b1b3-6764f243cdda"
      },
      "outputs": [
        {
          "name": "stdout",
          "output_type": "stream",
          "text": [
            "[1, 2, 23, 777, 31, 4, 5, 10, 48, 31, 99, 8]\n"
          ]
        }
      ],
      "source": [
        "lista_numeros.insert(-3, 48)\n",
        "print(lista_numeros)"
      ]
    },
    {
      "cell_type": "markdown",
      "metadata": {
        "id": "df2SNMbL40ld"
      },
      "source": [
        "### 3.4 Pop\n",
        "\n",
        "Sirve para eliminar elementos de una lista. Debo enviar la posición del elemento que requiero eliminar, de no enviarla se eliminará el último elemento"
      ]
    },
    {
      "cell_type": "code",
      "execution_count": 31,
      "metadata": {
        "colab": {
          "base_uri": "https://localhost:8080/"
        },
        "id": "HUAehLzHQtib",
        "outputId": "fec06a24-c2a7-462e-99f1-f278e4269a95"
      },
      "outputs": [
        {
          "name": "stdout",
          "output_type": "stream",
          "text": [
            "Help on method_descriptor:\n",
            "\n",
            "pop(self, index=-1, /)\n",
            "    Remove and return item at index (default last).\n",
            "    \n",
            "    Raises IndexError if list is empty or index is out of range.\n",
            "\n"
          ]
        }
      ],
      "source": [
        "help(list.pop)"
      ]
    },
    {
      "cell_type": "code",
      "execution_count": 32,
      "metadata": {
        "colab": {
          "base_uri": "https://localhost:8080/"
        },
        "id": "xJw9KlVaQqRK",
        "outputId": "57102844-6154-4112-b0f6-0e19722f6a43"
      },
      "outputs": [
        {
          "data": {
            "text/plain": [
              "[1, 2, 23, 777, 31, 4, 5, 10, 48, 31, 99, 8]"
            ]
          },
          "execution_count": 32,
          "metadata": {},
          "output_type": "execute_result"
        }
      ],
      "source": [
        "lista_numeros"
      ]
    },
    {
      "cell_type": "code",
      "execution_count": 33,
      "metadata": {
        "colab": {
          "base_uri": "https://localhost:8080/"
        },
        "id": "knaKBSCKSu88",
        "outputId": "71722472-7ac4-4138-e373-cb55b1f9c0aa"
      },
      "outputs": [
        {
          "name": "stdout",
          "output_type": "stream",
          "text": [
            "[1, 2, 23, 777, 31, 4, 5, 10, 48, 31, 99]\n"
          ]
        }
      ],
      "source": [
        "lista_numeros.pop()\n",
        "print(lista_numeros)"
      ]
    },
    {
      "cell_type": "code",
      "execution_count": 34,
      "metadata": {
        "colab": {
          "base_uri": "https://localhost:8080/"
        },
        "id": "ZpSAnXiHTBtP",
        "outputId": "1b297c73-3034-45e3-ce64-442f1253bfc4"
      },
      "outputs": [
        {
          "name": "stdout",
          "output_type": "stream",
          "text": [
            "[1, 2, 23, 31, 4, 5, 10, 48, 31, 99]\n"
          ]
        }
      ],
      "source": [
        "lista_numeros.pop(3)\n",
        "print(lista_numeros)"
      ]
    },
    {
      "cell_type": "markdown",
      "metadata": {
        "id": "y9IE3DVD5C8o"
      },
      "source": [
        "### 3.5 Remove\n",
        "\n",
        "Elimina elementos de una lista. Si el valor existe más de una vez en la lista, solo se elimina el primero."
      ]
    },
    {
      "cell_type": "code",
      "execution_count": 35,
      "metadata": {
        "colab": {
          "base_uri": "https://localhost:8080/"
        },
        "id": "fKtniYnMRgmC",
        "outputId": "6dff2e1a-4a87-4b0d-eada-c87c4b31b642"
      },
      "outputs": [
        {
          "name": "stdout",
          "output_type": "stream",
          "text": [
            "Help on method_descriptor:\n",
            "\n",
            "remove(self, value, /)\n",
            "    Remove first occurrence of value.\n",
            "    \n",
            "    Raises ValueError if the value is not present.\n",
            "\n"
          ]
        }
      ],
      "source": [
        "help(list.remove)"
      ]
    },
    {
      "cell_type": "code",
      "execution_count": 36,
      "metadata": {
        "colab": {
          "base_uri": "https://localhost:8080/"
        },
        "id": "d7pwQOK3Ru8A",
        "outputId": "55e11193-ebc3-4f8a-80b1-2ba02587da62"
      },
      "outputs": [
        {
          "name": "stdout",
          "output_type": "stream",
          "text": [
            "[1, 2, 23, 31, 4, 5, 10, 48, 31, 99]\n"
          ]
        }
      ],
      "source": [
        "print(lista_numeros)"
      ]
    },
    {
      "cell_type": "code",
      "execution_count": 37,
      "metadata": {
        "colab": {
          "base_uri": "https://localhost:8080/"
        },
        "id": "bSm-GJhWR1Cy",
        "outputId": "79fbcbcf-2c0b-4f8f-b3bb-2cb5d4dc71c6"
      },
      "outputs": [
        {
          "name": "stdout",
          "output_type": "stream",
          "text": [
            "[1, 2, 23, 4, 5, 10, 48, 31, 99]\n"
          ]
        }
      ],
      "source": [
        "lista_numeros.remove(31)\n",
        "print(lista_numeros)"
      ]
    },
    {
      "cell_type": "code",
      "execution_count": 38,
      "metadata": {
        "colab": {
          "base_uri": "https://localhost:8080/"
        },
        "id": "PMx0ZPFbR-9I",
        "outputId": "8a0f33e5-e945-4dd5-fb09-334b59106ecd"
      },
      "outputs": [
        {
          "name": "stdout",
          "output_type": "stream",
          "text": [
            "[1, 2, 23, 4, 5, 10, 48, 99]\n"
          ]
        }
      ],
      "source": [
        "lista_numeros.remove(31)\n",
        "print(lista_numeros)"
      ]
    },
    {
      "cell_type": "code",
      "execution_count": 39,
      "metadata": {
        "colab": {
          "base_uri": "https://localhost:8080/"
        },
        "id": "os0RmIxkTW2f",
        "outputId": "e056cc89-c9bc-4508-ba0a-5c5e13c013cf"
      },
      "outputs": [
        {
          "name": "stdout",
          "output_type": "stream",
          "text": [
            "[1, 2, 23, 4, 5, 10, 48, 99, 2]\n"
          ]
        }
      ],
      "source": [
        "lista_numeros.append(2)\n",
        "print(lista_numeros)"
      ]
    },
    {
      "cell_type": "code",
      "execution_count": 40,
      "metadata": {
        "colab": {
          "base_uri": "https://localhost:8080/"
        },
        "id": "7trSB3wUTkCC",
        "outputId": "a8388b77-4292-4682-b48e-4ca837e4097a"
      },
      "outputs": [
        {
          "name": "stdout",
          "output_type": "stream",
          "text": [
            "[1, 23, 4, 5, 10, 48, 99, 2]\n"
          ]
        }
      ],
      "source": [
        "lista_numeros.remove(2)\n",
        "print(lista_numeros)"
      ]
    },
    {
      "cell_type": "markdown",
      "metadata": {
        "id": "9kIYN66-5Qan"
      },
      "source": [
        "### 3.6 Extend\n",
        "\n",
        "Permite unir elementos de una lista con otra lista"
      ]
    },
    {
      "cell_type": "code",
      "execution_count": 41,
      "metadata": {
        "colab": {
          "base_uri": "https://localhost:8080/"
        },
        "id": "6nW9_5HrSyoC",
        "outputId": "1dfb3af5-7902-469c-c697-074823f39c61"
      },
      "outputs": [
        {
          "name": "stdout",
          "output_type": "stream",
          "text": [
            "Help on method_descriptor:\n",
            "\n",
            "extend(self, iterable, /)\n",
            "    Extend list by appending elements from the iterable.\n",
            "\n"
          ]
        }
      ],
      "source": [
        "help(list.extend)"
      ]
    },
    {
      "cell_type": "code",
      "execution_count": 42,
      "metadata": {
        "colab": {
          "base_uri": "https://localhost:8080/"
        },
        "id": "zNSKtUANT3s2",
        "outputId": "2b2d3ba3-a26f-4a80-b738-452900a9d7b5"
      },
      "outputs": [
        {
          "name": "stdout",
          "output_type": "stream",
          "text": [
            "[1, 23, 4, 5, 10, 48, 99, 2, [4, 5]]\n"
          ]
        }
      ],
      "source": [
        "# append\n",
        "lista_numeros.append([4, 5])\n",
        "print(lista_numeros)"
      ]
    },
    {
      "cell_type": "code",
      "execution_count": 43,
      "metadata": {
        "colab": {
          "base_uri": "https://localhost:8080/"
        },
        "id": "WDp1mS2_Urbi",
        "outputId": "a5f5af9a-5b3d-4ffb-f298-bad0a18e6b08"
      },
      "outputs": [
        {
          "name": "stdout",
          "output_type": "stream",
          "text": [
            "[1, 23, 4, 5, 10, 48, 99, 2, [4, 5], 4, 5]\n"
          ]
        }
      ],
      "source": [
        "# extend | lista numeros\n",
        "lista_numeros.extend([4, 5])\n",
        "print(lista_numeros)"
      ]
    },
    {
      "cell_type": "code",
      "execution_count": 44,
      "metadata": {
        "colab": {
          "base_uri": "https://localhost:8080/"
        },
        "id": "aTTEW1iwTZ7d",
        "outputId": "543fcfca-86df-448f-ac3a-293bcc6a1f3e"
      },
      "outputs": [
        {
          "name": "stdout",
          "output_type": "stream",
          "text": [
            "[4, 5]\n"
          ]
        }
      ],
      "source": [
        "print(lista_numeros[8])"
      ]
    },
    {
      "cell_type": "code",
      "execution_count": 45,
      "metadata": {
        "colab": {
          "base_uri": "https://localhost:8080/"
        },
        "id": "dP6FSehNTh0s",
        "outputId": "88de020d-a4e9-47cb-ff6b-53f904f4d033"
      },
      "outputs": [
        {
          "name": "stdout",
          "output_type": "stream",
          "text": [
            "4\n"
          ]
        }
      ],
      "source": [
        "print(lista_numeros[9])"
      ]
    },
    {
      "cell_type": "code",
      "execution_count": 46,
      "metadata": {
        "colab": {
          "base_uri": "https://localhost:8080/"
        },
        "id": "hKVgVlsUTRRa",
        "outputId": "ee2433c2-2e72-4e2a-b070-0ec78df9ad7a"
      },
      "outputs": [
        {
          "name": "stdout",
          "output_type": "stream",
          "text": [
            "[1, 23, 4, 5, 10, 48, 99, 2, [4, 5], 4, 5, 23, 67]\n"
          ]
        }
      ],
      "source": [
        "lista_numeros.extend([23, 67])\n",
        "print(lista_numeros)"
      ]
    },
    {
      "cell_type": "code",
      "execution_count": 47,
      "metadata": {
        "colab": {
          "base_uri": "https://localhost:8080/"
        },
        "id": "7nMCyRGxTopw",
        "outputId": "a2b0bf96-502a-438e-ac11-e3383c5d1d89"
      },
      "outputs": [
        {
          "name": "stdout",
          "output_type": "stream",
          "text": [
            "[1, 23, 4, 5, 10, 48, 99, 2, [4, 5], 4, 5, 23, 67, 12, 34, 56, 78]\n"
          ]
        }
      ],
      "source": [
        "lista_numeros.extend([12, 34, 56, 78])\n",
        "print(lista_numeros)"
      ]
    },
    {
      "cell_type": "code",
      "execution_count": 48,
      "metadata": {
        "colab": {
          "base_uri": "https://localhost:8080/"
        },
        "id": "JlQ3l6IZTwYC",
        "outputId": "50750c87-c49e-473c-bcc6-4918c431498e"
      },
      "outputs": [
        {
          "name": "stdout",
          "output_type": "stream",
          "text": [
            "[1, 23, 4, 5, 10, 48, 99, 2, [4, 5], 4, 5, 23, 67, 12, 34, 56, 78, 23, 34, 45]\n"
          ]
        }
      ],
      "source": [
        "lista_numeros2 = [23, 34, 45]\n",
        "lista_numeros.extend(lista_numeros2)\n",
        "print(lista_numeros)"
      ]
    },
    {
      "cell_type": "code",
      "execution_count": 49,
      "metadata": {
        "colab": {
          "base_uri": "https://localhost:8080/"
        },
        "id": "otDQyglPU7uv",
        "outputId": "57fcfd90-9cdf-4007-bffc-e8bd572d4400"
      },
      "outputs": [
        {
          "name": "stdout",
          "output_type": "stream",
          "text": [
            "[1, 23, 4, 5, 10, 48, 99, 2, [4, 5], 4, 5, 23, 67, 12, 34, 56, 78, 23, 34, 45, 23, 34, 45]\n"
          ]
        }
      ],
      "source": [
        "lista_numeros2 = [23, 34, 45]\n",
        "lista_numeros.extend(lista_numeros2)\n",
        "print(lista_numeros)"
      ]
    },
    {
      "cell_type": "code",
      "execution_count": 50,
      "metadata": {
        "colab": {
          "base_uri": "https://localhost:8080/"
        },
        "id": "aHHndLRbU13-",
        "outputId": "8ba514e3-36d0-47c4-dd47-6703010e5143"
      },
      "outputs": [
        {
          "name": "stdout",
          "output_type": "stream",
          "text": [
            "antes   -->  ['a', 'b', 'c', 'd']\n",
            "despues -->  ['a', 'b', 'c', 'd', '2', '3', '4', '2', '4', '2', '!', '@', '&', '/', '(']\n"
          ]
        }
      ],
      "source": [
        "# extend | cadenas de texto\n",
        "print(\"antes   --> \", lista_letras)\n",
        "lista_letras.extend(\"234242!@&/(\")\n",
        "print(\"despues --> \", lista_letras)"
      ]
    },
    {
      "cell_type": "markdown",
      "metadata": {
        "id": "Mu2mvRi0520b"
      },
      "source": [
        "### 3.7 Count\n",
        "\n",
        "Cuenta la cantidad de veces que se repite un elemento en una lista"
      ]
    },
    {
      "cell_type": "code",
      "execution_count": 51,
      "metadata": {
        "colab": {
          "base_uri": "https://localhost:8080/"
        },
        "id": "4FwWqOmXVGPq",
        "outputId": "dc344c9e-41bb-4916-d96f-476c4b1060b5"
      },
      "outputs": [
        {
          "name": "stdout",
          "output_type": "stream",
          "text": [
            "Help on method_descriptor:\n",
            "\n",
            "count(self, value, /)\n",
            "    Return number of occurrences of value.\n",
            "\n"
          ]
        }
      ],
      "source": [
        "help(list.count)"
      ]
    },
    {
      "cell_type": "code",
      "execution_count": 52,
      "metadata": {
        "colab": {
          "base_uri": "https://localhost:8080/"
        },
        "id": "bTIMZymNVKx5",
        "outputId": "05a6bd34-0719-4572-8c08-d640deaeffa3"
      },
      "outputs": [
        {
          "name": "stdout",
          "output_type": "stream",
          "text": [
            "[1, 23, 4, 5, 10, 48, 99, 2, [4, 5], 4, 5, 23, 67, 12, 34, 56, 78, 23, 34, 45, 23, 34, 45]\n"
          ]
        }
      ],
      "source": [
        "print(lista_numeros)"
      ]
    },
    {
      "cell_type": "code",
      "execution_count": 53,
      "metadata": {
        "colab": {
          "base_uri": "https://localhost:8080/"
        },
        "id": "5cMjFj6NVON0",
        "outputId": "641124b3-fa4b-400d-ffac-d636473922b4"
      },
      "outputs": [
        {
          "data": {
            "text/plain": [
              "4"
            ]
          },
          "execution_count": 53,
          "metadata": {},
          "output_type": "execute_result"
        }
      ],
      "source": [
        "lista_numeros.count(23)"
      ]
    },
    {
      "cell_type": "code",
      "execution_count": 54,
      "metadata": {
        "colab": {
          "base_uri": "https://localhost:8080/"
        },
        "id": "y91AICBtVfWr",
        "outputId": "7f77811f-30f8-4bb7-f7ce-1e79b97d1536"
      },
      "outputs": [
        {
          "data": {
            "text/plain": [
              "['a', 'b', 'c', 'd', '2', '3', '4', '2', '4', '2', '!', '@', '&', '/', '(']"
            ]
          },
          "execution_count": 54,
          "metadata": {},
          "output_type": "execute_result"
        }
      ],
      "source": [
        "lista_letras"
      ]
    },
    {
      "cell_type": "code",
      "execution_count": 55,
      "metadata": {
        "colab": {
          "base_uri": "https://localhost:8080/"
        },
        "id": "qiE9Gj_1VrDA",
        "outputId": "c9712ca4-5edf-4774-fc27-d398f494333e"
      },
      "outputs": [
        {
          "name": "stdout",
          "output_type": "stream",
          "text": [
            "forma # 1 --> :  23\n",
            "forma # 2 --> :  4\n",
            "forma # 2 --> :  2\n"
          ]
        }
      ],
      "source": [
        "print(\"forma # 1 --> : \", len(lista_numeros))  # total de elementos de la lista\n",
        "print(\n",
        "    \"forma # 2 --> : \", lista_numeros.count(23)\n",
        ")  # cuenta la cantidad de ocurrencias del valor 23\n",
        "print(\n",
        "    \"forma # 2 --> : \", lista_letras.count(\"4\")\n",
        ")  # cuenta la cantidad de ocurrencias del valor '4'"
      ]
    },
    {
      "cell_type": "code",
      "execution_count": 56,
      "metadata": {
        "colab": {
          "base_uri": "https://localhost:8080/"
        },
        "id": "BiUlrBGRVv6_",
        "outputId": "cfba0066-6075-498f-9e24-cfdefe351084"
      },
      "outputs": [
        {
          "data": {
            "text/plain": [
              "10"
            ]
          },
          "execution_count": 56,
          "metadata": {},
          "output_type": "execute_result"
        }
      ],
      "source": [
        "len(\"palabra! *\")"
      ]
    },
    {
      "cell_type": "code",
      "execution_count": 57,
      "metadata": {
        "colab": {
          "base_uri": "https://localhost:8080/"
        },
        "id": "wwnZOJ9SWfKc",
        "outputId": "c850185b-4373-470e-8760-07812221e596"
      },
      "outputs": [
        {
          "name": "stdout",
          "output_type": "stream",
          "text": [
            "[1, 23, 4, 5, 10, 48, 99, 2, [4, 5], 4, 5, 23, 67, 12, 34, 56, 78, 23, 34, 45, 23, 34, 45]\n"
          ]
        }
      ],
      "source": [
        "print(lista_numeros)"
      ]
    },
    {
      "cell_type": "code",
      "execution_count": 58,
      "metadata": {
        "colab": {
          "base_uri": "https://localhost:8080/"
        },
        "id": "oyWdEOLaW8Co",
        "outputId": "9a7456b5-57aa-4066-a872-a68be46eb932"
      },
      "outputs": [
        {
          "data": {
            "text/plain": [
              "[4, 5]"
            ]
          },
          "execution_count": 58,
          "metadata": {},
          "output_type": "execute_result"
        }
      ],
      "source": [
        "# eliminar lista para que queden del mismo tipo\n",
        "lista_numeros.pop(8)"
      ]
    },
    {
      "cell_type": "code",
      "execution_count": 59,
      "metadata": {
        "colab": {
          "base_uri": "https://localhost:8080/"
        },
        "id": "F1YhAa3yWmDR",
        "outputId": "4d8033c7-9f17-4cc1-ef6b-beef97f37cc8"
      },
      "outputs": [
        {
          "name": "stdout",
          "output_type": "stream",
          "text": [
            "[1, 23, 4, 5, 10, 48, 99, 2, 4, 5, 23, 67, 12, 34, 56, 78, 23, 34, 45, 23, 34, 45]\n"
          ]
        }
      ],
      "source": [
        "print(lista_numeros)"
      ]
    },
    {
      "cell_type": "markdown",
      "metadata": {
        "id": "cm6MoePUXM3t"
      },
      "source": [
        "### Bonus: COPY, y copy por slice"
      ]
    },
    {
      "cell_type": "code",
      "execution_count": 60,
      "metadata": {
        "colab": {
          "base_uri": "https://localhost:8080/"
        },
        "id": "SqvJ0TWAXQP0",
        "outputId": "95384282-1918-41f5-8164-c64e626e42a6"
      },
      "outputs": [
        {
          "name": "stdout",
          "output_type": "stream",
          "text": [
            "Help on method_descriptor:\n",
            "\n",
            "copy(self, /)\n",
            "    Return a shallow copy of the list.\n",
            "\n"
          ]
        }
      ],
      "source": [
        "help(list.copy)"
      ]
    },
    {
      "cell_type": "code",
      "execution_count": 61,
      "metadata": {
        "id": "cTuQwWEBXU0Q"
      },
      "outputs": [],
      "source": [
        "lista_ejemplo = [1, 2, 3]\n",
        "lista_ejemplo2 = lista_ejemplo.copy()  # Una copia de la lista original\n",
        "lista_ejemplo3 = lista_ejemplo[:]  # Una copia de la lista original\n",
        "lista_ejemplo4 = lista_ejemplo  # Es la misma lista PAO PAO No utilizar!!!"
      ]
    },
    {
      "cell_type": "code",
      "execution_count": 62,
      "metadata": {
        "colab": {
          "base_uri": "https://localhost:8080/"
        },
        "id": "reG1TmE9XMb0",
        "outputId": "1b5fc9d7-2289-4550-c306-bfbf13ad11b7"
      },
      "outputs": [
        {
          "name": "stdout",
          "output_type": "stream",
          "text": [
            "[1, 2, 3]\n",
            "[1, 2, 3]\n",
            "[1, 2, 3]\n",
            "[1, 2, 3]\n"
          ]
        }
      ],
      "source": [
        "print(lista_ejemplo)\n",
        "print(lista_ejemplo2)\n",
        "print(lista_ejemplo3)\n",
        "print(lista_ejemplo4)"
      ]
    },
    {
      "cell_type": "code",
      "execution_count": 63,
      "metadata": {
        "id": "w-zRFXMTXk3b"
      },
      "outputs": [],
      "source": [
        "lista_ejemplo.append(4)"
      ]
    },
    {
      "cell_type": "code",
      "execution_count": 64,
      "metadata": {
        "colab": {
          "base_uri": "https://localhost:8080/"
        },
        "id": "jS0wseBKXo6N",
        "outputId": "a80863c2-9922-4912-bdae-247ef485868e"
      },
      "outputs": [
        {
          "name": "stdout",
          "output_type": "stream",
          "text": [
            "lista_ejemplo [1, 2, 3, 4]\n",
            "lista_ejemplo2 [1, 2, 3]\n",
            "lista_ejemplo3 [1, 2, 3]\n",
            "lista_ejemplo4 [1, 2, 3, 4]\n"
          ]
        }
      ],
      "source": [
        "print(\"lista_ejemplo\", lista_ejemplo)\n",
        "print(\"lista_ejemplo2\", lista_ejemplo2)\n",
        "print(\"lista_ejemplo3\", lista_ejemplo3)\n",
        "print(\"lista_ejemplo4\", lista_ejemplo4)"
      ]
    },
    {
      "cell_type": "code",
      "execution_count": 65,
      "metadata": {
        "id": "oiSw2n4iYj9P"
      },
      "outputs": [],
      "source": [
        "lista_ejemplo4.append(5)"
      ]
    },
    {
      "cell_type": "code",
      "execution_count": 66,
      "metadata": {
        "colab": {
          "base_uri": "https://localhost:8080/"
        },
        "id": "_T3_5W0CYnGx",
        "outputId": "d4c15849-4f3f-4b32-ba87-6ad3c845d7c4"
      },
      "outputs": [
        {
          "name": "stdout",
          "output_type": "stream",
          "text": [
            "lista_original [1, 2, 3, 4, 5]\n",
            "lista_ejemplo2 [1, 2, 3]\n",
            "lista_ejemplo3 [1, 2, 3]\n",
            "lista_ejemplo4 [1, 2, 3, 4, 5]\n"
          ]
        }
      ],
      "source": [
        "print(\"lista_original\", lista_ejemplo)\n",
        "print(\"lista_ejemplo2\", lista_ejemplo2)\n",
        "print(\"lista_ejemplo3\", lista_ejemplo3)\n",
        "print(\"lista_ejemplo4\", lista_ejemplo4)"
      ]
    },
    {
      "cell_type": "code",
      "execution_count": 67,
      "metadata": {
        "colab": {
          "base_uri": "https://localhost:8080/"
        },
        "id": "iobZecyXXq7P",
        "outputId": "64192d1e-461b-4f24-f9ee-02efe9cbb547"
      },
      "outputs": [
        {
          "name": "stdout",
          "output_type": "stream",
          "text": [
            "[1, 2, 3]\n"
          ]
        }
      ],
      "source": [
        "print(lista_ejemplo2)"
      ]
    },
    {
      "cell_type": "markdown",
      "metadata": {
        "id": "4MvGraP46JKZ"
      },
      "source": [
        "### 3.8 Sort\n",
        "\n",
        "Orderna los elementos de una lista. Si se le envía el parametro `reverse=True` el ordenamiento será en formato descendente."
      ]
    },
    {
      "cell_type": "code",
      "execution_count": 68,
      "metadata": {
        "colab": {
          "base_uri": "https://localhost:8080/"
        },
        "id": "hgvAb4eWWuJj",
        "outputId": "a9230b9b-d4b4-44ce-ea8b-560a8d7ec114"
      },
      "outputs": [
        {
          "name": "stdout",
          "output_type": "stream",
          "text": [
            "Help on method_descriptor:\n",
            "\n",
            "sort(self, /, *, key=None, reverse=False)\n",
            "    Sort the list in ascending order and return None.\n",
            "    \n",
            "    The sort is in-place (i.e. the list itself is modified) and stable (i.e. the\n",
            "    order of two equal elements is maintained).\n",
            "    \n",
            "    If a key function is given, apply it once to each list item and sort them,\n",
            "    ascending or descending, according to their function values.\n",
            "    \n",
            "    The reverse flag can be set to sort in descending order.\n",
            "\n"
          ]
        }
      ],
      "source": [
        "help(list.sort)"
      ]
    },
    {
      "cell_type": "code",
      "execution_count": 69,
      "metadata": {
        "id": "K7MIeNOwZYEp"
      },
      "outputs": [],
      "source": [
        "lista_ejemplo.sort(reverse=True)"
      ]
    },
    {
      "cell_type": "code",
      "execution_count": 70,
      "metadata": {
        "colab": {
          "base_uri": "https://localhost:8080/"
        },
        "id": "vKOyWoP4ZdIN",
        "outputId": "ce4d031c-a5da-44f4-8464-27b5a83da680"
      },
      "outputs": [
        {
          "name": "stdout",
          "output_type": "stream",
          "text": [
            "lista_original [5, 4, 3, 2, 1]\n",
            "lista_ejemplo2 [1, 2, 3]\n",
            "lista_ejemplo3 [1, 2, 3]\n",
            "lista_ejemplo4 [5, 4, 3, 2, 1]\n"
          ]
        }
      ],
      "source": [
        "print(\"lista_original\", lista_ejemplo)\n",
        "print(\"lista_ejemplo2\", lista_ejemplo2)\n",
        "print(\"lista_ejemplo3\", lista_ejemplo3)\n",
        "print(\"lista_ejemplo4\", lista_ejemplo4)"
      ]
    },
    {
      "cell_type": "code",
      "execution_count": 71,
      "metadata": {
        "colab": {
          "base_uri": "https://localhost:8080/"
        },
        "id": "LNAc2mgTZoJJ",
        "outputId": "6e883c84-fde1-4421-9831-d311c4676a79"
      },
      "outputs": [
        {
          "name": "stdout",
          "output_type": "stream",
          "text": [
            "[1, 23, 4, 5, 10, 48, 99, 2, 4, 5, 23, 67, 12, 34, 56, 78, 23, 34, 45, 23, 34, 45]\n"
          ]
        }
      ],
      "source": [
        "print(lista_numeros)"
      ]
    },
    {
      "cell_type": "code",
      "execution_count": 72,
      "metadata": {
        "colab": {
          "base_uri": "https://localhost:8080/"
        },
        "id": "8uQmroQkZq-7",
        "outputId": "5e354352-8912-41ea-a21b-3cd817284467"
      },
      "outputs": [
        {
          "name": "stdout",
          "output_type": "stream",
          "text": [
            "[1, 2, 4, 4, 5, 5, 10, 12, 23, 23, 23, 23, 34, 34, 34, 45, 45, 48, 56, 67, 78, 99]\n",
            "[1, 23, 4, 5, 10, 48, 99, 2, 4, 5, 23, 67, 12, 34, 56, 78, 23, 34, 45, 23, 34, 45]\n"
          ]
        }
      ],
      "source": [
        "lista_numeros_bak = lista_numeros[:]\n",
        "lista_numeros.sort()\n",
        "\n",
        "print(lista_numeros)\n",
        "print(lista_numeros_bak)"
      ]
    },
    {
      "cell_type": "code",
      "execution_count": 73,
      "metadata": {
        "colab": {
          "base_uri": "https://localhost:8080/"
        },
        "id": "jEjJT7KuWZ_O",
        "outputId": "70210c51-caec-4af3-f413-8156463e8fc1"
      },
      "outputs": [
        {
          "name": "stdout",
          "output_type": "stream",
          "text": [
            "[1, 2, 4, 4, 5, 5, 10, 12, 23, 23, 23, 23, 34, 34, 34, 45, 45, 48, 56, 67, 78, 99]\n",
            "[1, 2, 4, 4, 5, 5, 10, 12, 23, 23, 23, 23, 34, 34, 34, 45, 45, 48, 56, 67, 78, 99]\n"
          ]
        }
      ],
      "source": [
        "print(lista_numeros)\n",
        "lista_numeros.sort()\n",
        "print(lista_numeros)"
      ]
    },
    {
      "cell_type": "code",
      "execution_count": 74,
      "metadata": {
        "colab": {
          "base_uri": "https://localhost:8080/"
        },
        "id": "pl9ZS44uXKv6",
        "outputId": "fa1ddf9c-8ccd-48ea-9bc4-f0ab6d14e09c"
      },
      "outputs": [
        {
          "name": "stdout",
          "output_type": "stream",
          "text": [
            "[1, 2, 4, 4, 5, 5, 10, 12, 23, 23, 23, 23, 34, 34, 34, 45, 45, 48, 56, 67, 78, 99]\n",
            "[99, 78, 67, 56, 48, 45, 45, 34, 34, 34, 23, 23, 23, 23, 12, 10, 5, 5, 4, 4, 2, 1]\n"
          ]
        }
      ],
      "source": [
        "print(lista_numeros)\n",
        "lista_numeros.sort(reverse=True)\n",
        "print(lista_numeros)"
      ]
    },
    {
      "cell_type": "code",
      "execution_count": 75,
      "metadata": {
        "colab": {
          "base_uri": "https://localhost:8080/"
        },
        "id": "-cEC0gAMXU1d",
        "outputId": "2abba751-1f14-4d27-852e-1ae9cd71f45c"
      },
      "outputs": [
        {
          "name": "stdout",
          "output_type": "stream",
          "text": [
            "[1, 2, 4, 4, 5, 5, 10, 12, 23, 23, 23, 23, 34, 34, 34, 45, 45, 48, 56, 67, 78, 99]\n"
          ]
        }
      ],
      "source": [
        "print(lista_numeros[::-1])"
      ]
    },
    {
      "cell_type": "code",
      "execution_count": 76,
      "metadata": {
        "colab": {
          "base_uri": "https://localhost:8080/"
        },
        "id": "e0uQ2R2_aRAZ",
        "outputId": "081142ac-bea7-4701-e05b-82539791afaf"
      },
      "outputs": [
        {
          "name": "stdout",
          "output_type": "stream",
          "text": [
            "['!', '&', '(', '/', '2', '2', '2', '3', '4', '4', '@', 'a', 'b', 'c', 'd']\n",
            "['a', 'b', 'c', 'd', '2', '3', '4', '2', '4', '2', '!', '@', '&', '/', '(']\n"
          ]
        }
      ],
      "source": [
        "lista_letras_bak = lista_letras[:]\n",
        "lista_letras.sort()\n",
        "\n",
        "print(lista_letras)\n",
        "print(lista_letras_bak)"
      ]
    },
    {
      "cell_type": "code",
      "execution_count": 77,
      "metadata": {
        "colab": {
          "base_uri": "https://localhost:8080/"
        },
        "id": "W93-sWUkamo7",
        "outputId": "c4a7bda5-9968-4b17-c6b2-f2b1a329cd11"
      },
      "outputs": [
        {
          "name": "stdout",
          "output_type": "stream",
          "text": [
            "original ['Ford', 'Mitsubishi', 'BMW', 'VW']\n",
            "ordenamiento simple ['BMW', 'Ford', 'Mitsubishi', 'VW']\n",
            "ordenamiento especial ['VW', 'BMW', 'Ford', 'Mitsubishi']\n",
            "ordenamiento especial (inverso) ['Mitsubishi', 'Ford', 'BMW', 'VW']\n"
          ]
        }
      ],
      "source": [
        "def myFunc(e):\n",
        "    return len(e)  # Le calculo la longitud del valor ingresado\n",
        "\n",
        "\n",
        "cars = [\"Ford\", \"Mitsubishi\", \"BMW\", \"VW\"]\n",
        "print(\"original\", cars)\n",
        "cars.sort()\n",
        "print(\"ordenamiento simple\", cars)\n",
        "cars.sort(key=myFunc)\n",
        "print(\"ordenamiento especial\", cars)\n",
        "cars.sort(key=myFunc, reverse=True)\n",
        "print(\"ordenamiento especial (inverso)\", cars)"
      ]
    },
    {
      "cell_type": "markdown",
      "metadata": {
        "id": "ZFBfOhgt69px"
      },
      "source": [
        "### 3.9 Slices"
      ]
    },
    {
      "cell_type": "code",
      "execution_count": 78,
      "metadata": {
        "colab": {
          "base_uri": "https://localhost:8080/"
        },
        "id": "d6NfFOEvXgul",
        "outputId": "ffd00495-38e5-424d-bedd-b78a6210b423"
      },
      "outputs": [
        {
          "name": "stdout",
          "output_type": "stream",
          "text": [
            "0. valor original    -->  [99, 78, 67, 56, 48, 45, 45, 34, 34, 34, 23, 23, 23, 23, 12, 10, 5, 5, 4, 4, 2, 1]\n",
            "1. valor especifico  -->  78\n",
            "2. ultimo valor      -->  1\n",
            "3. rango valores     -->  [99, 78, 67, 56, 48]\n",
            "6. salteos           -->  [99, 67, 48, 45, 34, 23, 23, 12, 5, 4, 2]\n"
          ]
        }
      ],
      "source": [
        "print(\"0. valor original    --> \", lista_numeros)\n",
        "print(\"1. valor especifico  --> \", lista_numeros[1])\n",
        "print(\"2. ultimo valor      --> \", lista_numeros[-1])\n",
        "print(\"3. rango valores     --> \", lista_numeros[:5])\n",
        "print(\"6. salteos           --> \", lista_numeros[::2])"
      ]
    }
  ],
  "metadata": {
    "colab": {
      "collapsed_sections": [],
      "provenance": []
    },
    "kernelspec": {
      "display_name": "Python 3",
      "name": "python3"
    },
    "language_info": {
      "codemirror_mode": {
        "name": "ipython",
        "version": 3
      },
      "file_extension": ".py",
      "mimetype": "text/x-python",
      "name": "python",
      "nbconvert_exporter": "python",
      "pygments_lexer": "ipython3",
      "version": "3.9.19"
    }
  },
  "nbformat": 4,
  "nbformat_minor": 0
}
