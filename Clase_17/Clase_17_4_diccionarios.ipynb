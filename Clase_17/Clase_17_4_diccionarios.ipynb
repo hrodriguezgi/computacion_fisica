{
  "cells": [
    {
      "cell_type": "markdown",
      "metadata": {
        "id": "ZNLqJkN-oK-6"
      },
      "source": [
        "# Manejo de Python"
      ]
    },
    {
      "cell_type": "markdown",
      "metadata": {
        "id": "wio4NuwD1CZ4"
      },
      "source": [
        "## 1. Diccionarios\n",
        "\n",
        "Son estructuras de datos no ordenadas, las cual se representan por llave y por valor, y pueden tener multiples elementos\n",
        "\n",
        "<img src=\"http://www.trytoprogram.com/images/python_dictionary.jpg\"\n",
        "  width=\"700\"\n",
        "  height=\"300\"  class=\"center\"/>\n",
        "\n",
        "Consideraciones: \n",
        "\n",
        "\n",
        "1.   Si vas a asignar varios elementos en un diccionario, deben ir separados por \",\" menos el ultimo\n",
        "2.   Las llaves son únicas\n",
        "3.   Si asigno un valor a una llave existente, no crea una nueva llave, pero si remplaza el valor\n",
        "4.   Las llaves pueden ser de otros tipos de datos diferentes a texto\n",
        "5.   Si la llave no existe la crea automáticamente al momento de asignar valor\n",
        "6.   Si la llave no existe y se quiere acceder a ella, genera error\n",
        "7.   Me permite manejar niveles\n",
        "8.   Los valores pueden ser cualquier tipo de dato\n"
      ]
    },
    {
      "cell_type": "code",
      "execution_count": 63,
      "metadata": {
        "colab": {
          "base_uri": "https://localhost:8080/"
        },
        "id": "GA4nuFqAoTHe",
        "outputId": "75914d07-4d96-447e-e28f-01c732c0d7a1"
      },
      "outputs": [],
      "source": [
        "# help(dict)"
      ]
    },
    {
      "cell_type": "code",
      "execution_count": 64,
      "metadata": {
        "colab": {
          "base_uri": "https://localhost:8080/"
        },
        "id": "Rzz-JRjg0vNv",
        "outputId": "ef47b3ef-4882-4c10-9422-6c150538b64e"
      },
      "outputs": [
        {
          "name": "stdout",
          "output_type": "stream",
          "text": [
            "{} <class 'dict'>\n"
          ]
        }
      ],
      "source": [
        "# Puedo crear un diccionario vacio\n",
        "dic = {}\n",
        "print(dic, type(dic))"
      ]
    },
    {
      "cell_type": "code",
      "execution_count": 65,
      "metadata": {
        "colab": {
          "base_uri": "https://localhost:8080/"
        },
        "id": "fdTfeUsMZDyo",
        "outputId": "c4cef55e-8403-49b3-8133-11c1c45c8c92"
      },
      "outputs": [
        {
          "name": "stdout",
          "output_type": "stream",
          "text": [
            "{'llave': 'valor -> list,tuple,float, dict, sets', 'hola': 'tod@s', 'c': 10}\n"
          ]
        }
      ],
      "source": [
        "# Diccionario con valores\n",
        "dic2 = {\n",
        "    \"llave\": \"valor -> list,tuple,float, dict, sets\",\n",
        "    \"hola\": \"tod@s\",\n",
        "    \"c\": 10\n",
        "    }\n",
        "\n",
        "print(dic2)"
      ]
    },
    {
      "cell_type": "code",
      "execution_count": 66,
      "metadata": {
        "colab": {
          "base_uri": "https://localhost:8080/"
        },
        "id": "DQxwJMaDLEZ-",
        "outputId": "0ce2dd53-8f48-4971-e924-d432f3bf0e1f"
      },
      "outputs": [
        {
          "data": {
            "text/plain": [
              "str"
            ]
          },
          "execution_count": 66,
          "metadata": {},
          "output_type": "execute_result"
        }
      ],
      "source": [
        "valor = \"valor -> list,tuple,float, dict, sets\"\n",
        "type(valor)"
      ]
    },
    {
      "cell_type": "code",
      "execution_count": 67,
      "metadata": {
        "colab": {
          "base_uri": "https://localhost:8080/"
        },
        "id": "_qY-_ibR1B6H",
        "outputId": "788c488a-8e77-468a-f8b2-af475ac0e500"
      },
      "outputs": [
        {
          "name": "stdout",
          "output_type": "stream",
          "text": [
            "antes\t: -->  {}\n",
            "despues\t: -->  {'curso': 'python', 'asistentes': 20}\n"
          ]
        }
      ],
      "source": [
        "# Puedo asignar valores a las llaves\n",
        "# Si las llaves no existen, estas son creadas!\n",
        "\n",
        "# antes de la asignación\n",
        "print(\"antes\\t: --> \",dic)\n",
        "\n",
        "# Asigno nuevos valores\n",
        "dic[\"curso\"] = \"python\"\n",
        "dic[\"asistentes\"] = 20\n",
        "\n",
        "# Después de la asignación\n",
        "print(\"despues\\t: --> \",dic)"
      ]
    },
    {
      "cell_type": "code",
      "execution_count": 68,
      "metadata": {
        "colab": {
          "base_uri": "https://localhost:8080/"
        },
        "id": "1K5cA6Br00gA",
        "outputId": "b3eb869f-0e8d-4e24-80d2-8f27b7e15bfe"
      },
      "outputs": [
        {
          "name": "stdout",
          "output_type": "stream",
          "text": [
            "antes\t: -->  {'curso': 'python', 'asistentes': 20}\n",
            "despues\t: -->  {'curso': 'python avanzado', 'asistentes': 25}\n"
          ]
        }
      ],
      "source": [
        "# Puedo actualizar valores de las llaves\n",
        "print(\"antes\\t: --> \",dic)\n",
        "\n",
        "dic[\"curso\"] = \"python avanzado\"\n",
        "dic[\"asistentes\"] = 25\n",
        "print(\"despues\\t: --> \",dic)"
      ]
    },
    {
      "cell_type": "code",
      "execution_count": 69,
      "metadata": {
        "colab": {
          "base_uri": "https://localhost:8080/"
        },
        "id": "2_FrMR6zMG1o",
        "outputId": "c19158fb-5e54-4eba-d410-311a8c716d58"
      },
      "outputs": [
        {
          "name": "stdout",
          "output_type": "stream",
          "text": [
            "{'curso': 'python avanzado', 'asistentes': 25, ('curso', 'asistentes'): ('python basico', 10)}\n"
          ]
        }
      ],
      "source": [
        "dic['curso', 'asistentes'] = ('python basico', 10)\n",
        "print(dic)"
      ]
    },
    {
      "cell_type": "code",
      "execution_count": 70,
      "metadata": {
        "colab": {
          "base_uri": "https://localhost:8080/"
        },
        "id": "RorKQZMRNgtI",
        "outputId": "8204f68f-f39b-4ab6-b5c0-4f9d303b2dc4"
      },
      "outputs": [
        {
          "name": "stdout",
          "output_type": "stream",
          "text": [
            "{'nombre': 'Harvey', 'apellido': 'Rodriguez', 'cargo': 'Ingeniero'}\n"
          ]
        }
      ],
      "source": [
        "diccionario = {\n",
        "    'nombre': 'Harvey',\n",
        "    'apellido':'Rodriguez',\n",
        "    'cargo':'Ingeniero'\n",
        "    }\n",
        "print(diccionario)"
      ]
    },
    {
      "cell_type": "code",
      "execution_count": 71,
      "metadata": {
        "colab": {
          "base_uri": "https://localhost:8080/"
        },
        "id": "i8h3jCboNgqJ",
        "outputId": "235ad4d3-47d2-48cf-d00b-02e18e0c4876"
      },
      "outputs": [
        {
          "name": "stdout",
          "output_type": "stream",
          "text": [
            "{'nombre': 'Harvey', 'apellido': 'Rodriguez', 'cargo': 'Ingeniero', 'edad': 20}\n"
          ]
        }
      ],
      "source": [
        "# La llave 'edad' no existe en el diccionario\n",
        "# por lo tanto se adiciona\n",
        "diccionario['edad'] = 20\n",
        "\n",
        "print(diccionario)"
      ]
    },
    {
      "cell_type": "code",
      "execution_count": 72,
      "metadata": {
        "colab": {
          "base_uri": "https://localhost:8080/"
        },
        "id": "qNu58fRDNgnK",
        "outputId": "55560d18-d5be-4029-cc79-7fdefb4b5d9d"
      },
      "outputs": [
        {
          "name": "stdout",
          "output_type": "stream",
          "text": [
            "{'nombre': 'Harvey', 'apellido': 'Rodriguez', 'cargo': 'Analista', 'edad': 20}\n"
          ]
        }
      ],
      "source": [
        "# La llave 'cargo' si existe en el diccionario\n",
        "# por lo tanto se actualiza el valor\n",
        "diccionario['cargo'] = 'Analista'\n",
        "\n",
        "print(diccionario)"
      ]
    },
    {
      "cell_type": "code",
      "execution_count": 73,
      "metadata": {
        "colab": {
          "base_uri": "https://localhost:8080/"
        },
        "id": "RKxgHoUfOIfi",
        "outputId": "2d96d094-b3b9-40fb-91d0-1015abc18dc7"
      },
      "outputs": [
        {
          "data": {
            "text/plain": [
              "20"
            ]
          },
          "execution_count": 73,
          "metadata": {},
          "output_type": "execute_result"
        }
      ],
      "source": [
        "diccionario['edad']"
      ]
    },
    {
      "cell_type": "code",
      "execution_count": 74,
      "metadata": {
        "colab": {
          "base_uri": "https://localhost:8080/"
        },
        "id": "Rj2s1I2r47D5",
        "outputId": "56de015d-3d39-4144-ef7a-14457cd653e1"
      },
      "outputs": [
        {
          "name": "stdout",
          "output_type": "stream",
          "text": [
            "python avanzado\n",
            "25\n"
          ]
        }
      ],
      "source": [
        "# El acceso a los valores puede ser por sus llaves (En las listas era por index)\n",
        "print(dic[\"curso\"])\n",
        "print(dic[\"asistentes\"])"
      ]
    },
    {
      "cell_type": "code",
      "execution_count": 75,
      "metadata": {
        "colab": {
          "base_uri": "https://localhost:8080/"
        },
        "id": "vql1XlFlOcgk",
        "outputId": "572c983a-685b-4bf1-a00e-69a567138afb"
      },
      "outputs": [
        {
          "name": "stdout",
          "output_type": "stream",
          "text": [
            "{'curso': 'python avanzado', 'asistentes': 25, ('curso', 'asistentes'): ('python basico', 10)}\n"
          ]
        }
      ],
      "source": [
        "print(dic)"
      ]
    },
    {
      "cell_type": "code",
      "execution_count": 76,
      "metadata": {
        "colab": {
          "base_uri": "https://localhost:8080/"
        },
        "id": "idf_A2X647Jt",
        "outputId": "e80a65ab-56dc-4a65-ac27-ecc6bd535ffa"
      },
      "outputs": [
        {
          "name": "stdout",
          "output_type": "stream",
          "text": [
            "{'curso': 'python avanzado', 'asistentes': 25, ('curso', 'asistentes'): ('python basico', 10), 'tupla': (1, 2, 3), 'lista': [1, 2, 3, 3]}\n"
          ]
        }
      ],
      "source": [
        "# Agregando nuevas llaves al diccionario\n",
        "dic[\"tupla\"] = (1,2,3)\n",
        "dic[\"lista\"] = [1,2,3,3]\n",
        "print(dic)"
      ]
    },
    {
      "cell_type": "code",
      "execution_count": 77,
      "metadata": {
        "colab": {
          "base_uri": "https://localhost:8080/"
        },
        "id": "-N7ryWtePCed",
        "outputId": "f3dc5f71-91d9-4b05-be11-c74f5d5737b7"
      },
      "outputs": [
        {
          "name": "stdout",
          "output_type": "stream",
          "text": [
            "{'curso': 'python avanzado', 'asistentes': 25, ('curso', 'asistentes'): ('python basico', 10), 'tupla': (1, 2, 3), 'lista': [1, 2, 3, 3], 'diccionario': {'semana': 1, 'examen': 'final'}}\n"
          ]
        }
      ],
      "source": [
        "dic['diccionario'] = {'semana': 1, 'examen': 'final'}\n",
        "print(dic)"
      ]
    },
    {
      "cell_type": "code",
      "execution_count": 78,
      "metadata": {
        "colab": {
          "base_uri": "https://localhost:8080/"
        },
        "id": "5MdKPR6Pq_R7",
        "outputId": "78e614c0-59ac-4fed-e121-c19eed5513cd"
      },
      "outputs": [
        {
          "name": "stdout",
          "output_type": "stream",
          "text": [
            "[1, 2, 3, 3] <class 'list'>\n"
          ]
        }
      ],
      "source": [
        "# Al obtener el valor de una llave, esta cuenta con todos los métodos de su clase\n",
        "print(dic[\"lista\"], type(dic[\"lista\"]))"
      ]
    },
    {
      "cell_type": "code",
      "execution_count": 79,
      "metadata": {
        "colab": {
          "base_uri": "https://localhost:8080/"
        },
        "id": "3otfgDBLQseL",
        "outputId": "b9140575-29f4-43b9-e84e-08335dc1e239"
      },
      "outputs": [
        {
          "name": "stdout",
          "output_type": "stream",
          "text": [
            "<class 'list'>\n"
          ]
        }
      ],
      "source": [
        "lista_nueva = [1,2,3,3,3,4,5,6,4,3,2,2]\n",
        "print(type(lista_nueva))"
      ]
    },
    {
      "cell_type": "code",
      "execution_count": 80,
      "metadata": {
        "colab": {
          "base_uri": "https://localhost:8080/"
        },
        "id": "ISov_FJbQ__W",
        "outputId": "46fcddb0-6fc7-4504-f50b-545e2a948505"
      },
      "outputs": [
        {
          "data": {
            "text/plain": [
              "4"
            ]
          },
          "execution_count": 80,
          "metadata": {},
          "output_type": "execute_result"
        }
      ],
      "source": [
        "lista_nueva.count(3)"
      ]
    },
    {
      "cell_type": "code",
      "execution_count": 81,
      "metadata": {
        "colab": {
          "base_uri": "https://localhost:8080/"
        },
        "id": "FI_pi-szRRa-",
        "outputId": "0f30dc69-7337-4361-cc00-3dc55075d6b5"
      },
      "outputs": [
        {
          "name": "stdout",
          "output_type": "stream",
          "text": [
            "[1, 2, 3, 3]\n"
          ]
        }
      ],
      "source": [
        "print(dic['lista'])"
      ]
    },
    {
      "cell_type": "code",
      "execution_count": 82,
      "metadata": {
        "colab": {
          "base_uri": "https://localhost:8080/"
        },
        "id": "Pz7_BNumQqUB",
        "outputId": "b5fbe20a-f431-4bde-ba90-a50efa823fe2"
      },
      "outputs": [
        {
          "name": "stdout",
          "output_type": "stream",
          "text": [
            "2\n"
          ]
        }
      ],
      "source": [
        "print(dic[\"lista\"].count(3))"
      ]
    },
    {
      "cell_type": "code",
      "execution_count": 83,
      "metadata": {
        "colab": {
          "base_uri": "https://localhost:8080/"
        },
        "id": "0dYnwbglrIY-",
        "outputId": "71c9e170-e8ab-4efc-d42b-51eb57ebe5bb"
      },
      "outputs": [
        {
          "name": "stdout",
          "output_type": "stream",
          "text": [
            "(1, 2, 3) <class 'tuple'>\n",
            "(1, 2)\n"
          ]
        }
      ],
      "source": [
        "# Al obtener el valor de una llave, esta cuenta con todos los métodos de su clase\n",
        "print(dic[\"tupla\"], type(dic[\"tupla\"]))\n",
        "print(dic[\"tupla\"][:-1])"
      ]
    },
    {
      "cell_type": "markdown",
      "metadata": {
        "id": "C0SBuzxwR8rn"
      },
      "source": [
        "Explicación del ejemplo anterior:\n",
        "\n",
        "Con tuplas:\n",
        "```python\n",
        "       (1,  2,  3)\n",
        "ind     0   1   2\n",
        "ind_r  -3  -2  -1\n",
        "\n",
        "print(tupla[:-1]) -> (1, 2)\n",
        "print(tupla[:-2]) -> (1)\n",
        "```\n",
        "\n",
        "Con listas:\n",
        "```python\n",
        "       [1,  2,  3]\n",
        "ind     0   1   2\n",
        "ind_r  -3  -2  -1\n",
        "\n",
        "print(lista[:-1]) -> [1, 2]\n",
        "print(lista[:-2]) -> [1]\n",
        "```"
      ]
    },
    {
      "cell_type": "code",
      "execution_count": 84,
      "metadata": {
        "colab": {
          "base_uri": "https://localhost:8080/"
        },
        "id": "H0I5GZTw47Mk",
        "outputId": "341a983f-dffe-4ce9-fd18-14910a8a8c29"
      },
      "outputs": [
        {
          "name": "stdout",
          "output_type": "stream",
          "text": [
            "{'curso': 'python avanzado', 'asistentes': 25, ('curso', 'asistentes'): ('python basico', 10), 'tupla': (1, 2, 3), 'lista': [1, 2, 3, 3], 'diccionario': {'semana': 1, 'examen': 'final'}, (1, 2): 'llave tupla', 1: 22222}\n"
          ]
        }
      ],
      "source": [
        "# Las llaves pueden ser de diferente tipo\n",
        "dic[(1,2)] = \"llave tupla\"\n",
        "dic[1] = 22222\n",
        "print(dic)"
      ]
    },
    {
      "cell_type": "code",
      "execution_count": 85,
      "metadata": {
        "colab": {
          "base_uri": "https://localhost:8080/"
        },
        "id": "V0cAMNztTQua",
        "outputId": "5827bbe1-db70-42bd-8e82-696dd6d82900"
      },
      "outputs": [
        {
          "data": {
            "text/plain": [
              "(1, 2, 3)"
            ]
          },
          "execution_count": 85,
          "metadata": {},
          "output_type": "execute_result"
        }
      ],
      "source": [
        "dic['tupla']"
      ]
    },
    {
      "cell_type": "code",
      "execution_count": 86,
      "metadata": {
        "colab": {
          "base_uri": "https://localhost:8080/"
        },
        "id": "g6KLj-OJrcRY",
        "outputId": "02cb8587-8119-439b-f177-c1c9245099a4"
      },
      "outputs": [
        {
          "name": "stdout",
          "output_type": "stream",
          "text": [
            "valor de llave en tupla  :  llave tupla\n",
            "valor de llave en numero :  22222\n",
            "valor de llave en string :  python avanzado\n"
          ]
        }
      ],
      "source": [
        "# Y el acceso a sus valores será como lo mencionado, por medio de las llaves:\n",
        "print(\"valor de llave en tupla  : \",dic[(1,2)])\n",
        "print(\"valor de llave en numero : \",dic[1])\n",
        "print(\"valor de llave en string : \",dic[\"curso\"])"
      ]
    },
    {
      "cell_type": "code",
      "execution_count": 87,
      "metadata": {
        "colab": {
          "base_uri": "https://localhost:8080/"
        },
        "id": "a4Gq6lWN47R3",
        "outputId": "7082239b-21e4-4221-e4f3-37f186cd3a03"
      },
      "outputs": [
        {
          "name": "stdout",
          "output_type": "stream",
          "text": [
            "{'nombre': 'cualquier cosa', 'edad': 44, 'genero': 'd'}\n"
          ]
        }
      ],
      "source": [
        "# Los diccionarios pueden contener más diccionarios en su interior\n",
        "# Este es un diccionario \"normal\"\n",
        "contacto = {\n",
        "    \"nombre\": \"cualquier cosa\",\n",
        "    \"edad\": 44,\n",
        "    \"genero\": \"d\"\n",
        "}\n",
        "print(contacto)"
      ]
    },
    {
      "cell_type": "code",
      "execution_count": 88,
      "metadata": {
        "colab": {
          "base_uri": "https://localhost:8080/"
        },
        "id": "wjfvVcXF47Ut",
        "outputId": "02d6b463-3b09-426f-8e82-2f9b3c016a7d"
      },
      "outputs": [
        {
          "name": "stdout",
          "output_type": "stream",
          "text": [
            "{'curso': 'python avanzado', 'asistentes': 25, ('curso', 'asistentes'): ('python basico', 10), 'tupla': (1, 2, 3), 'lista': [1, 2, 3, 3], 'diccionario': {'semana': 1, 'examen': 'final'}, (1, 2): 'llave tupla', 1: 22222, 'contacto': {'nombre': 'cualquier cosa', 'edad': 44, 'genero': 'd'}}\n"
          ]
        }
      ],
      "source": [
        "# Creo una nueva llave \"contacto\" en el diccionario original\n",
        "dic[\"contacto\"] = contacto # diccionario de la celda anterior\n",
        "print(dic)"
      ]
    },
    {
      "cell_type": "code",
      "execution_count": 89,
      "metadata": {
        "colab": {
          "base_uri": "https://localhost:8080/"
        },
        "id": "VJC1CwVrUbrS",
        "outputId": "57ba5014-06d9-4471-dced-c6d3051eca6f"
      },
      "outputs": [
        {
          "name": "stdout",
          "output_type": "stream",
          "text": [
            "python \n"
          ]
        }
      ],
      "source": [
        "print(dic['curso'][:7])"
      ]
    },
    {
      "cell_type": "code",
      "execution_count": 90,
      "metadata": {
        "colab": {
          "base_uri": "https://localhost:8080/"
        },
        "id": "wa_l6P-aUS2D",
        "outputId": "bf667e53-ab3a-4129-9b9b-1740f3bb740a"
      },
      "outputs": [
        {
          "name": "stdout",
          "output_type": "stream",
          "text": [
            "3\n"
          ]
        }
      ],
      "source": [
        "print(dic['lista'][2])"
      ]
    },
    {
      "cell_type": "code",
      "execution_count": 91,
      "metadata": {
        "colab": {
          "base_uri": "https://localhost:8080/"
        },
        "id": "-z6cDxfE47Xa",
        "outputId": "9435a8f1-4e21-432c-ac6a-f5f11584395e"
      },
      "outputs": [
        {
          "name": "stdout",
          "output_type": "stream",
          "text": [
            "{'nombre': 'cualquier cosa', 'edad': 44, 'genero': 'd'}\n",
            "44\n",
            "d\n"
          ]
        }
      ],
      "source": [
        "# Cómo acceder a los valores que se encuentran dentro de la llave \"contacto\"?\n",
        "print(dic[\"contacto\"])\n",
        "print(dic[\"contacto\"][\"edad\"])\n",
        "print(dic[\"contacto\"][\"genero\"])"
      ]
    },
    {
      "cell_type": "code",
      "execution_count": 92,
      "metadata": {
        "colab": {
          "base_uri": "https://localhost:8080/"
        },
        "id": "svDTxdzbVF6t",
        "outputId": "7ec3ee9a-25e9-4309-cdbe-32b8abbaa3c8"
      },
      "outputs": [
        {
          "name": "stdout",
          "output_type": "stream",
          "text": [
            "<class 'str'>\n"
          ]
        }
      ],
      "source": [
        "dic_prueba = \"\"\"\n",
        "{\n",
        "    \"glossary\": {\n",
        "        \"title\": \"example glossary\",\n",
        "        \"GlossDiv\": {\n",
        "            \"title\": \"S\",\n",
        "            \"GlossList\": {\n",
        "                \"GlossEntry\": {\n",
        "                    \"ID\": \"SGML\",\n",
        "                    \"SortAs\": \"SGML\",\n",
        "                    \"GlossTerm\": \"Standard Generalized Markup Language\",\n",
        "                    \"Acronym\": \"SGML\",\n",
        "                    \"Abbrev\": \"ISO 8879:1986\",\n",
        "                    \"GlossDef\": {\n",
        "                        \"para\": \"A meta-markup language, used to create markup languages such as DocBook.\",\n",
        "                        \"GlossSeeAlso\": [\n",
        "                            \"GML\",\n",
        "                            \"XML\"\n",
        "                        ]\n",
        "                    },\n",
        "                    \"GlossSee\": \"markup\"\n",
        "                }\n",
        "            }\n",
        "        }\n",
        "    }\n",
        "}\n",
        "\"\"\"\n",
        "\n",
        "# Si evaluamos el tipo de objeto de la variable anterior el resultado es un str\n",
        "print(type(dic_prueba))"
      ]
    },
    {
      "cell_type": "code",
      "execution_count": 93,
      "metadata": {
        "colab": {
          "base_uri": "https://localhost:8080/"
        },
        "id": "aFbOy7KlV8Wn",
        "outputId": "a81602d6-e80e-4e91-f647-8ead419b5b27"
      },
      "outputs": [
        {
          "name": "stdout",
          "output_type": "stream",
          "text": [
            "<class 'dict'>\n"
          ]
        }
      ],
      "source": [
        "# librería\n",
        "import json\n",
        "\n",
        "# json.loads nos permite cargar un objeto como si fuera un diccionario\n",
        "dic_prueba = json.loads(dic_prueba)\n",
        "print(type(dic_prueba))"
      ]
    },
    {
      "cell_type": "code",
      "execution_count": 94,
      "metadata": {
        "colab": {
          "base_uri": "https://localhost:8080/"
        },
        "id": "zyY6BjXuVUA4",
        "outputId": "eb41762a-f4bd-4466-dcc8-f9214bb242ad"
      },
      "outputs": [
        {
          "name": "stdout",
          "output_type": "stream",
          "text": [
            "ISO 8879:1986\n"
          ]
        }
      ],
      "source": [
        "# Quiero recuperar el valor de \"Abbrev\"\n",
        "print(dic_prueba[\"glossary\"][\"GlossDiv\"]['GlossList']['GlossEntry']['Abbrev'])"
      ]
    },
    {
      "cell_type": "code",
      "execution_count": 95,
      "metadata": {
        "colab": {
          "base_uri": "https://localhost:8080/"
        },
        "id": "sUJUliaIWrrn",
        "outputId": "c55fc189-e878-465c-dea8-3eabbfe186ea"
      },
      "outputs": [
        {
          "name": "stdout",
          "output_type": "stream",
          "text": [
            "['GML', 'XML']\n"
          ]
        }
      ],
      "source": [
        "# Quiero recuperar el valor de \"GlossSeeAlso\"\n",
        "print(dic_prueba[\"glossary\"][\"GlossDiv\"]['GlossList']['GlossEntry']['GlossDef']['GlossSeeAlso'])"
      ]
    },
    {
      "cell_type": "code",
      "execution_count": 96,
      "metadata": {
        "colab": {
          "base_uri": "https://localhost:8080/"
        },
        "id": "Vd6iv5oeXLWE",
        "outputId": "f8cda1d4-3992-4a76-8c5b-8e4360243666"
      },
      "outputs": [
        {
          "name": "stdout",
          "output_type": "stream",
          "text": [
            "{'curso': 'python avanzado', 'asistentes': 25, ('curso', 'asistentes'): ('python basico', 10), 'tupla': (1, 2, 3), 'lista': [1, 2, 3, 3], 'diccionario': {'semana': 1, 'examen': 'final'}, (1, 2): 'llave tupla', 1: 22222, 'contacto': {'nombre': 'cualquier cosa', 'edad': 44, 'genero': 'd'}}\n"
          ]
        }
      ],
      "source": [
        "print(dic)"
      ]
    },
    {
      "cell_type": "code",
      "execution_count": 97,
      "metadata": {
        "colab": {
          "base_uri": "https://localhost:8080/"
        },
        "id": "-7RcS8PU47aJ",
        "outputId": "9f842cdc-61a5-4b9d-9754-32c38c5f2b44"
      },
      "outputs": [
        {
          "name": "stdout",
          "output_type": "stream",
          "text": [
            "{'curso': 'python avanzado', 'asistentes': 25, ('curso', 'asistentes'): ('python basico', 10), 'tupla': (1, 2, 3), 'lista': [1, 2, 3, 3], 'diccionario': {'semana': 1, 'examen': 'final'}, (1, 2): 'llave tupla', 1: 22222, 'contacto': {'nombre': 'cualquier cosa', 'edad': 44, 'genero': 'd', 'dir': {'email': 'ssss@org.com', 'instagram': 'aaabbbcc'}}}\n"
          ]
        }
      ],
      "source": [
        "# Cómo puedo adicionar/actualizar valores a la llave \"contacto\"?\n",
        "dic[\"contacto\"][\"dir\"] = {\"email\": \"ssss@org.com\", \"instagram\": \"aaabbbcc\"}\n",
        "print(dic)"
      ]
    },
    {
      "cell_type": "code",
      "execution_count": 98,
      "metadata": {
        "colab": {
          "base_uri": "https://localhost:8080/"
        },
        "id": "OdEGhYvPXY9B",
        "outputId": "d8ed3a67-1403-4e3b-e656-c82c0339ae66"
      },
      "outputs": [
        {
          "name": "stdout",
          "output_type": "stream",
          "text": [
            "{'curso': 'python avanzado', 'asistentes': 25, ('curso', 'asistentes'): ('python basico', 10), 'tupla': (1, 2, 3), 'lista': [1, 2, 3, 3], 'diccionario': {'semana': 1, 'examen': 'final'}, (1, 2): 'llave tupla', 1: 22222, 'contacto': {'nombre': 'Pedrito Perez', 'edad': 44, 'genero': 'd', 'dir': {'email': 'ssss@org.com', 'instagram': 'aaabbbcc'}}}\n"
          ]
        }
      ],
      "source": [
        "# Cómo puedo adicionar/actualizar valores a la llave \"contacto\"?\n",
        "dic[\"contacto\"][\"nombre\"] = 'Pedrito Perez'\n",
        "print(dic)"
      ]
    },
    {
      "cell_type": "code",
      "execution_count": 99,
      "metadata": {
        "colab": {
          "base_uri": "https://localhost:8080/"
        },
        "id": "FJEpPlAz47eA",
        "outputId": "fe3ccd9a-341a-468c-817f-01f5946b750a"
      },
      "outputs": [
        {
          "name": "stdout",
          "output_type": "stream",
          "text": [
            "ssss@org.com\n"
          ]
        }
      ],
      "source": [
        "# Cómo acceder a los valores que se encuentran dentro de la llave \"dir\"\n",
        "# que se encuentra dentro de la llave \"contacto\"?\n",
        "print(dic[\"contacto\"][\"dir\"][\"email\"])"
      ]
    },
    {
      "cell_type": "code",
      "execution_count": 100,
      "metadata": {
        "id": "5OvJ1dZT00dD"
      },
      "outputs": [],
      "source": [
        "# Diccionario de ejemplo\n",
        "general = {\n",
        "   \"data\":[\n",
        "      {\n",
        "         \"type\":\"articles\",\n",
        "         \"id\":\"1\",\n",
        "         \"attributes\":{\n",
        "            \"title\":\"JSON:API paints my bikeshed!\",\n",
        "            \"body\":\"The shortest article. Ever.\",\n",
        "            \"created\":\"2015-05-22T14:56:29.000Z\",\n",
        "            \"updated\":\"2015-05-22T14:56:28.000Z\"\n",
        "         },\n",
        "         \"relationships\":{\n",
        "            \"author\":{\n",
        "               \"data\":{\n",
        "                  \"id\":\"42\",\n",
        "                  \"type\":\"people\"\n",
        "               }\n",
        "            }\n",
        "         }\n",
        "      }\n",
        "   ],\n",
        "   \"included\":[\n",
        "      {\n",
        "         \"type\":\"people\",\n",
        "         \"id\":\"42\",\n",
        "         \"attributes\":{\n",
        "            \"name\":\"John\",\n",
        "            \"age\":80,\n",
        "            \"gender\":\"male\"\n",
        "         }\n",
        "      },\n",
        "      {\n",
        "         \"type\":\"customer\",\n",
        "         \"id\":\"43\",\n",
        "         \"attributes\":{\n",
        "            \"name\":\"Peter\",\n",
        "            \"age\":80,\n",
        "            \"gender\":\"male\"\n",
        "         }\n",
        "      }\n",
        "   ]\n",
        "}"
      ]
    },
    {
      "cell_type": "code",
      "execution_count": 101,
      "metadata": {
        "colab": {
          "base_uri": "https://localhost:8080/"
        },
        "id": "WjjmTLe5axUV",
        "outputId": "d30b4cc9-342c-4e21-ea9f-b0e3af88ad12"
      },
      "outputs": [
        {
          "name": "stdout",
          "output_type": "stream",
          "text": [
            "42\n"
          ]
        }
      ],
      "source": [
        "print(general['included'][0]['id'])"
      ]
    },
    {
      "cell_type": "code",
      "execution_count": 102,
      "metadata": {
        "colab": {
          "base_uri": "https://localhost:8080/"
        },
        "id": "36XiJkbWc4y9",
        "outputId": "f03c067c-0756-4a60-a08e-9b82f84317f5"
      },
      "outputs": [
        {
          "name": "stdout",
          "output_type": "stream",
          "text": [
            "43\n"
          ]
        }
      ],
      "source": [
        "print(general['included'][1]['id'])"
      ]
    },
    {
      "cell_type": "code",
      "execution_count": 103,
      "metadata": {
        "colab": {
          "base_uri": "https://localhost:8080/"
        },
        "id": "NLzoSVnl00X9",
        "outputId": "364f4f99-6ae0-4cf1-ae43-0ff16aa85a29"
      },
      "outputs": [
        {
          "name": "stdout",
          "output_type": "stream",
          "text": [
            "2015-05-22T14:56:28.000Z\n"
          ]
        }
      ],
      "source": [
        "# El campo \"data\" es una lista, por lo cual tenemos que tener en cuenta la \n",
        "# posición o índice donde se encuentra el dato que queremos extraer\n",
        "print(general[\"data\"][0][\"attributes\"][\"updated\"])"
      ]
    },
    {
      "cell_type": "markdown",
      "metadata": {
        "id": "27iv8dbqu0D7"
      },
      "source": [
        "### 1.1 Métodos"
      ]
    },
    {
      "cell_type": "code",
      "execution_count": 104,
      "metadata": {
        "colab": {
          "base_uri": "https://localhost:8080/"
        },
        "id": "mcoc5j39mlxK",
        "outputId": "25b294f1-db06-40ee-f0b4-6b6e87e70a92"
      },
      "outputs": [
        {
          "name": "stdout",
          "output_type": "stream",
          "text": [
            "{'ee.uu': '+1', 'chile': '+56'}\n"
          ]
        }
      ],
      "source": [
        "# Creamos un diccionario de pruebas\n",
        "demo = {\"ee.uu\": \"+1\", \"chile\": \"+56\"}\n",
        "print(demo)"
      ]
    },
    {
      "cell_type": "code",
      "execution_count": 105,
      "metadata": {
        "colab": {
          "base_uri": "https://localhost:8080/"
        },
        "id": "S8yvdHQ0rLrG",
        "outputId": "d4eeab47-e2d5-42d5-f30f-75862d221833"
      },
      "outputs": [
        {
          "name": "stdout",
          "output_type": "stream",
          "text": [
            "+1\n"
          ]
        }
      ],
      "source": [
        "# obteniendo valores tradicinalmente\n",
        "print(demo[\"ee.uu\"])"
      ]
    },
    {
      "cell_type": "markdown",
      "metadata": {
        "id": "yw9fCsVutbSQ"
      },
      "source": [
        "#### 1.1.1 GET\n",
        "\n",
        "```python\n",
        "Help on method_descriptor:\n",
        "\n",
        "get(self, key, default=None, /)\n",
        "    Return the value for key if key is in the dictionary, else default.\n",
        "```\n",
        "\n",
        "Get nos permite obtener el valor de una llave de un diccionario, o definir un valor por defecto si esta no existe."
      ]
    },
    {
      "cell_type": "code",
      "execution_count": 106,
      "metadata": {
        "colab": {
          "base_uri": "https://localhost:8080/"
        },
        "id": "mqPY0Pp3fT51",
        "outputId": "b9d9faec-69ca-4cfb-c14d-9578afc3b8e1"
      },
      "outputs": [
        {
          "data": {
            "text/plain": [
              "{'ee.uu': '+1', 'chile': '+56'}"
            ]
          },
          "execution_count": 106,
          "metadata": {},
          "output_type": "execute_result"
        }
      ],
      "source": [
        "demo"
      ]
    },
    {
      "cell_type": "code",
      "execution_count": 107,
      "metadata": {
        "colab": {
          "base_uri": "https://localhost:8080/"
        },
        "id": "KQtFni7UrLlv",
        "outputId": "b56c619c-042c-4063-a326-b35d010be816"
      },
      "outputs": [
        {
          "name": "stdout",
          "output_type": "stream",
          "text": [
            "chile    : -->  +56\n",
            "colombia : -->  +57\n",
            "colombia : -->  -1\n",
            "chile    : -->  +56\n",
            "colombia : -->  None\n"
          ]
        }
      ],
      "source": [
        "print(\"chile    : --> \",demo.get(\"chile\", \"9999999\"))\n",
        "print(\"colombia : --> \",demo.get(\"colombia\", \"+57\"))\n",
        "print(\"colombia : --> \",demo.get(\"colombia\", -1))\n",
        "print(\"chile    : --> \",demo.get(\"chile\"))\n",
        "print(\"colombia : --> \",demo.get(\"colombia\"))"
      ]
    },
    {
      "cell_type": "code",
      "execution_count": 108,
      "metadata": {
        "colab": {
          "base_uri": "https://localhost:8080/"
        },
        "id": "04AkbX90uDGu",
        "outputId": "1a415295-c72c-45b5-9908-a58795cbbc62"
      },
      "outputs": [
        {
          "name": "stdout",
          "output_type": "stream",
          "text": [
            "edad : -->  44\n"
          ]
        }
      ],
      "source": [
        "# Get incluso sirve para otros niveles:\n",
        "print(\"edad : --> \",dic['contacto'].get(\"edad\"))"
      ]
    },
    {
      "cell_type": "code",
      "execution_count": 109,
      "metadata": {
        "colab": {
          "base_uri": "https://localhost:8080/"
        },
        "id": "limIaz9grLi2",
        "outputId": "1d805e05-7bda-4f33-f4f6-f88ea71ab8f8"
      },
      "outputs": [
        {
          "name": "stdout",
          "output_type": "stream",
          "text": [
            "{'curso': 'python avanzado', 'asistentes': 25, ('curso', 'asistentes'): ('python basico', 10), 'tupla': (1, 2, 3), 'lista': [1, 2, 3, 3], 'diccionario': {'semana': 1, 'examen': 'final'}, (1, 2): 'llave tupla', 1: 22222, 'contacto': {'nombre': 'Pedrito Perez', 'edad': 44, 'genero': 'd', 'dir': {'email': 'ssss@org.com', 'instagram': 'aaabbbcc'}}}\n"
          ]
        }
      ],
      "source": [
        "print(dic)"
      ]
    },
    {
      "cell_type": "code",
      "execution_count": 110,
      "metadata": {
        "colab": {
          "base_uri": "https://localhost:8080/"
        },
        "id": "7kKR-B-kg-Ax",
        "outputId": "b21b9b21-17e5-4ef6-e900-c0f73ca9fcd5"
      },
      "outputs": [
        {
          "name": "stdout",
          "output_type": "stream",
          "text": [
            "ssss@org.com\n"
          ]
        }
      ],
      "source": [
        "# Obtener 'email'\n",
        "# Camino 1:\n",
        "print(dic['contacto']['dir']['email'])"
      ]
    },
    {
      "cell_type": "code",
      "execution_count": 111,
      "metadata": {
        "colab": {
          "base_uri": "https://localhost:8080/"
        },
        "id": "85VQbcsYhb-U",
        "outputId": "50749d70-00b8-406c-839d-9a4987114168"
      },
      "outputs": [
        {
          "name": "stdout",
          "output_type": "stream",
          "text": [
            "ssss@org.com\n"
          ]
        }
      ],
      "source": [
        "# Obtener 'email'\n",
        "# Camino 2:\n",
        "print(dic.get('contacto').get('dir').get('email'))"
      ]
    },
    {
      "cell_type": "markdown",
      "metadata": {
        "id": "KKQP-U7Su0C_"
      },
      "source": [
        "#### 1.1.2 POP\n",
        "\n",
        "```python\n",
        "Help on method_descriptor:\n",
        "\n",
        "pop(...)\n",
        "    D.pop(k[,d]) -> v, remove specified key and return the corresponding value.\n",
        "    If key is not found, d is returned if given, otherwise KeyError is raised\n",
        "```\n",
        "\n",
        "POP nos permite eliminar elementos de un diccionario."
      ]
    },
    {
      "cell_type": "code",
      "execution_count": 112,
      "metadata": {
        "colab": {
          "base_uri": "https://localhost:8080/"
        },
        "id": "YiARVCE_rLgJ",
        "outputId": "526f96bb-0ca5-491f-ba78-3bbe18a21976"
      },
      "outputs": [
        {
          "name": "stdout",
          "output_type": "stream",
          "text": [
            "{'curso': 'python avanzado', 'asistentes': 25, ('curso', 'asistentes'): ('python basico', 10), 'tupla': (1, 2, 3), 'diccionario': {'semana': 1, 'examen': 'final'}, (1, 2): 'llave tupla', 1: 22222, 'contacto': {'nombre': 'Pedrito Perez', 'edad': 44, 'genero': 'd', 'dir': {'email': 'ssss@org.com', 'instagram': 'aaabbbcc'}}}\n"
          ]
        }
      ],
      "source": [
        "# Eliminando una de las llaves del diccionario\n",
        "dic.pop('lista')\n",
        "print(dic)"
      ]
    },
    {
      "cell_type": "markdown",
      "metadata": {
        "id": "lyBaul6uvUOE"
      },
      "source": [
        "#### 1.1.3 KEYS\n",
        "\n",
        "```python\n",
        "Help on method_descriptor:\n",
        "\n",
        "keys(...)\n",
        "    D.keys() -> a set-like object providing a view on D's keys\n",
        "```\n",
        "\n",
        "KEYS nos permite obtener las llaves del diccionario"
      ]
    },
    {
      "cell_type": "code",
      "execution_count": 113,
      "metadata": {
        "colab": {
          "base_uri": "https://localhost:8080/"
        },
        "id": "roubyCAqrLbG",
        "outputId": "71aa6f3a-5472-45d5-b80f-cebf9d91612b"
      },
      "outputs": [
        {
          "name": "stdout",
          "output_type": "stream",
          "text": [
            "dict_keys(['curso', 'asistentes', ('curso', 'asistentes'), 'tupla', 'diccionario', (1, 2), 1, 'contacto'])\n"
          ]
        }
      ],
      "source": [
        "# Obtener las llaves del diccionario\n",
        "print(dic.keys())"
      ]
    },
    {
      "cell_type": "code",
      "execution_count": 114,
      "metadata": {
        "colab": {
          "base_uri": "https://localhost:8080/"
        },
        "id": "-_kIZd9QrLYk",
        "outputId": "ec995f94-743a-4bd0-83e6-570cf3912be9"
      },
      "outputs": [
        {
          "name": "stdout",
          "output_type": "stream",
          "text": [
            "dict_keys(['nombre', 'edad', 'genero', 'dir'])\n"
          ]
        }
      ],
      "source": [
        "# Funciona también para el diccionario dentro del diccionario\n",
        "print(dic['contacto'].keys())"
      ]
    },
    {
      "cell_type": "markdown",
      "metadata": {
        "id": "k0vqcSYqv4Ta"
      },
      "source": [
        "#### 1.1.4 VALUES\n",
        "\n",
        "```python\n",
        "Help on method_descriptor:\n",
        "\n",
        "values(...)\n",
        "    D.values() -> an object providing a view on D's values\n",
        "```\n",
        "\n",
        "VALUES nos permite obtener los valores del diccionario"
      ]
    },
    {
      "cell_type": "code",
      "execution_count": 115,
      "metadata": {
        "colab": {
          "base_uri": "https://localhost:8080/"
        },
        "id": "i1GSv5h9mluk",
        "outputId": "33608987-219a-4a4e-8280-3f63b83fc81f"
      },
      "outputs": [
        {
          "name": "stdout",
          "output_type": "stream",
          "text": [
            "dict_values(['python avanzado', 25, ('python basico', 10), (1, 2, 3), {'semana': 1, 'examen': 'final'}, 'llave tupla', 22222, {'nombre': 'Pedrito Perez', 'edad': 44, 'genero': 'd', 'dir': {'email': 'ssss@org.com', 'instagram': 'aaabbbcc'}}])\n"
          ]
        }
      ],
      "source": [
        "# Obtener los valores del diccionario\n",
        "print(dic.values())"
      ]
    },
    {
      "cell_type": "code",
      "execution_count": 116,
      "metadata": {
        "colab": {
          "base_uri": "https://localhost:8080/"
        },
        "id": "iHl2cbzvmlsR",
        "outputId": "c924821f-3ea4-4fdf-e2bb-4e69e60dcdb3"
      },
      "outputs": [
        {
          "name": "stdout",
          "output_type": "stream",
          "text": [
            "dict_values(['Pedrito Perez', 44, 'd', {'email': 'ssss@org.com', 'instagram': 'aaabbbcc'}])\n"
          ]
        }
      ],
      "source": [
        "# Funciona también para el diccionario dentro del diccionario\n",
        "print(dic['contacto'].values())"
      ]
    },
    {
      "cell_type": "markdown",
      "metadata": {
        "id": "BBQHwjrlwKul"
      },
      "source": [
        "#### 1.1.5 ITEMS\n",
        "\n",
        "```python\n",
        "Help on method_descriptor:\n",
        "\n",
        "items(...)\n",
        "    D.items() -> a set-like object providing a view on D's items\n",
        "```\n",
        "\n",
        "ITEMS me retorna tuplas con las llaves y sus respectivos valores"
      ]
    },
    {
      "cell_type": "code",
      "execution_count": 117,
      "metadata": {
        "colab": {
          "base_uri": "https://localhost:8080/"
        },
        "id": "S8d17rhIwp1g",
        "outputId": "5c53b504-ad60-4a21-a412-73ee6bbddc62"
      },
      "outputs": [
        {
          "name": "stdout",
          "output_type": "stream",
          "text": [
            "dict_items([('curso', 'python avanzado'), ('asistentes', 25), (('curso', 'asistentes'), ('python basico', 10)), ('tupla', (1, 2, 3)), ('diccionario', {'semana': 1, 'examen': 'final'}), ((1, 2), 'llave tupla'), (1, 22222), ('contacto', {'nombre': 'Pedrito Perez', 'edad': 44, 'genero': 'd', 'dir': {'email': 'ssss@org.com', 'instagram': 'aaabbbcc'}})])\n"
          ]
        }
      ],
      "source": [
        "# Obtener las tuplas con las llave-valor del diccionario\n",
        "print(dic.items())"
      ]
    },
    {
      "cell_type": "code",
      "execution_count": 118,
      "metadata": {
        "colab": {
          "base_uri": "https://localhost:8080/"
        },
        "id": "UKZP2A9My_Aq",
        "outputId": "b06f7788-294b-4fe6-f3b2-a3e87bd8b275"
      },
      "outputs": [
        {
          "name": "stdout",
          "output_type": "stream",
          "text": [
            "[('curso', 'python avanzado'), ('asistentes', 25), (('curso', 'asistentes'), ('python basico', 10)), ('tupla', (1, 2, 3)), ('diccionario', {'semana': 1, 'examen': 'final'}), ((1, 2), 'llave tupla'), (1, 22222), ('contacto', {'nombre': 'Pedrito Perez', 'edad': 44, 'genero': 'd', 'dir': {'email': 'ssss@org.com', 'instagram': 'aaabbbcc'}})]\n"
          ]
        }
      ],
      "source": [
        "# Obtener un listado de tuplas con las llave-valor del diccionario\n",
        "print(list(dic.items()))"
      ]
    },
    {
      "cell_type": "code",
      "execution_count": 119,
      "metadata": {
        "colab": {
          "base_uri": "https://localhost:8080/"
        },
        "id": "9HdDyyXUy-7n",
        "outputId": "00755966-17a0-415c-e9ae-637135e1bb3c"
      },
      "outputs": [
        {
          "name": "stdout",
          "output_type": "stream",
          "text": [
            "la llave es : --> curso\n",
            "el valor es : --> python avanzado\n"
          ]
        }
      ],
      "source": [
        "# Al ser una lista puedo acceder con slices y asignar sus valores\n",
        "llave, valor = list(dic.items())[0]\n",
        "print(f\"la llave es : --> {llave}\\nel valor es : --> {valor}\")"
      ]
    },
    {
      "cell_type": "markdown",
      "metadata": {
        "id": "esCsWYsaxENO"
      },
      "source": [
        "#### 1.1.6 UPDATE\n",
        "\n",
        "```python\n",
        "Help on method_descriptor:\n",
        "\n",
        "update(...)\n",
        "    D.update([E, ]**F) -> None.  Update D from dict/iterable E and F.\n",
        "    If E is present and has a .keys() method, then does:  for k in E: D[k] = E[k]\n",
        "    If E is present and lacks a .keys() method, then does:  for k, v in E: D[k] = v\n",
        "    In either case, this is followed by: for k in F:  D[k] = F[k]\n",
        "```\n",
        "\n",
        "Update nos permite actualizar un diccionario a partir de otro diccionario"
      ]
    },
    {
      "cell_type": "code",
      "execution_count": 120,
      "metadata": {
        "colab": {
          "base_uri": "https://localhost:8080/"
        },
        "id": "AgZgFdLCy-5h",
        "outputId": "4ee3c501-2bd2-4e59-8748-98f17ddfff35"
      },
      "outputs": [
        {
          "name": "stdout",
          "output_type": "stream",
          "text": [
            "diccionario 1 -->  {'ee.uu': '+1', 'chile': '+56'}\n"
          ]
        }
      ],
      "source": [
        "# Tenemos un primer diccionario\n",
        "print(\"diccionario 1 --> \", demo)"
      ]
    },
    {
      "cell_type": "code",
      "execution_count": 121,
      "metadata": {
        "colab": {
          "base_uri": "https://localhost:8080/"
        },
        "id": "d0RNYzy0xd7H",
        "outputId": "63c90073-77b5-49e6-a45e-e7e6199873b1"
      },
      "outputs": [
        {
          "name": "stdout",
          "output_type": "stream",
          "text": [
            "diccionario 2 -->  {'colombia': '+57'}\n"
          ]
        }
      ],
      "source": [
        "# Tenemos el segundo diccionario\n",
        "diccionario_2 = {\"colombia\": \"+57\"}\n",
        "print(\"diccionario 2 --> \", diccionario_2)"
      ]
    },
    {
      "cell_type": "code",
      "execution_count": 122,
      "metadata": {
        "colab": {
          "base_uri": "https://localhost:8080/"
        },
        "id": "3unJAD6Ky-3i",
        "outputId": "1a42ad88-dd88-4c05-e7a4-10ee55818d68"
      },
      "outputs": [
        {
          "name": "stdout",
          "output_type": "stream",
          "text": [
            "diccionario 1 -->  {'ee.uu': '+1', 'chile': '+56', 'colombia': '+57'}\n"
          ]
        }
      ],
      "source": [
        "# Actualizo el valor del diccionario 1 con el valor del diccionario 2:\n",
        "demo.update(diccionario_2)\n",
        "print(\"diccionario 1 --> \", demo)"
      ]
    },
    {
      "cell_type": "code",
      "execution_count": 123,
      "metadata": {
        "colab": {
          "base_uri": "https://localhost:8080/"
        },
        "id": "CJX2-CHPy-0j",
        "outputId": "fc56cc1a-df47-4be8-a995-f8de3287e0f6"
      },
      "outputs": [
        {
          "name": "stdout",
          "output_type": "stream",
          "text": [
            "diccionario 1 -->  {'ee.uu': '+1', 'chile': '+56', 'colombia': '+9999'}\n"
          ]
        }
      ],
      "source": [
        "# Qué ocurre si el nuevo diccionario tiene una llave que ya existe en el \n",
        "# diccionario 1\n",
        "diccionario_3 = {\"colombia\": \"+9999\"}\n",
        "demo.update(diccionario_3) # \n",
        "print(\"diccionario 1 --> \", demo)"
      ]
    }
  ],
  "metadata": {
    "colab": {
      "collapsed_sections": [],
      "provenance": [],
      "toc_visible": true
    },
    "kernelspec": {
      "display_name": "Python 3",
      "name": "python3"
    },
    "language_info": {
      "codemirror_mode": {
        "name": "ipython",
        "version": 3
      },
      "file_extension": ".py",
      "mimetype": "text/x-python",
      "name": "python",
      "nbconvert_exporter": "python",
      "pygments_lexer": "ipython3",
      "version": "3.9.19"
    }
  },
  "nbformat": 4,
  "nbformat_minor": 0
}
