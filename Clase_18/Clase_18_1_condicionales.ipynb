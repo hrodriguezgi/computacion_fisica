{
  "cells": [
    {
      "cell_type": "markdown",
      "metadata": {
        "id": "V3hX0UU6AQfp"
      },
      "source": [
        "# Operadores de comparación\n",
        "\n",
        "Los operadores de comparación nos permiten validar como se relacionan 2 objetos en python. Podemos realizar comparaciones numéricas, comparaciones de string, entre otros."
      ]
    },
    {
      "cell_type": "markdown",
      "metadata": {
        "id": "B-EbVfU8Ax_7"
      },
      "source": [
        "- `Menor`, `Menor o igual que`: estos dos operaciones nos permiten evaluar si el objeto de la izquierda es **menor** o **menor o igual que** el objeto de la derecha:\n",
        "  ```python\n",
        "  >>> 2 < 3\n",
        "  True\n",
        "  >>> 2 <= 1\n",
        "  False\n",
        "  >>> 'chris' < 'charles'\n",
        "  False\n",
        "  ```\n",
        "\n",
        "- `Mayor`, `Mayor o igual que`: estos dos operaciones nos permiten evaluar si el objeto de la izquierda es **mayor** o **mayor o igual que** el objeto de la derecha:\n",
        "  ```python\n",
        "  >>> 5 > 3\n",
        "  True\n",
        "  >>> 5 >= 10\n",
        "  False\n",
        "  >>> 'apple' > 'Apple'\n",
        "  True\n",
        "  ```\n",
        "\n",
        "- `Igual`: esta operación valida que el objeto de la izquierda sea exactamente igual al de la derecha\n",
        "  ```python\n",
        "  >>> 2 == 3\n",
        "  False\n",
        "  >>> a = 10; b = 10\n",
        "  >>> a == b\n",
        "  True\n",
        "  >>> 'Banana' == 'banana'.upper()\n",
        "  False\n",
        "  ```\n",
        "\n",
        "- `No es igual`: esta operación valida que el objeto de la izquierda no sea igual al objeto de la derecha\n",
        "  ```python\n",
        "  >>> 2.01 != 2.10\n",
        "  True\n",
        "  >>> a = 10; b = 10\n",
        "  >>> a != b\n",
        "  False\n",
        "  >>> 'Banana' != 'banana'.capitalize()\n",
        "  False\n",
        "  ```"
      ]
    },
    {
      "cell_type": "code",
      "execution_count": null,
      "metadata": {
        "colab": {
          "base_uri": "https://localhost:8080/"
        },
        "id": "gOdM34SeNQrZ",
        "outputId": "ec0beb06-ca3b-4bb9-eb6d-ee5aea7df035"
      },
      "outputs": [
        {
          "data": {
            "text/plain": [
              "False"
            ]
          },
          "execution_count": 48,
          "metadata": {},
          "output_type": "execute_result"
        }
      ],
      "source": [
        "\"Banana\" == \"banana\".upper()  # BANANA"
      ]
    },
    {
      "cell_type": "code",
      "execution_count": null,
      "metadata": {
        "colab": {
          "base_uri": "https://localhost:8080/"
        },
        "id": "m9qxkdIsNYxN",
        "outputId": "d98c28c8-cc86-44f5-e04c-451ba0def83f"
      },
      "outputs": [
        {
          "data": {
            "text/plain": [
              "True"
            ]
          },
          "execution_count": 49,
          "metadata": {},
          "output_type": "execute_result"
        }
      ],
      "source": [
        "\"Banana\".upper() == \"banana\".upper()"
      ]
    },
    {
      "cell_type": "markdown",
      "metadata": {
        "id": "AvJa5ML2EfRb"
      },
      "source": [
        "# Operadores lógicos\n",
        "\n",
        "- `X or Y`: O lógico. Este operador permite obtener como salida `X` si es verdadero, en caso contrario la salida es `Y`\n",
        "  ```python\n",
        "  >>> 3 or 4\n",
        "  3\n",
        "  >>> False or 'b'\n",
        "  'b'\n",
        "  ```\n",
        "\n",
        "- `X and Y`: Y lógico. Este operador permite obtener como salida `Y` si y solo si `X` es verdadero, en caso contrario la salida es `X`\n",
        "  ```python\n",
        "  >>> 3 and 4\n",
        "  4\n",
        "  >>> False or 'b'\n",
        "  False\n",
        "  ```\n",
        "\n",
        "- `not X`: negación. Este operador invierte el valor lógico de la salida.\n",
        "  ```python\n",
        "  >>> not 4\n",
        "  False\n",
        "  >>> not False\n",
        "  True\n",
        "  ```"
      ]
    },
    {
      "cell_type": "code",
      "execution_count": 2,
      "metadata": {
        "colab": {
          "base_uri": "https://localhost:8080/"
        },
        "id": "9XlpodlrPHsP",
        "outputId": "d0fb73d9-7c25-4813-e48c-b7a8f5f06f7f"
      },
      "outputs": [
        {
          "data": {
            "text/plain": [
              "True"
            ]
          },
          "execution_count": 2,
          "metadata": {},
          "output_type": "execute_result"
        }
      ],
      "source": [
        "True or False"
      ]
    },
    {
      "cell_type": "code",
      "execution_count": 3,
      "metadata": {
        "colab": {
          "base_uri": "https://localhost:8080/"
        },
        "id": "451yDefTSqdD",
        "outputId": "ac5129cf-0c6b-4c99-9030-158b86b45822"
      },
      "outputs": [
        {
          "data": {
            "text/plain": [
              "False"
            ]
          },
          "execution_count": 3,
          "metadata": {},
          "output_type": "execute_result"
        }
      ],
      "source": [
        "True and False"
      ]
    },
    {
      "cell_type": "code",
      "execution_count": 4,
      "metadata": {},
      "outputs": [
        {
          "data": {
            "text/plain": [
              "True"
            ]
          },
          "execution_count": 4,
          "metadata": {},
          "output_type": "execute_result"
        }
      ],
      "source": [
        "True and True"
      ]
    },
    {
      "cell_type": "markdown",
      "metadata": {
        "id": "07jcxMlgBOst"
      },
      "source": [
        "# Condicionales\n",
        "\n",
        "En programación, una sentencia condicional es una instrucción o grupo de instrucciones que se pueden ejecutar o no en función del valor de una condición.\n",
        "\n",
        "```python\n",
        "if validacion:\n",
        "  si se cumple\n",
        "elif validacion1:\n",
        "  si no, valide esto..\n",
        "elif validacion2:\n",
        "  si no, valide esto..\n",
        "else:\n",
        "  de lo contrario hagame esto\n",
        "```\n",
        "\n",
        "Un ejemplo de esto es:\n",
        "\n",
        "```python\n",
        ">>> area = 10.0\n",
        ">>> if(area < 9):\n",
        "...    print(\"small\")\n",
        "... elif(area < 12):\n",
        "...     print(\"medium\")\n",
        "... else:\n",
        "...     print(\"large\")\n",
        "...\n",
        "medium\n",
        "```\n",
        "\n"
      ]
    },
    {
      "cell_type": "code",
      "execution_count": 4,
      "metadata": {},
      "outputs": [
        {
          "name": "stdout",
          "output_type": "stream",
          "text": [
            "large\n",
            "1.2\n"
          ]
        }
      ],
      "source": [
        "area = 12\n",
        "if area < 9:\n",
        "    area = area + 1\n",
        "    print(\"small\")\n",
        "elif area < 12:\n",
        "    area = area *2\n",
        "    print(\"medium\")\n",
        "else:\n",
        "    area = area / 10\n",
        "    print(\"large\")\n",
        "    print(area)"
      ]
    },
    {
      "cell_type": "code",
      "execution_count": 6,
      "metadata": {},
      "outputs": [
        {
          "name": "stdout",
          "output_type": "stream",
          "text": [
            "almost small\n"
          ]
        }
      ],
      "source": [
        "area = 7\n",
        "if area < 9:\n",
        "    if area % 2 == 0:\n",
        "        print(\"small\")\n",
        "    else:\n",
        "        print(\"almost small\")\n",
        "elif area < 12:\n",
        "    area = area *2\n",
        "    print(\"medium\")\n",
        "else:\n",
        "    area = area / 10\n",
        "    print(\"large\")\n",
        "    print(area)"
      ]
    },
    {
      "cell_type": "code",
      "execution_count": 3,
      "metadata": {
        "colab": {
          "base_uri": "https://localhost:8080/"
        },
        "id": "A3A6oaFeTLQS",
        "outputId": "aabed188-f2c5-4f61-b6d7-1d7a92959040"
      },
      "outputs": [
        {
          "name": "stdout",
          "output_type": "stream",
          "text": [
            "charles está antes que chris\n"
          ]
        }
      ],
      "source": [
        "if \"chris\" < \"charles\":\n",
        "    # Si la condición se cumple ejecuta este print\n",
        "    print(\n",
        "        \"{nombre1} está antes que {nombre2}\".format(nombre1=\"chris\", nombre2=\"charles\")\n",
        "    )\n",
        "else:\n",
        "    # Si la condición no se cumple ejecuta este print\n",
        "    # print(\"{} está antes que {}\".format(\"charles\", \"chris\"))\n",
        "    print(\"charles está antes que chris\")"
      ]
    },
    {
      "cell_type": "code",
      "execution_count": 5,
      "metadata": {
        "colab": {
          "base_uri": "https://localhost:8080/"
        },
        "id": "jU6Drco9UKDt",
        "outputId": "6cd1dca9-263e-4113-9abd-6f27ad5c2f6f"
      },
      "outputs": [
        {
          "name": "stdout",
          "output_type": "stream",
          "text": [
            "medium\n"
          ]
        }
      ],
      "source": [
        "area = 10\n",
        "\n",
        "if area < 9:\n",
        "    print(\"small\")\n",
        "elif area <= 12:\n",
        "    print(\"medium\")\n",
        "else:\n",
        "    print(\"large\")"
      ]
    },
    {
      "cell_type": "code",
      "execution_count": null,
      "metadata": {
        "colab": {
          "base_uri": "https://localhost:8080/"
        },
        "id": "Fwqa1tGgUpex",
        "outputId": "6f0ba8d8-0a5e-4ba8-9b6c-6cb1848b0343"
      },
      "outputs": [
        {
          "name": "stdout",
          "output_type": "stream",
          "text": [
            "medium\n"
          ]
        }
      ],
      "source": [
        "area = 12\n",
        "arquitecto = \"chris\"\n",
        "\n",
        "#   False   and   \n",
        "if area < 9 and arquitecto < \"charles\":\n",
        "    print(\"small\")\n",
        "#     False    or   True\n",
        "elif area < 12 or arquitecto > \"charles\":\n",
        "    print(\"medium\")\n",
        "else:\n",
        "    print(\"large\")"
      ]
    },
    {
      "cell_type": "code",
      "execution_count": 12,
      "metadata": {
        "colab": {
          "base_uri": "https://localhost:8080/"
        },
        "id": "0pCaUXoD7n6h",
        "outputId": "683e2ef2-0902-479a-a579-b0fd788b0719"
      },
      "outputs": [
        {
          "name": "stdout",
          "output_type": "stream",
          "text": [
            "looking around in the kitchen.\n",
            "big place!\n"
          ]
        }
      ],
      "source": [
        "# Define variables\n",
        "room = \"kit\"\n",
        "area = 16.0\n",
        "\n",
        "# if statement for room\n",
        "if room == \"kit\":\n",
        "    print(\"looking around in the kitchen.\")\n",
        "if area > 15:\n",
        "    print(\"big place!\")"
      ]
    },
    {
      "cell_type": "markdown",
      "metadata": {
        "id": "NZws3C8f7kxz"
      },
      "source": [
        "# If Comprehension (operador ternario)\n",
        "\n",
        "Python incorpora el concepto de comprehension en condicionales, con el fín de optimizar codigo en tareas simples\n",
        "\n",
        "If normal:\n",
        "```python\n",
        "if Y:\n",
        "  X\n",
        "else:\n",
        "  Z\n",
        "```\n",
        "\n",
        "Sintaxis:\n",
        "```python\n",
        "X if Y else Z\n",
        "```\n",
        "La salida es `X` sí y solo si `Y` es verdadero, en caso contrario la salida será `Z`\n",
        "\n",
        "Ejemplo:\n",
        "```python\n",
        ">>> area = 15\n",
        ">>> print('big place!') if area > 15 else print('small place!')\n",
        "small place!\n",
        "```"
      ]
    },
    {
      "cell_type": "code",
      "execution_count": null,
      "metadata": {
        "colab": {
          "base_uri": "https://localhost:8080/"
        },
        "id": "ZMEYR7VPYjb2",
        "outputId": "97ff6408-768b-4a1c-bd1d-3670d855d130"
      },
      "outputs": [
        {
          "name": "stdout",
          "output_type": "stream",
          "text": [
            "No cumple\n"
          ]
        }
      ],
      "source": [
        "if \"chris\" < \"charles\":  # Y\n",
        "    print(\"Cumple\")  # X\n",
        "else:\n",
        "    print(\"No cumple\")  # Z"
      ]
    },
    {
      "cell_type": "code",
      "execution_count": null,
      "metadata": {
        "colab": {
          "base_uri": "https://localhost:8080/"
        },
        "id": "VE94szmXZeex",
        "outputId": "72477574-ee8f-43ca-8060-92b098a2b1bf"
      },
      "outputs": [
        {
          "name": "stdout",
          "output_type": "stream",
          "text": [
            "No cumple\n"
          ]
        }
      ],
      "source": [
        "# ----- X ----- IF -------- Y -------- ELSE ------- Z --------\n",
        "print(\"Cumple\") if \"chris\" < \"charles\" else print(\"No cumple\")"
      ]
    },
    {
      "cell_type": "code",
      "execution_count": 14,
      "metadata": {},
      "outputs": [
        {
          "name": "stdout",
          "output_type": "stream",
          "text": [
            "mayor\n"
          ]
        }
      ],
      "source": [
        "print('menor') if 10 > 12 else print('mayor')"
      ]
    },
    {
      "cell_type": "code",
      "execution_count": 16,
      "metadata": {},
      "outputs": [
        {
          "name": "stdout",
          "output_type": "stream",
          "text": [
            "mayor\n"
          ]
        }
      ],
      "source": [
        "variable = 'menor' if 10 > 12 else 'mayor'\n",
        "print(variable)"
      ]
    },
    {
      "cell_type": "code",
      "execution_count": 17,
      "metadata": {},
      "outputs": [
        {
          "name": "stdout",
          "output_type": "stream",
          "text": [
            "mayor\n"
          ]
        }
      ],
      "source": [
        "if 10 > 12:\n",
        "    variable = 'menor'\n",
        "else:\n",
        "    variable = 'mayor'\n",
        "\n",
        "print(variable)"
      ]
    },
    {
      "cell_type": "code",
      "execution_count": null,
      "metadata": {
        "colab": {
          "base_uri": "https://localhost:8080/"
        },
        "id": "kmQ7dJ5b9N2S",
        "outputId": "fe24c93f-6417-4122-ed54-c07822b4fc4b"
      },
      "outputs": [
        {
          "name": "stdout",
          "output_type": "stream",
          "text": [
            "small place!\n"
          ]
        }
      ],
      "source": [
        "area = 15\n",
        "print(\"big place!\") if area > 15 else print(\"small place!\")"
      ]
    },
    {
      "cell_type": "code",
      "execution_count": null,
      "metadata": {
        "colab": {
          "base_uri": "https://localhost:8080/"
        },
        "id": "6nZTAoj7avzG",
        "outputId": "8889ee5d-d6aa-4d20-d736-4f9bfc60dddf"
      },
      "outputs": [
        {
          "name": "stdout",
          "output_type": "stream",
          "text": [
            "small place!\n"
          ]
        }
      ],
      "source": [
        "area = 15\n",
        "if area > 15:\n",
        "    print(\"big place!\")\n",
        "else:\n",
        "    print(\"small place!\")"
      ]
    },
    {
      "cell_type": "markdown",
      "metadata": {
        "id": "2f53OjC9-Z26"
      },
      "source": [
        "# If anidados\n",
        "\n",
        "Python permite escribir condiciones dentro de condiciones:\n",
        "\n",
        "```python\n",
        "if condicion_exterior:\n",
        "  if condicion_interior:\n",
        "    print('se cumple condicion exterior e interior')\n",
        "  else:\n",
        "    print('se cumple condición exterior pero no interior')\n",
        "else:\n",
        "  print('no se cumplen la condición exterior')\n",
        "```"
      ]
    },
    {
      "cell_type": "code",
      "execution_count": null,
      "metadata": {
        "colab": {
          "base_uri": "https://localhost:8080/"
        },
        "id": "VXr5jtO7-WDr",
        "outputId": "4184febd-9918-4e39-b34a-9fa9bbceab5f"
      },
      "outputs": [
        {
          "name": "stdout",
          "output_type": "stream",
          "text": [
            "se cumplio \"a\"\n",
            "se cumple condición exterior pero no interior\n"
          ]
        }
      ],
      "source": [
        "a = 10\n",
        "b = \"hola\"\n",
        "\n",
        "if a >= 10:\n",
        "    print('se cumplio \"a\"')\n",
        "    if b == \"Hola\":\n",
        "        print(\"se cumple condicion exterior e interior\")\n",
        "    else:\n",
        "        print(\"se cumple condición exterior pero no interior\")\n",
        "else:\n",
        "    print(\"no se cumplen la condición exterior\")"
      ]
    },
    {
      "cell_type": "code",
      "execution_count": null,
      "metadata": {
        "colab": {
          "base_uri": "https://localhost:8080/"
        },
        "id": "9t1g50hycF3C",
        "outputId": "b848cc5a-fe7e-4261-ca47-514b69ad060c"
      },
      "outputs": [
        {
          "name": "stdout",
          "output_type": "stream",
          "text": [
            "no se cumplen la condición exterior\n"
          ]
        }
      ],
      "source": [
        "a = 9\n",
        "b = \"Hola\"\n",
        "\n",
        "if a >= 10:\n",
        "    print('se cumplio \"a\"')\n",
        "    if b == \"Hola\":\n",
        "        print(\"se cumple condicion exterior e interior\")\n",
        "    else:\n",
        "        print(\"se cumple condición exterior pero no interior\")\n",
        "else:\n",
        "    print(\"no se cumplen la condición exterior\")"
      ]
    },
    {
      "cell_type": "code",
      "execution_count": null,
      "metadata": {
        "colab": {
          "base_uri": "https://localhost:8080/"
        },
        "id": "P0hfJYsjbrTT",
        "outputId": "1eaecd2e-4d3a-4666-e7b8-394c1543bb69"
      },
      "outputs": [
        {
          "name": "stdout",
          "output_type": "stream",
          "text": [
            "se cumple \"b\"\n"
          ]
        }
      ],
      "source": [
        "a = 9\n",
        "b = \"Hola\"\n",
        "\n",
        "if a >= 10:\n",
        "    print('se cumplio \"a\"')\n",
        "elif b == \"Hola\":\n",
        "    print('se cumple \"b\"')\n",
        "else:\n",
        "    print(\"no se cumplen la condición exterior\")"
      ]
    },
    {
      "cell_type": "markdown",
      "metadata": {
        "id": "dqMB5oh5_ExR"
      },
      "source": [
        "# Multiples condiciones\n",
        "\n",
        "El mismo comando anterior pudo ser escrito de la siguiente forma:\n",
        "\n",
        "```python\n",
        "if condicion_1 and condicion_2:\n",
        "  print('se cumplen las condiciones 1 y 2')\n",
        "elif condicion_3 and condicion_4:\n",
        "  print('se cumplen las condiciones 3 y 4')\n",
        "else:\n",
        "  print('no se cumplen las condiciones')\n",
        "```"
      ]
    },
    {
      "cell_type": "code",
      "execution_count": null,
      "metadata": {
        "colab": {
          "base_uri": "https://localhost:8080/"
        },
        "id": "YsF6HwQe_oPI",
        "outputId": "0a85c952-fcb8-4023-cb5e-54c1660f5903"
      },
      "outputs": [
        {
          "name": "stdout",
          "output_type": "stream",
          "text": [
            "no se cumplen ninguna de las condiciones\n"
          ]
        }
      ],
      "source": [
        "a = 9\n",
        "b = \"hola\"\n",
        "\n",
        "if a >= 10 or b == \"Hola\":\n",
        "    print('se cumple condicion de \"a\" y de \"b\"')\n",
        "elif a >= 10:\n",
        "    print('se cumple condición de \"a\"')\n",
        "else:\n",
        "    print(\"no se cumplen ninguna de las condiciones\")"
      ]
    }
  ],
  "metadata": {
    "colab": {
      "collapsed_sections": [],
      "provenance": []
    },
    "kernelspec": {
      "display_name": "Python 3",
      "name": "python3"
    },
    "language_info": {
      "codemirror_mode": {
        "name": "ipython",
        "version": 3
      },
      "file_extension": ".py",
      "mimetype": "text/x-python",
      "name": "python",
      "nbconvert_exporter": "python",
      "pygments_lexer": "ipython3",
      "version": "3.9.19"
    }
  },
  "nbformat": 4,
  "nbformat_minor": 0
}
