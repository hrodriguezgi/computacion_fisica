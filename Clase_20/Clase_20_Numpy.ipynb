{
  "cells": [
    {
      "cell_type": "markdown",
      "metadata": {
        "id": "k1lgSUNa_Ai9"
      },
      "source": [
        "# Numpy\n",
        "\n",
        "Numpy es la principal librería para la computación científica en Python. Algunas\n",
        "librerías como pandas, SciPy, Matplotlib, TensorFlow, entre otros están construídas\n",
        "sobre las bases de Numpy.\n",
        "\n",
        "Cualquier persona que utilice números en Python, deberá utilizar Numpy. Para \n",
        "comenzar, debemos comprender que son los Numpy Array:\n",
        "\n",
        "![Numpy Array](numpy_array.png)\n",
        "\n",
        "Los arrays son similares a una lista de Python, sin embargo tienen una gran \n",
        "diferencia y es que este tipo de dato solo acepta valores del mismo tipo: array\n",
        "de enteros, array de flotantes, array de complejos, etc.\n",
        "\n",
        "Adicionalmente los arrays pueden ser de 1 dimensión, 2 dimensiones, 3 dimensiones.\n",
        "(ver la imagen de arriba)"
      ]
    },
    {
      "cell_type": "code",
      "execution_count": 1,
      "metadata": {},
      "outputs": [
        {
          "name": "stdout",
          "output_type": "stream",
          "text": [
            "Requirement already satisfied: numpy in /Users/hrodriguezgi/Github/computacion_fisica/venv/lib/python3.9/site-packages (2.0.2)\n"
          ]
        }
      ],
      "source": [
        "!pip install numpy"
      ]
    },
    {
      "cell_type": "code",
      "execution_count": 2,
      "metadata": {},
      "outputs": [
        {
          "name": "stdout",
          "output_type": "stream",
          "text": [
            "Numpy version: 2.0.2\n"
          ]
        }
      ],
      "source": [
        "# Importación de libreria numpy\n",
        "import numpy as np\n",
        "\n",
        "# Version\n",
        "print(f\"Numpy version: {np.__version__}\")"
      ]
    },
    {
      "cell_type": "code",
      "execution_count": 3,
      "metadata": {},
      "outputs": [
        {
          "name": "stdout",
          "output_type": "stream",
          "text": [
            "[0. 0. 0. 0. 0. 0. 0. 0. 0. 0.]\n"
          ]
        }
      ],
      "source": [
        "# Array de ceros\n",
        "ceros = np.zeros(10)\n",
        "print(ceros)"
      ]
    },
    {
      "cell_type": "code",
      "execution_count": 3,
      "metadata": {},
      "outputs": [
        {
          "name": "stdout",
          "output_type": "stream",
          "text": [
            "[1. 1. 1.]\n"
          ]
        }
      ],
      "source": [
        "unos = np.ones(3)\n",
        "print(unos)"
      ]
    },
    {
      "cell_type": "code",
      "execution_count": 4,
      "metadata": {},
      "outputs": [
        {
          "name": "stdout",
          "output_type": "stream",
          "text": [
            "[0.65452018 0.52188724 0.89948164 0.44582302 0.09083147 0.13875106\n",
            " 0.70521583 0.34212469 0.48157665 0.50721853]\n"
          ]
        }
      ],
      "source": [
        "# Array de aleatorios\n",
        "aleatorios = np.random.rand(10)\n",
        "print(aleatorios)"
      ]
    },
    {
      "cell_type": "code",
      "execution_count": 4,
      "metadata": {},
      "outputs": [
        {
          "data": {
            "text/plain": [
              "array([0.65789603, 0.66196175, 0.39660592, 0.23442071, 0.7644638 ,\n",
              "       0.24691773, 0.15798679, 0.70410351, 0.95771276, 0.75714494])"
            ]
          },
          "execution_count": 4,
          "metadata": {},
          "output_type": "execute_result"
        }
      ],
      "source": [
        "np.random.random(10)"
      ]
    },
    {
      "cell_type": "markdown",
      "metadata": {},
      "source": [
        "## Operaciones básicas con arreglos"
      ]
    },
    {
      "cell_type": "code",
      "execution_count": 6,
      "metadata": {},
      "outputs": [
        {
          "name": "stdout",
          "output_type": "stream",
          "text": [
            "<class 'numpy.ndarray'>\n",
            "Array: [1 2 3 4 5]\n",
            "Suma: 15\n",
            "Promedio: 3.0\n",
            "Cuadrados: [ 1  4  9 16 25]\n",
            "Raices: [1.         1.41421356 1.73205081 2.         2.23606798]\n",
            "Mínimo: 1\n",
            "Máximo: 5\n"
          ]
        }
      ],
      "source": [
        "array = np.array([1, 2, 3, 4, 5])\n",
        "print(type(array))\n",
        "print(\"Array:\", array)\n",
        "\n",
        "# Array operations\n",
        "print(\"Suma:\", np.sum(array))\n",
        "print(\"Promedio:\", np.mean(array))\n",
        "print(\"Cuadrados:\", array ** 2)\n",
        "print(\"Raices:\", np.sqrt(array))\n",
        "print(\"Mínimo:\", np.min(array))\n",
        "print(\"Máximo:\", np.max(array))"
      ]
    },
    {
      "cell_type": "code",
      "execution_count": 9,
      "metadata": {},
      "outputs": [
        {
          "data": {
            "text/plain": [
              "array([[ 1,  4],\n",
              "       [ 9, 16]])"
            ]
          },
          "execution_count": 9,
          "metadata": {},
          "output_type": "execute_result"
        }
      ],
      "source": [
        "matriz = np.array([[1,2],[3,4]])\n",
        "matriz ** 2"
      ]
    },
    {
      "cell_type": "code",
      "execution_count": 7,
      "metadata": {},
      "outputs": [
        {
          "name": "stdout",
          "output_type": "stream",
          "text": [
            "<class 'list'>\n",
            "Lista: [1, 2, 3, 4, 5]\n",
            "Suma: 15\n",
            "Promedio: 3.0\n",
            "Cuadrados: [1, 4, 9, 16, 25]\n",
            "Raices: [1.0, 1.4142135623730951, 1.7320508075688772, 2.0, 2.23606797749979]\n",
            "Mínimo: 1\n",
            "Máximo: 5\n"
          ]
        }
      ],
      "source": [
        "lista = [1, 2, 3, 4, 5]\n",
        "print(type(lista))\n",
        "print(\"Lista:\", lista)\n",
        "\n",
        "print(\"Suma:\", sum(lista))\n",
        "print(\"Promedio:\", sum(lista) / len(lista))\n",
        "print(\"Cuadrados:\", [x ** 2 for x in lista]) # list comprehension\n",
        "print(\"Raices:\", [x ** 0.5 for x in lista])\n",
        "print(\"Mínimo:\", min(lista))\n",
        "print(\"Máximo:\", max(lista))"
      ]
    },
    {
      "cell_type": "markdown",
      "metadata": {},
      "source": [
        "### Operaciones entre arreglos"
      ]
    },
    {
      "cell_type": "code",
      "execution_count": 7,
      "metadata": {},
      "outputs": [
        {
          "name": "stdout",
          "output_type": "stream",
          "text": [
            "[5 7 9]\n",
            "[-3 -3 -3]\n",
            "[ 4 10 18]\n",
            "[0.25 0.4  0.5 ]\n"
          ]
        }
      ],
      "source": [
        "a = np.array([1, 2, 3])\n",
        "b = np.array([4, 5, 6])\n",
        "\n",
        "# Operaciones elemento a elemento\n",
        "print(a + b)  # [5, 7, 9]\n",
        "print(a - b)  # [-3, -3, -3]\n",
        "print(a * b)  # [4, 10, 18]\n",
        "print(a / b)  # [0.25, 0.4, 0.5]"
      ]
    },
    {
      "cell_type": "markdown",
      "metadata": {},
      "source": [
        "### Funciones matemáticas"
      ]
    },
    {
      "cell_type": "code",
      "execution_count": 8,
      "metadata": {},
      "outputs": [
        {
          "name": "stdout",
          "output_type": "stream",
          "text": [
            "[0.84147098 0.90929743 0.14112001]\n",
            "[ 2.71828183  7.3890561  20.08553692]\n",
            "[0.         0.69314718 1.09861229]\n"
          ]
        }
      ],
      "source": [
        "# Funciones trigonométricas\n",
        "print(np.sin(a))  # Seno de cada elemento\n",
        "\n",
        "# Funciones exponenciales y logarítmicas\n",
        "print(np.exp(a))  # Exponencial (e^x) de cada elemento\n",
        "print(np.log(a))  # Logaritmo natural de cada elemento"
      ]
    },
    {
      "cell_type": "markdown",
      "metadata": {},
      "source": [
        "## Array de más dimensiones"
      ]
    },
    {
      "cell_type": "code",
      "execution_count": 9,
      "metadata": {},
      "outputs": [
        {
          "name": "stdout",
          "output_type": "stream",
          "text": [
            "[ 1  2  3  4  5  6  7  8  9 10]\n"
          ]
        }
      ],
      "source": [
        "# Arreglo de números enteros\n",
        "arreglo = np.arange(1, 11)\n",
        "print(arreglo)"
      ]
    },
    {
      "cell_type": "code",
      "execution_count": 10,
      "metadata": {},
      "outputs": [
        {
          "name": "stdout",
          "output_type": "stream",
          "text": [
            "[[0. 0. 0.]\n",
            " [0. 0. 0.]]\n"
          ]
        }
      ],
      "source": [
        "# Arreglo 2x3 de ceros\n",
        "ceros_2 = np.zeros((2, 3))\n",
        "print(ceros_2)"
      ]
    },
    {
      "cell_type": "code",
      "execution_count": 11,
      "metadata": {},
      "outputs": [
        {
          "name": "stdout",
          "output_type": "stream",
          "text": [
            "[[0.23151029 0.34692598 0.30724146 0.00932505]\n",
            " [0.34080525 0.12100666 0.48936887 0.74538449]]\n"
          ]
        }
      ],
      "source": [
        "# Arreglo 2x2 de aleatorios\n",
        "aleatorios_2 = np.random.random((2, 4))\n",
        "print(aleatorios_2)"
      ]
    },
    {
      "cell_type": "markdown",
      "metadata": {},
      "source": [
        "Matrix\n",
        "\n",
        "![Numpy Matrix](numpy_matrix.png)"
      ]
    },
    {
      "cell_type": "code",
      "execution_count": 12,
      "metadata": {},
      "outputs": [
        {
          "name": "stdout",
          "output_type": "stream",
          "text": [
            "[[[1.         1.         1.        ]\n",
            "  [1.         1.         1.        ]\n",
            "  [1.         1.         1.        ]]\n",
            "\n",
            " [[0.         0.         0.        ]\n",
            "  [0.         0.         0.        ]\n",
            "  [0.         0.         0.        ]]\n",
            "\n",
            " [[0.85886591 0.75013717 0.15540832]\n",
            "  [0.99432589 0.42469958 0.60619581]\n",
            "  [0.14808781 0.25044948 0.58610372]]]\n"
          ]
        }
      ],
      "source": [
        "# Arreglo 3x3 de unos\n",
        "unos = np.ones((3, 3))\n",
        "ceros = np.zeros((3, 3))\n",
        "aleatorios = np.random.random((3, 3))\n",
        "\n",
        "tensor = np.array([unos, ceros, aleatorios])\n",
        "print(tensor)"
      ]
    },
    {
      "cell_type": "markdown",
      "metadata": {},
      "source": [
        "Tensor\n",
        "\n",
        "![Numpy Tensor](numpy_tensor.png)"
      ]
    },
    {
      "cell_type": "markdown",
      "metadata": {},
      "source": [
        "## Atributo `shape`"
      ]
    },
    {
      "cell_type": "code",
      "execution_count": 13,
      "metadata": {},
      "outputs": [
        {
          "data": {
            "text/plain": [
              "(3, 3)"
            ]
          },
          "execution_count": 13,
          "metadata": {},
          "output_type": "execute_result"
        }
      ],
      "source": [
        "# Tamaño de un array\n",
        "aleatorios.shape"
      ]
    },
    {
      "cell_type": "code",
      "execution_count": 14,
      "metadata": {},
      "outputs": [
        {
          "data": {
            "text/plain": [
              "(2, 4)"
            ]
          },
          "execution_count": 14,
          "metadata": {},
          "output_type": "execute_result"
        }
      ],
      "source": [
        "# Tamaño de una matriz\n",
        "aleatorios_2.shape"
      ]
    },
    {
      "cell_type": "code",
      "execution_count": 15,
      "metadata": {},
      "outputs": [
        {
          "data": {
            "text/plain": [
              "(3, 3, 3)"
            ]
          },
          "execution_count": 15,
          "metadata": {},
          "output_type": "execute_result"
        }
      ],
      "source": [
        "# Tamaño de un tensor\n",
        "tensor.shape"
      ]
    },
    {
      "cell_type": "markdown",
      "metadata": {},
      "source": [
        "## Métodos `flatten` y `reshape`"
      ]
    },
    {
      "cell_type": "code",
      "execution_count": 10,
      "metadata": {},
      "outputs": [
        {
          "data": {
            "text/plain": [
              "array([[1, 2],\n",
              "       [5, 7],\n",
              "       [6, 6]])"
            ]
          },
          "execution_count": 10,
          "metadata": {},
          "output_type": "execute_result"
        }
      ],
      "source": [
        "np.array([[1,2], [5,7], [6,6]])"
      ]
    },
    {
      "cell_type": "code",
      "execution_count": 16,
      "metadata": {},
      "outputs": [
        {
          "data": {
            "text/plain": [
              "(3, 2)"
            ]
          },
          "execution_count": 16,
          "metadata": {},
          "output_type": "execute_result"
        }
      ],
      "source": [
        "arreglo = np.array([[1,2], [5,7], [6,6]])\n",
        "arreglo.shape"
      ]
    },
    {
      "cell_type": "code",
      "execution_count": 17,
      "metadata": {},
      "outputs": [
        {
          "data": {
            "text/plain": [
              "array([1, 2, 5, 7, 6, 6])"
            ]
          },
          "execution_count": 17,
          "metadata": {},
          "output_type": "execute_result"
        }
      ],
      "source": [
        "arreglo.flatten()"
      ]
    },
    {
      "cell_type": "code",
      "execution_count": 18,
      "metadata": {},
      "outputs": [
        {
          "data": {
            "text/plain": [
              "array([[1, 2, 5],\n",
              "       [7, 6, 6]])"
            ]
          },
          "execution_count": 18,
          "metadata": {},
          "output_type": "execute_result"
        }
      ],
      "source": [
        "arreglo.reshape((2, 3))"
      ]
    },
    {
      "cell_type": "code",
      "execution_count": 19,
      "metadata": {},
      "outputs": [
        {
          "data": {
            "text/plain": [
              "list"
            ]
          },
          "execution_count": 19,
          "metadata": {},
          "output_type": "execute_result"
        }
      ],
      "source": [
        "# Conversión de lista a arreglo\n",
        "sudoku_list = [[0, 0, 4, 3, 0, 0, 2, 0, 9],\n",
        " [0, 0, 5, 0, 0, 9, 0, 0, 1],\n",
        " [0, 7, 0, 0, 6, 0, 0, 4, 3],\n",
        " [0, 0, 6, 0, 0, 2, 0, 8, 7],\n",
        " [1, 9, 0, 0, 0, 7, 4, 0, 0],\n",
        " [0, 5, 0, 0, 8, 3, 0, 0, 0],\n",
        " [6, 0, 0, 0, 0, 0, 1, 0, 5],\n",
        " [0, 0, 3, 5, 0, 8, 6, 9, 0],\n",
        " [0, 4, 2, 9, 1, 0, 3, 0, 0]]\n",
        "\n",
        "type(sudoku_list)"
      ]
    },
    {
      "cell_type": "markdown",
      "metadata": {},
      "source": [
        "### Actividad\n",
        "\n",
        "Movimiento parabólico:\n",
        "- Posición horizontal: $x(t) = v_0 \\cdot \\cos(\\theta) \\cdot t$\n",
        "- Posición vertical: $y(t) = v_0 \\cdot \\sin(\\theta) \\cdot t - \\frac{1}{2} g t^2$\n",
        "- Donde:\n",
        "    - $v_0$: Es la velocidad inicial en $m/s$\n",
        "    - $\\theta$: ángulo de lanzamiento (grados)\n",
        "    - $g$: aceleración debido a la gravedad ($9.81 \\, m/s$)\n",
        "    - $t$: tiempo en segundos\n",
        "\n",
        "\n",
        "Dado lo siguiente:\n",
        "- velocidad inicial: $20 \\, m/s$\n",
        "- ángulo de lanzamiento: $45ª$\n",
        "- tiempo de vuelo: $ 4\\, s$\n",
        "\n",
        "Realizar:\n",
        "- Cálculo de la posición horizontal y vertical\n",
        "- Crear un arreglo de 100 posiciones con ayuda de `np.linspace` para el tiempo\n",
        "de vuelo definido.\n",
        "- Graficar la trayectoria de vuelo con ayuda de `matplotlib`"
      ]
    },
    {
      "cell_type": "markdown",
      "metadata": {},
      "source": []
    }
  ],
  "metadata": {
    "colab": {
      "collapsed_sections": [],
      "provenance": [],
      "toc_visible": true
    },
    "kernelspec": {
      "display_name": "Python 3",
      "name": "python3"
    },
    "language_info": {
      "codemirror_mode": {
        "name": "ipython",
        "version": 3
      },
      "file_extension": ".py",
      "mimetype": "text/x-python",
      "name": "python",
      "nbconvert_exporter": "python",
      "pygments_lexer": "ipython3",
      "version": "3.9.19"
    }
  },
  "nbformat": 4,
  "nbformat_minor": 0
}
