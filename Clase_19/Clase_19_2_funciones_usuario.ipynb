{
  "cells": [
    {
      "cell_type": "markdown",
      "metadata": {
        "id": "k1lgSUNa_Ai9"
      },
      "source": [
        "# User Functions\n",
        "\n",
        "Las funciones definidas por usuario, son aquellas que creamos. Las funciones pueden recibir o no recibir argumentos, esto dependerá de la acción que queremos que realice. De igual forma se puede o no retornar un resultado en la función.\n",
        "\n",
        "<img src=\"https://media.geeksforgeeks.org/wp-content/uploads/20220721172423/51.png\"\n",
        "     width=\"500\"\n",
        "     height=\"200\"  class=\"center\"/>\n",
        "\n",
        "La sintaxis es la siguiente:\n",
        "\n",
        "```python\n",
        "def my_function(args):\n",
        "  statement\n",
        "```\n",
        "\n",
        "Ejemplo:\n",
        "```python\n",
        "def add_numbers(x, y):\n",
        "  result = x + y\n",
        "  return result\n",
        "```\n",
        "\n",
        "Estas funciones pueden utilizar tanto los las librerías propias de Python, como aquellas que necesitemos importar e incluso crear (clases propias)\n"
      ]
    },
    {
      "cell_type": "code",
      "execution_count": null,
      "metadata": {},
      "outputs": [],
      "source": [
        "x = 10 -> asignacion\n",
        "x:int = 'hola mundo' -> referencia\n",
        "x = int(10) -> constructor"
      ]
    },
    {
      "cell_type": "code",
      "execution_count": 6,
      "metadata": {
        "colab": {
          "base_uri": "https://localhost:8080/",
          "height": 35
        },
        "id": "iZWdFQKDX6TK",
        "outputId": "a5c6709e-e06e-42e4-e7bf-c5f2ccc997a6"
      },
      "outputs": [],
      "source": [
        "def add_numbers(x: int, y: int, z, w, v):  # x, y, z, w, v son parametros\n",
        "    result = x * y\n",
        "    return result"
      ]
    },
    {
      "cell_type": "code",
      "execution_count": 2,
      "metadata": {},
      "outputs": [
        {
          "data": {
            "text/plain": [
              "function"
            ]
          },
          "execution_count": 2,
          "metadata": {},
          "output_type": "execute_result"
        }
      ],
      "source": [
        "type(add_numbers)"
      ]
    },
    {
      "cell_type": "code",
      "execution_count": 7,
      "metadata": {},
      "outputs": [
        {
          "ename": "TypeError",
          "evalue": "can't multiply sequence by non-int of type 'str'",
          "output_type": "error",
          "traceback": [
            "\u001b[0;31m---------------------------------------------------------------------------\u001b[0m",
            "\u001b[0;31mTypeError\u001b[0m                                 Traceback (most recent call last)",
            "Cell \u001b[0;32mIn[7], line 1\u001b[0m\n\u001b[0;32m----> 1\u001b[0m \u001b[43madd_numbers\u001b[49m\u001b[43m(\u001b[49m\u001b[38;5;124;43m'\u001b[39;49m\u001b[38;5;124;43m10\u001b[39;49m\u001b[38;5;124;43m'\u001b[39;49m\u001b[43m,\u001b[49m\u001b[43m \u001b[49m\u001b[38;5;124;43m'\u001b[39;49m\u001b[38;5;124;43mhola\u001b[39;49m\u001b[38;5;124;43m'\u001b[39;49m\u001b[43m)\u001b[49m\n",
            "Cell \u001b[0;32mIn[6], line 2\u001b[0m, in \u001b[0;36madd_numbers\u001b[0;34m(x, y)\u001b[0m\n\u001b[1;32m      1\u001b[0m \u001b[38;5;28;01mdef\u001b[39;00m \u001b[38;5;21madd_numbers\u001b[39m(x:\u001b[38;5;28mint\u001b[39m, y:\u001b[38;5;28mint\u001b[39m):\n\u001b[0;32m----> 2\u001b[0m   result \u001b[38;5;241m=\u001b[39m \u001b[43mx\u001b[49m\u001b[43m \u001b[49m\u001b[38;5;241;43m*\u001b[39;49m\u001b[43m \u001b[49m\u001b[43my\u001b[49m\n\u001b[1;32m      3\u001b[0m   \u001b[38;5;28;01mreturn\u001b[39;00m result\n",
            "\u001b[0;31mTypeError\u001b[0m: can't multiply sequence by non-int of type 'str'"
          ]
        }
      ],
      "source": [
        "add_numbers(\"10\", \"hola\")  # '10' 'hola' son argumentos"
      ]
    },
    {
      "cell_type": "code",
      "execution_count": 8,
      "metadata": {
        "colab": {
          "base_uri": "https://localhost:8080/"
        },
        "id": "O9FJRXf1YK9u",
        "outputId": "33ea032c-4ac9-48de-e80f-f899e784bf92"
      },
      "outputs": [
        {
          "name": "stdout",
          "output_type": "stream",
          "text": [
            "200\n"
          ]
        }
      ],
      "source": [
        "resultado = add_numbers(10, 20)\n",
        "print(resultado)"
      ]
    },
    {
      "cell_type": "code",
      "execution_count": 5,
      "metadata": {
        "colab": {
          "base_uri": "https://localhost:8080/",
          "height": 322
        },
        "id": "YILvOt5SYYVX",
        "outputId": "f8d2d734-db3d-48a8-de9d-92366fc85ff2"
      },
      "outputs": [
        {
          "ename": "TypeError",
          "evalue": "unsupported operand type(s) for +: 'int' and 'str'",
          "output_type": "error",
          "traceback": [
            "\u001b[0;31m---------------------------------------------------------------------------\u001b[0m",
            "\u001b[0;31mTypeError\u001b[0m                                 Traceback (most recent call last)",
            "Cell \u001b[0;32mIn[5], line 1\u001b[0m\n\u001b[0;32m----> 1\u001b[0m \u001b[43madd_numbers\u001b[49m\u001b[43m(\u001b[49m\u001b[38;5;241;43m10\u001b[39;49m\u001b[43m,\u001b[49m\u001b[43m \u001b[49m\u001b[38;5;124;43m'\u001b[39;49m\u001b[38;5;124;43mhola\u001b[39;49m\u001b[38;5;124;43m'\u001b[39;49m\u001b[43m)\u001b[49m\n",
            "Cell \u001b[0;32mIn[1], line 2\u001b[0m, in \u001b[0;36madd_numbers\u001b[0;34m(x, y)\u001b[0m\n\u001b[1;32m      1\u001b[0m \u001b[38;5;28;01mdef\u001b[39;00m \u001b[38;5;21madd_numbers\u001b[39m(x, y):\n\u001b[0;32m----> 2\u001b[0m   result \u001b[38;5;241m=\u001b[39m \u001b[43mx\u001b[49m\u001b[43m \u001b[49m\u001b[38;5;241;43m+\u001b[39;49m\u001b[43m \u001b[49m\u001b[43my\u001b[49m\n\u001b[1;32m      3\u001b[0m   \u001b[38;5;28;01mreturn\u001b[39;00m result\n",
            "\u001b[0;31mTypeError\u001b[0m: unsupported operand type(s) for +: 'int' and 'str'"
          ]
        }
      ],
      "source": [
        "add_numbers(10, \"hola\")"
      ]
    },
    {
      "cell_type": "markdown",
      "metadata": {
        "id": "XFWaSn2WVSFS"
      },
      "source": [
        "## Funciones sin argumentos\n",
        "\n",
        "Son aquellas que no reciben argumentos para llevar a cabo una acción.\n",
        "\n",
        "Ejemplo:\n",
        "```python\n",
        ">>> from datetime import datetime\n",
        ">>> def get_time():\n",
        "...  return datetime.strftime(datetime.now(), '%Y-%m-%d %H:%M:%S')\n",
        "```\n",
        "\n",
        "Esta función tiene como objetivo obtener la hora actual del sistema y retornar este valor. Para invocarla basta con llamar la función:\n",
        "\n",
        "```python\n",
        ">>> get_time()\n",
        "2022-10-31 00:02:07\n",
        "```\n",
        "\n",
        "O si preferimos, podemos almacenar el valor en una variable:\n",
        "```python\n",
        ">>> fecha_actual = get_time()\n",
        ">>> print(fecha_actual)\n",
        "2022-10-31 00:02:07\n",
        "```"
      ]
    },
    {
      "cell_type": "code",
      "execution_count": 9,
      "metadata": {
        "id": "3tA94HfwY-ae"
      },
      "outputs": [
        {
          "ename": "ModuleNotFoundError",
          "evalue": "No module named 'pandas'",
          "output_type": "error",
          "traceback": [
            "\u001b[0;31m---------------------------------------------------------------------------\u001b[0m",
            "\u001b[0;31mModuleNotFoundError\u001b[0m                       Traceback (most recent call last)",
            "Cell \u001b[0;32mIn[9], line 9\u001b[0m\n\u001b[1;32m      6\u001b[0m \u001b[38;5;28;01mimport\u001b[39;00m \u001b[38;5;21;01mstatistics\u001b[39;00m\n\u001b[1;32m      8\u001b[0m \u001b[38;5;66;03m# Librerías de terceros\u001b[39;00m\n\u001b[0;32m----> 9\u001b[0m \u001b[38;5;28;01mimport\u001b[39;00m \u001b[38;5;21;01mpandas\u001b[39;00m \n\u001b[1;32m     10\u001b[0m \u001b[38;5;28;01mimport\u001b[39;00m \u001b[38;5;21;01mnumpy\u001b[39;00m\n\u001b[1;32m     11\u001b[0m \u001b[38;5;28;01mimport\u001b[39;00m \u001b[38;5;21;01mscipy\u001b[39;00m\n",
            "\u001b[0;31mModuleNotFoundError\u001b[0m: No module named 'pandas'"
          ]
        }
      ],
      "source": [
        "import datetime  # Librería que nos permite interactuar con fechas\n",
        "\n",
        "# Librerías propias\n",
        "import os\n",
        "import json\n",
        "import statistics\n",
        "\n",
        "# Librerías de terceros\n",
        "import pandas\n",
        "import numpy\n",
        "import scipy\n",
        "import matplotlib\n",
        "import seaborn\n",
        "\n",
        "# Librerías construídas por nosotros\n",
        "# ..."
      ]
    },
    {
      "cell_type": "code",
      "execution_count": 11,
      "metadata": {
        "colab": {
          "base_uri": "https://localhost:8080/",
          "height": 35
        },
        "id": "mFD0aYSOZBU9",
        "outputId": "1756b6b8-387f-4f54-bd9a-6121aac6d3a1"
      },
      "outputs": [],
      "source": [
        "def get_time():\n",
        "    return datetime.strftime(datetime.now(), \"%Y-%m-%d %H:%M:%S\")"
      ]
    },
    {
      "cell_type": "code",
      "execution_count": 15,
      "metadata": {},
      "outputs": [
        {
          "data": {
            "text/plain": [
              "'2024-09-19 07:16:13'"
            ]
          },
          "execution_count": 15,
          "metadata": {},
          "output_type": "execute_result"
        }
      ],
      "source": [
        "get_time()"
      ]
    },
    {
      "cell_type": "code",
      "execution_count": null,
      "metadata": {
        "id": "3vtMc-U8VuyW"
      },
      "outputs": [],
      "source": [
        "from datetime import datetime\n",
        "\n",
        "\n",
        "def get_time():\n",
        "    return datetime.strftime(datetime.now(), \"%Y-%m-%d %H:%M:%S\")"
      ]
    },
    {
      "cell_type": "code",
      "execution_count": null,
      "metadata": {
        "id": "ySLBrZbiXJFV"
      },
      "outputs": [],
      "source": [
        "get_time()"
      ]
    },
    {
      "cell_type": "code",
      "execution_count": null,
      "metadata": {
        "id": "cNsBRaINXLVX"
      },
      "outputs": [],
      "source": [
        "fecha_actual = get_time()\n",
        "print(fecha_actual)"
      ]
    },
    {
      "cell_type": "markdown",
      "metadata": {
        "id": "-AeN5c-dWuWn"
      },
      "source": [
        "## Funciones con Argumentos\n",
        "\n",
        "Son aquellas funciones que reciben uno o más valores para su ejecución. \n",
        "\n",
        "Ejemplo:\n",
        "```python\n",
        "def greeting(name):\n",
        "  return f'Good morning {name}'\n",
        "```"
      ]
    },
    {
      "cell_type": "code",
      "execution_count": 5,
      "metadata": {
        "id": "To56wgY1n_4j"
      },
      "outputs": [],
      "source": [
        "def greeting(name):\n",
        "    \"\"\"Print a greeting\"\"\"\n",
        "    return f\"Good morning {name}\""
      ]
    },
    {
      "cell_type": "code",
      "execution_count": 6,
      "metadata": {},
      "outputs": [
        {
          "data": {
            "text/plain": [
              "'Good morning Harvey'"
            ]
          },
          "execution_count": 6,
          "metadata": {},
          "output_type": "execute_result"
        }
      ],
      "source": [
        "greeting(\"Harvey\")"
      ]
    },
    {
      "cell_type": "code",
      "execution_count": 7,
      "metadata": {
        "colab": {
          "base_uri": "https://localhost:8080/"
        },
        "id": "_SbiOQFRoOc5",
        "outputId": "1378fbfe-5a5c-4b6d-d6ff-cd31a64c871a"
      },
      "outputs": [
        {
          "name": "stdout",
          "output_type": "stream",
          "text": [
            "Good morning Pepito\n"
          ]
        }
      ],
      "source": [
        "func = greeting(\"Pepito\")\n",
        "print(func)"
      ]
    },
    {
      "cell_type": "code",
      "execution_count": 11,
      "metadata": {
        "id": "zYiWekZ5aTqc"
      },
      "outputs": [],
      "source": [
        "def greeting2(name):\n",
        "    \"\"\"Print a greeting\"\"\"\n",
        "    return f\"Good morning {name}\""
      ]
    },
    {
      "cell_type": "code",
      "execution_count": 12,
      "metadata": {
        "colab": {
          "base_uri": "https://localhost:8080/",
          "height": 35
        },
        "id": "u59rMIdpaUbw",
        "outputId": "3f45211e-d451-4a69-a08e-4acba984d4f1"
      },
      "outputs": [
        {
          "data": {
            "application/vnd.google.colaboratory.intrinsic+json": {
              "type": "string"
            },
            "text/plain": [
              "'Good morning Harvey'"
            ]
          },
          "execution_count": 12,
          "metadata": {},
          "output_type": "execute_result"
        }
      ],
      "source": [
        "greeting2(\"Harvey\")"
      ]
    },
    {
      "cell_type": "code",
      "execution_count": 8,
      "metadata": {},
      "outputs": [],
      "source": [
        "def mi_funcion(a, b, c, d):\n",
        "    return (a + b) * (c + d)"
      ]
    },
    {
      "cell_type": "code",
      "execution_count": 12,
      "metadata": {},
      "outputs": [
        {
          "ename": "TypeError",
          "evalue": "mi_funcion() takes 4 positional arguments but 5 were given",
          "output_type": "error",
          "traceback": [
            "\u001b[0;31m---------------------------------------------------------------------------\u001b[0m",
            "\u001b[0;31mTypeError\u001b[0m                                 Traceback (most recent call last)",
            "Cell \u001b[0;32mIn[12], line 1\u001b[0m\n\u001b[0;32m----> 1\u001b[0m \u001b[43mmi_funcion\u001b[49m\u001b[43m(\u001b[49m\u001b[38;5;241;43m1\u001b[39;49m\u001b[43m,\u001b[49m\u001b[38;5;241;43m2\u001b[39;49m\u001b[43m,\u001b[49m\u001b[38;5;241;43m3\u001b[39;49m\u001b[43m,\u001b[49m\u001b[38;5;241;43m4\u001b[39;49m\u001b[43m,\u001b[49m\u001b[38;5;241;43m5\u001b[39;49m\u001b[43m)\u001b[49m\n",
            "\u001b[0;31mTypeError\u001b[0m: mi_funcion() takes 4 positional arguments but 5 were given"
          ]
        }
      ],
      "source": [
        "mi_funcion(1, 2, 3, 4, 5)"
      ]
    },
    {
      "cell_type": "code",
      "execution_count": 10,
      "metadata": {},
      "outputs": [
        {
          "data": {
            "text/plain": [
              "30"
            ]
          },
          "execution_count": 10,
          "metadata": {},
          "output_type": "execute_result"
        }
      ],
      "source": [
        "mi_funcion(d=1, a=2, c=4, b=4)"
      ]
    },
    {
      "cell_type": "markdown",
      "metadata": {
        "id": "H2OYl3ohoUsL"
      },
      "source": [
        "También podemos encontrarnos funciones con múltiples argumentos:\n",
        "```python\n",
        "from statistics import mean\n",
        "def student_notes(student, test1, test2, test3, test4):\n",
        "  grade = mean([test1, test2, test3, test4])\n",
        "  return f'The final grade for {student} is {grade}'\n",
        "```"
      ]
    },
    {
      "cell_type": "code",
      "execution_count": 20,
      "metadata": {
        "id": "xrIHfOEPpKSf"
      },
      "outputs": [],
      "source": [
        "from statistics import mean\n",
        "\n",
        "\n",
        "def student_notes(student, test1, test2, test3, test4):\n",
        "    notes_list = [test1, test2, test3, test4]\n",
        "    grade = mean(notes_list)  # mean: Promedio\n",
        "    student_upper = student.upper()\n",
        "    max_note = max(notes_list)\n",
        "    return f\"The final grade for {student_upper} is {grade}. The greatest note is {max_note}\""
      ]
    },
    {
      "cell_type": "code",
      "execution_count": 21,
      "metadata": {},
      "outputs": [
        {
          "ename": "TypeError",
          "evalue": "student_notes() missing 5 required positional arguments: 'student', 'test1', 'test2', 'test3', and 'test4'",
          "output_type": "error",
          "traceback": [
            "\u001b[0;31m---------------------------------------------------------------------------\u001b[0m",
            "\u001b[0;31mTypeError\u001b[0m                                 Traceback (most recent call last)",
            "Cell \u001b[0;32mIn[21], line 1\u001b[0m\n\u001b[0;32m----> 1\u001b[0m \u001b[43mstudent_notes\u001b[49m\u001b[43m(\u001b[49m\u001b[43m)\u001b[49m\n",
            "\u001b[0;31mTypeError\u001b[0m: student_notes() missing 5 required positional arguments: 'student', 'test1', 'test2', 'test3', and 'test4'"
          ]
        }
      ],
      "source": [
        "student_notes()"
      ]
    },
    {
      "cell_type": "code",
      "execution_count": 22,
      "metadata": {
        "colab": {
          "base_uri": "https://localhost:8080/"
        },
        "id": "vZfuCbTtyvMu",
        "outputId": "7a618fe1-9a02-4388-8eeb-5a18cbe51d0b"
      },
      "outputs": [
        {
          "name": "stdout",
          "output_type": "stream",
          "text": [
            "The final grade for HARVEY is 3.375. The greatest note is 4\n"
          ]
        }
      ],
      "source": [
        "notas = student_notes(\"Harvey\", 3, 3.5, 4, 3)\n",
        "print(notas)"
      ]
    },
    {
      "cell_type": "code",
      "execution_count": 21,
      "metadata": {
        "colab": {
          "base_uri": "https://localhost:8080/"
        },
        "id": "rGSnywlmcnFF",
        "outputId": "4547294a-47cd-447e-ba36-4a7d1500bc14"
      },
      "outputs": [
        {
          "name": "stdout",
          "output_type": "stream",
          "text": [
            "The final grade for RICARDO is 3.75. The greatest note is 5\n"
          ]
        }
      ],
      "source": [
        "notas = student_notes(\"Ricardo\", 3.8, 4.2, 5, 2)\n",
        "print(notas)"
      ]
    },
    {
      "cell_type": "code",
      "execution_count": null,
      "metadata": {
        "id": "ZDd6vf94v8JR"
      },
      "outputs": [],
      "source": [
        "# Funciones sin ningún tipo de acción\n",
        "def nothing():\n",
        "    pass  # Palabra reservada para"
      ]
    },
    {
      "cell_type": "code",
      "execution_count": null,
      "metadata": {
        "id": "XkhgP4jUyo2Z"
      },
      "outputs": [],
      "source": [
        "nada = nothing()\n",
        "print(nada)"
      ]
    },
    {
      "cell_type": "markdown",
      "metadata": {
        "id": "NylEqrLcC07C"
      },
      "source": [
        "### Funciones que tienen valores por defecto"
      ]
    },
    {
      "cell_type": "code",
      "execution_count": 23,
      "metadata": {
        "id": "gARQ7Sdmv8Fd"
      },
      "outputs": [],
      "source": [
        "def student_notes(test1, student=\"Camilo\", test2=5, test3=5, test4=5):\n",
        "    grade = mean([test1, test2, test3, test4])\n",
        "    return f\"The final grade for {student} is {grade}\""
      ]
    },
    {
      "cell_type": "code",
      "execution_count": 24,
      "metadata": {},
      "outputs": [
        {
          "data": {
            "text/plain": [
              "'The final grade for Camilo is 5'"
            ]
          },
          "execution_count": 24,
          "metadata": {},
          "output_type": "execute_result"
        }
      ],
      "source": [
        "student_notes()"
      ]
    },
    {
      "cell_type": "code",
      "execution_count": 23,
      "metadata": {
        "colab": {
          "base_uri": "https://localhost:8080/"
        },
        "id": "ypni4AT0v79J",
        "outputId": "60f96ed1-0264-4dc6-b1e0-39acf5b9c75d"
      },
      "outputs": [
        {
          "name": "stdout",
          "output_type": "stream",
          "text": [
            "The final grade for Camilo is 5\n"
          ]
        }
      ],
      "source": [
        "defecto = student_notes()\n",
        "print(defecto)"
      ]
    },
    {
      "cell_type": "code",
      "execution_count": 24,
      "metadata": {
        "colab": {
          "base_uri": "https://localhost:8080/"
        },
        "id": "QJeckFbEv711",
        "outputId": "d81280f8-ffba-4a25-8381-782ede3e9977"
      },
      "outputs": [
        {
          "name": "stdout",
          "output_type": "stream",
          "text": [
            "The final grade for Pedro is 5\n"
          ]
        }
      ],
      "source": [
        "pedro = student_notes(\"Pedro\")\n",
        "print(pedro)"
      ]
    },
    {
      "cell_type": "code",
      "execution_count": 25,
      "metadata": {
        "colab": {
          "base_uri": "https://localhost:8080/"
        },
        "id": "qU_F1IsZxvig",
        "outputId": "ed07ff2a-72a2-4dd6-d6ae-bf465b3cd4e6"
      },
      "outputs": [
        {
          "name": "stdout",
          "output_type": "stream",
          "text": [
            "The final grade for Victor is 4.25\n"
          ]
        }
      ],
      "source": [
        "victor = student_notes(\"Victor\", 3, 4)\n",
        "print(victor)"
      ]
    },
    {
      "cell_type": "markdown",
      "metadata": {
        "id": "9fXTrzOqGetD"
      },
      "source": [
        "### Funciones con argumentos clave-valor"
      ]
    },
    {
      "cell_type": "code",
      "execution_count": 26,
      "metadata": {
        "id": "CHk0nkGyGoGb"
      },
      "outputs": [],
      "source": [
        "def student_notes(student, test1, test2, test3, test4):\n",
        "    grade = mean([test1, test2, test3, test4])\n",
        "    return f\"The final grade for {student} is {grade}\""
      ]
    },
    {
      "cell_type": "code",
      "execution_count": 30,
      "metadata": {
        "colab": {
          "base_uri": "https://localhost:8080/"
        },
        "id": "PKV7yB9AGr6q",
        "outputId": "8eda6724-5c7e-4603-8dde-d15a83f058b3"
      },
      "outputs": [
        {
          "name": "stdout",
          "output_type": "stream",
          "text": [
            "The final grade for Carlos is 3.75\n"
          ]
        }
      ],
      "source": [
        "Carlos = student_notes(\n",
        "    test4=3,\n",
        "    test2=4,\n",
        "    test1=5,\n",
        "    student=\"Carlos\",\n",
        "    test3=3,\n",
        ")\n",
        "print(Carlos)"
      ]
    },
    {
      "cell_type": "markdown",
      "metadata": {
        "id": "m7iJpQHkC9bD"
      },
      "source": [
        "### Funciones que retornan multiples valores"
      ]
    },
    {
      "cell_type": "code",
      "execution_count": null,
      "metadata": {
        "id": "QeMYM5iIz_Jb"
      },
      "outputs": [],
      "source": [
        "def student_notes(student=\"Camilo\", test1=5, test2=5, test3=5, test4=5):\n",
        "    grade = mean([test1, test2, test3, test4])\n",
        "    return student.upper(), grade"
      ]
    },
    {
      "cell_type": "code",
      "execution_count": null,
      "metadata": {
        "id": "BrwpaJhdz_GE"
      },
      "outputs": [],
      "source": [
        "estudiante, nota = student_notes(student=\"Camilo\", test1=5, test2=5, test3=5, test4=5)\n",
        "print(f\"The final grade for {estudiante} is {nota}\")"
      ]
    },
    {
      "cell_type": "code",
      "execution_count": 31,
      "metadata": {
        "id": "x2XnuX7EeD0e"
      },
      "outputs": [],
      "source": [
        "from statistics import mean\n",
        "\n",
        "\n",
        "def student_notes(student, test1, test2, test3, test4):\n",
        "    notes_list = [test1, test2, test3, test4]\n",
        "    grade = mean(notes_list)  # mean: Promedio\n",
        "    student_upper = student.upper()\n",
        "    max_note = max(notes_list)\n",
        "    return student_upper, grade, max_note"
      ]
    },
    {
      "cell_type": "code",
      "execution_count": 33,
      "metadata": {
        "colab": {
          "base_uri": "https://localhost:8080/"
        },
        "id": "3PKvmdJseI51",
        "outputId": "63ebc184-f012-4cc6-d56d-0849ed1805a3"
      },
      "outputs": [
        {
          "name": "stdout",
          "output_type": "stream",
          "text": [
            "CAMILO 3.75 5\n"
          ]
        }
      ],
      "source": [
        "nombre_estudiante, promedio, nota_maxima = student_notes(\n",
        "    student=\"Camilo\", test1=2, test2=3, test3=5, test4=5\n",
        ")\n",
        "print(nombre_estudiante, promedio, nota_maxima)"
      ]
    },
    {
      "cell_type": "code",
      "execution_count": 36,
      "metadata": {
        "id": "zVf00d50eZmM"
      },
      "outputs": [],
      "source": [
        "from statistics import mean\n",
        "\n",
        "\n",
        "def student_notes(student, test1, test2, test3, test4):\n",
        "    notes_list = [test1, test2, test3, test4]\n",
        "    grade = mean(notes_list)  # mean: Promedio\n",
        "    student_upper = student.upper()\n",
        "    max_note = max(notes_list)\n",
        "    print(f\"The final grade for {student_upper} is {grade}\")"
      ]
    },
    {
      "cell_type": "code",
      "execution_count": 37,
      "metadata": {
        "colab": {
          "base_uri": "https://localhost:8080/"
        },
        "id": "RKeU3vKvegcR",
        "outputId": "adbe5651-e35a-4708-fb88-2ef18c545b3e"
      },
      "outputs": [
        {
          "name": "stdout",
          "output_type": "stream",
          "text": [
            "The final grade for CAMILO is 3.75\n"
          ]
        }
      ],
      "source": [
        "student_notes(student=\"Camilo\", test1=2, test2=3, test3=5, test4=5)"
      ]
    },
    {
      "cell_type": "markdown",
      "metadata": {
        "id": "QUOOSlSUDFZt"
      },
      "source": [
        "### Funciones con un número variable de argumentos **(*args)**"
      ]
    },
    {
      "cell_type": "code",
      "execution_count": 13,
      "metadata": {
        "id": "rWj_6IQ_z_DQ"
      },
      "outputs": [],
      "source": [
        "def add(*args):\n",
        "    print(args, type(args))"
      ]
    },
    {
      "cell_type": "code",
      "execution_count": 14,
      "metadata": {
        "colab": {
          "base_uri": "https://localhost:8080/"
        },
        "id": "E3ipsmZEz_AX",
        "outputId": "d808ebf6-62bc-4056-b057-bd84f6a8f4e6"
      },
      "outputs": [
        {
          "name": "stdout",
          "output_type": "stream",
          "text": [
            "(2, 3, 'hola', False) <class 'tuple'>\n"
          ]
        }
      ],
      "source": [
        "add(2, 3, \"hola\", False)"
      ]
    },
    {
      "cell_type": "code",
      "execution_count": 15,
      "metadata": {
        "id": "GlUN4smKz-8_"
      },
      "outputs": [],
      "source": [
        "def add_numbers(*numbers):\n",
        "    total = 0\n",
        "    for num in numbers:\n",
        "        total += num\n",
        "    return total"
      ]
    },
    {
      "cell_type": "code",
      "execution_count": 17,
      "metadata": {
        "colab": {
          "base_uri": "https://localhost:8080/"
        },
        "id": "ApdXuG_rz-4Z",
        "outputId": "34cc3abf-3f27-47c8-a6de-605afb5f93b6"
      },
      "outputs": [
        {
          "name": "stdout",
          "output_type": "stream",
          "text": [
            "45\n"
          ]
        }
      ],
      "source": [
        "print(add_numbers(1, 2, 3, 4, 5, 6, 7, 8, 9))"
      ]
    },
    {
      "cell_type": "code",
      "execution_count": null,
      "metadata": {
        "id": "c8K7JXWWz-17"
      },
      "outputs": [],
      "source": [
        "# Ejercicio\n",
        "# Crear una función que reciba una lista de personas y salude a cada uno"
      ]
    },
    {
      "cell_type": "code",
      "execution_count": 43,
      "metadata": {
        "id": "qRw84Z3MHOQS"
      },
      "outputs": [],
      "source": [
        "# Una función puede tener argumentos \"fijos\" y argumentos \"variables\"\n",
        "def argumentos(arg1, *args):\n",
        "    print(\"First argument :\", arg1)\n",
        "    for arg in args:\n",
        "        print(\"Next argument through *argv :\", arg)"
      ]
    },
    {
      "cell_type": "code",
      "execution_count": 44,
      "metadata": {
        "colab": {
          "base_uri": "https://localhost:8080/"
        },
        "id": "ex3_K3MBHrH4",
        "outputId": "2b1488fd-e15f-4a67-b5aa-c5f04eff8c32"
      },
      "outputs": [
        {
          "name": "stdout",
          "output_type": "stream",
          "text": [
            "First argument : Hello\n",
            "Next argument through *argv : Welcome\n",
            "Next argument through *argv : to\n",
            "Next argument through *argv : GeeksforGeeks\n"
          ]
        }
      ],
      "source": [
        "argumentos(\"Hello\", \"Welcome\", \"to\", \"GeeksforGeeks\")"
      ]
    },
    {
      "cell_type": "code",
      "execution_count": 45,
      "metadata": {
        "colab": {
          "base_uri": "https://localhost:8080/"
        },
        "id": "ucOa6Qb0H0Kg",
        "outputId": "bd25475c-d345-419b-cc4b-cf45b4a5eaf5"
      },
      "outputs": [
        {
          "name": "stdout",
          "output_type": "stream",
          "text": [
            "First argument : Hello\n"
          ]
        }
      ],
      "source": [
        "argumentos(\"Hello\")"
      ]
    },
    {
      "cell_type": "markdown",
      "metadata": {
        "id": "styRdYt2DVZa"
      },
      "source": [
        "### Funciones con un número variables de argumentos clave-valor **(\\*\\*kwargs)**"
      ]
    },
    {
      "cell_type": "code",
      "execution_count": 19,
      "metadata": {
        "id": "MnduK7icDnP3"
      },
      "outputs": [],
      "source": [
        "def total_fruits(**kwargs):\n",
        "    print(kwargs, type(kwargs))"
      ]
    },
    {
      "cell_type": "code",
      "execution_count": 20,
      "metadata": {
        "colab": {
          "base_uri": "https://localhost:8080/"
        },
        "id": "F83yh52SDnMO",
        "outputId": "4b7ed23b-6d39-4e7c-a1a0-45474a564119"
      },
      "outputs": [
        {
          "name": "stdout",
          "output_type": "stream",
          "text": [
            "{'banana': 5, 'mango': 7, 'apple': 8, 'a': 1, 'b': 2, 'c': 3, 'd': 4} <class 'dict'>\n"
          ]
        }
      ],
      "source": [
        "total_fruits(banana=5, mango=7, apple=8, a=1, b=2, c=3, d=4)"
      ]
    },
    {
      "cell_type": "code",
      "execution_count": 49,
      "metadata": {
        "id": "IZKSHD67DnJU"
      },
      "outputs": [],
      "source": [
        "def total_fruits(**fruits):\n",
        "    list_fruits = []\n",
        "    total_fruits = 0\n",
        "    for fruit, amount in fruits.items():\n",
        "        list_fruits.append(fruit)\n",
        "        total_fruits += amount\n",
        "    return list_fruits, total_fruits"
      ]
    },
    {
      "cell_type": "code",
      "execution_count": 50,
      "metadata": {
        "colab": {
          "base_uri": "https://localhost:8080/"
        },
        "id": "PxAipJvnDnGO",
        "outputId": "557f6d8d-01ce-4fb9-da6d-2d4473a70159"
      },
      "outputs": [
        {
          "name": "stdout",
          "output_type": "stream",
          "text": [
            "(['banana', 'mango', 'apple', 'oranges'], 30)\n"
          ]
        }
      ],
      "source": [
        "print(total_fruits(banana=5, mango=7, apple=8, oranges=10))"
      ]
    },
    {
      "cell_type": "code",
      "execution_count": null,
      "metadata": {
        "id": "BA7L28TCDnCh"
      },
      "outputs": [],
      "source": [
        "# Ejercicio\n",
        "# Crear una función que reciba la lista de estudiantes con las notas de las\n",
        "# actividades y retorne el estudiante y el promedio de cada uno"
      ]
    },
    {
      "cell_type": "code",
      "execution_count": null,
      "metadata": {
        "id": "N6g8zhitDmuw"
      },
      "outputs": [],
      "source": [
        "# Una función puede tener argumentos \"fijos\" y argumentos \"variables\"\n",
        "def argumentos2(arg1, **kwargs):\n",
        "    print(\"First argument :\", arg1)\n",
        "    for key, value in kwargs.items():\n",
        "        print(f\"{key}: {value}\")"
      ]
    },
    {
      "cell_type": "code",
      "execution_count": null,
      "metadata": {
        "id": "ywk1g8dzKXlG"
      },
      "outputs": [],
      "source": [
        "argumentos2(\"Hi\", a=\"apple\", b=\"banana\", c=\"cherry\")"
      ]
    },
    {
      "cell_type": "code",
      "execution_count": null,
      "metadata": {
        "id": "2PzSHutyKab4"
      },
      "outputs": [],
      "source": [
        "argumentos2(\"Hi\")"
      ]
    },
    {
      "cell_type": "markdown",
      "metadata": {
        "id": "fn5PeZj6D9_R"
      },
      "source": [
        "### Funciones con **args**, **\\*args** y **\\*\\*kwargs**"
      ]
    },
    {
      "cell_type": "code",
      "execution_count": 51,
      "metadata": {
        "id": "CwaGm_gFECXT"
      },
      "outputs": [],
      "source": [
        "def myFun(*args, **kwargs):\n",
        "    print(\"args: \", args)\n",
        "    print(\"kwargs: \", kwargs)"
      ]
    },
    {
      "cell_type": "code",
      "execution_count": 52,
      "metadata": {
        "colab": {
          "base_uri": "https://localhost:8080/"
        },
        "id": "gLlMKingEXex",
        "outputId": "60043ff3-a52a-47a4-9a25-e8297f3f6095"
      },
      "outputs": [
        {
          "name": "stdout",
          "output_type": "stream",
          "text": [
            "args:  ('Hello', 'world')\n",
            "kwargs:  {'a': 'apple', 'b': 'banana', 'c': 'cherry'}\n"
          ]
        }
      ],
      "source": [
        "myFun(\"Hello\", \"world\", a=\"apple\", b=\"banana\", c=\"cherry\")"
      ]
    },
    {
      "cell_type": "markdown",
      "metadata": {
        "id": "UQ3uqyeEHHuj"
      },
      "source": [
        "### Docstring"
      ]
    },
    {
      "cell_type": "code",
      "execution_count": null,
      "metadata": {
        "id": "IcUKb-ipHL6S"
      },
      "outputs": [],
      "source": [
        "def evenOdd(x):\n",
        "    \"\"\"Function to check if the number is even or odd\"\"\"\n",
        "    if x % 2 == 0:\n",
        "        print(\"even\")\n",
        "    else:\n",
        "        print(\"odd\")"
      ]
    },
    {
      "cell_type": "code",
      "execution_count": null,
      "metadata": {
        "id": "_M9DOP5aHUBj"
      },
      "outputs": [],
      "source": [
        "print(evenOdd.__doc__)"
      ]
    },
    {
      "cell_type": "markdown",
      "metadata": {
        "id": "HAcEp3djH_zF"
      },
      "source": [
        "### Funciones con funciones en su interior"
      ]
    },
    {
      "cell_type": "code",
      "execution_count": null,
      "metadata": {
        "id": "cXEAjs9nK1vi"
      },
      "outputs": [],
      "source": [
        "def f1():\n",
        "    s = \"Hello world!\"\n",
        "\n",
        "    def f2():\n",
        "        print(s)\n",
        "\n",
        "    f2()"
      ]
    },
    {
      "cell_type": "code",
      "execution_count": null,
      "metadata": {
        "id": "Y8EIQGdgK-Uv"
      },
      "outputs": [],
      "source": [
        "f1()"
      ]
    },
    {
      "cell_type": "markdown",
      "metadata": {
        "id": "IRBcq-D_L72P"
      },
      "source": [
        "### Funciones recursivas"
      ]
    },
    {
      "cell_type": "code",
      "execution_count": null,
      "metadata": {
        "id": "PqZXB3aDL-ZW"
      },
      "outputs": [],
      "source": [
        "def factorial(x):\n",
        "    \"\"\"This is a recursive function\n",
        "    to find the factorial of an integer\"\"\"\n",
        "\n",
        "    if x == 1:\n",
        "        return 1\n",
        "    else:\n",
        "        return x * factorial(x - 1)"
      ]
    },
    {
      "cell_type": "code",
      "execution_count": null,
      "metadata": {
        "id": "NyOjaMqnMKHk"
      },
      "outputs": [],
      "source": [
        "num = 10\n",
        "print(\"The factorial of\", num, \"is\", factorial(num))"
      ]
    },
    {
      "cell_type": "markdown",
      "metadata": {
        "id": "KHxUbbziMT9-"
      },
      "source": [
        "```python\n",
        "factorial(3)          # 1st call with 3\n",
        "3 * factorial(2)      # 2nd call with 2\n",
        "3 * 2 * factorial(1)  # 3rd call with 1\n",
        "3 * 2 * 1             # return from 3rd call as number=1\n",
        "3 * 2                 # return from 2nd call\n",
        "6                     # return from 1st call\n",
        "```"
      ]
    },
    {
      "cell_type": "markdown",
      "metadata": {},
      "source": [
        "# Actividad\n",
        "\n",
        "Calcular la fuerza gravitacional entre dos objetos, para esto se debe crear una función que calcule la fuerza gravitacional utilizando la ley universal de Newton:\n",
        "\n",
        "$$F = G \\cdot \\frac{m_1 \\cdot m_2}{r^2}$$\n",
        "\n",
        "Donde:\n",
        "- $F$: es la fuerza gravitacional\n",
        "- $G$: es la constante gravitacional ($6.674 \\times 10^{-11} \\, \\text{Nm}^2/\\text{kg}^2$)\n",
        "- $m_1$ y $m_2$ son las masas de los 2 objetos\n",
        "- $r$ es la distancia entre los objetos\n",
        "\n",
        "Los calculos deberan realizarse para:\n",
        "- La Tierra ($5.972 \\times 10^{24} \\, kg$) y la Luna ($7.348 \\times 10^{22} \\, kg$), cuya distancia es: $384'400.000 \\, mts$\n",
        "- Por medio de la librería `random.randint` calcule 10 diferentes Fuerzas gravitacionales utilizando distancias entre $100'000.000 \\, mts$ y $500'000.000 \\, mts$"
      ]
    },
    {
      "cell_type": "markdown",
      "metadata": {
        "id": "tKt3smNxMidD"
      },
      "source": [
        "# Actividad\n",
        "\n",
        "Hay N personas numeradas de 0 a N-1, jugando a un juego. A la persona `K` se le asigna la letra `S[K]`. Al empezar, la persona `0` le envía un mensaje a la persona `A[0]`, consistente en una sola letra `S[0]`. Cuando la persona `K` recibe un mensaje, añade su letra `S[K]` al mensaje y lo reenvía a la persona `A[K]`. El juego termina cundo la persona `0` recibe el mensaje. Encuentra el mensaje final.\n",
        "\n",
        "Puedes asumir que `A` contiene cada entero de 0 a N-1 exactamente una vez.\n",
        "\n",
        "Escribe una funcion:\n",
        "```python\n",
        "def mi_funcion(S, A):\n",
        "  ...\n",
        "```\n",
        "\n",
        "que recibe un string `S` y un array de enteros `A`, ambos de longitud `N` y devuelve un string con el mensaje final recibido por la persona `0`.\n",
        "\n",
        "Ejemplos:\n",
        "1. Si `S = 'cdeo'` y `A = [3,2,0,1]`, la función debe devolver `code`.\n",
        "2. Si `S = 'cdeenetpi'` y `A = [5,2,0,1,6,4,8,3,7]`, la función debe devolver `centipede`.\n",
        "3. Si `S = 'bytdag'` y `A = [4,3,0,1,2,5]`, la función debe devolver `bat`. Nótese que no todas las letras fueron utilizadas."
      ]
    },
    {
      "cell_type": "markdown",
      "metadata": {},
      "source": [
        "Prueba de escritorio"
      ]
    },
    {
      "cell_type": "code",
      "execution_count": null,
      "metadata": {},
      "outputs": [],
      "source": [
        "i = 0; word = ''\n",
        "A[i] -> A[0] = 3 != 0 si: \n",
        "    word = word + S[i]-> S[0] = c\n",
        "    i = A[i] -> A[0] -> i = 3\n",
        "A[i] -> A[3] = 1 != 0 si:\n",
        "    word = word + S[i]-> S[3] = co\n",
        "    i = A[i] -> A[3] -> i = 1\n",
        "A[i] -> A[1] = 2 != 0 si:\n",
        "    word = word + S[i]-> S[1] = cod\n",
        "    i = A[i] -> A[1] -> i = 2\n",
        "A[i] -> A[2] = 0 != 0 no\n",
        "word = word + S[i]-> S[2] = code"
      ]
    },
    {
      "cell_type": "code",
      "execution_count": 7,
      "metadata": {
        "id": "jh_cPTJUMMCm"
      },
      "outputs": [],
      "source": [
        "def mi_funcion(S, A):\n",
        "    i = 0\n",
        "    word = \"\"\n",
        "    while A[i] != 0:\n",
        "        word += S[i]\n",
        "        i = A[i]\n",
        "    word += S[i]\n",
        "    return word"
      ]
    },
    {
      "cell_type": "code",
      "execution_count": null,
      "metadata": {},
      "outputs": [],
      "source": [
        "i = 0\n",
        "A[i] -> "
      ]
    },
    {
      "cell_type": "code",
      "execution_count": 8,
      "metadata": {},
      "outputs": [
        {
          "data": {
            "text/plain": [
              "'code'"
            ]
          },
          "execution_count": 8,
          "metadata": {},
          "output_type": "execute_result"
        }
      ],
      "source": [
        "mi_funcion(\"cdeo\", [3, 2, 0, 1])"
      ]
    },
    {
      "cell_type": "code",
      "execution_count": 9,
      "metadata": {},
      "outputs": [
        {
          "data": {
            "text/plain": [
              "'centipede'"
            ]
          },
          "execution_count": 9,
          "metadata": {},
          "output_type": "execute_result"
        }
      ],
      "source": [
        "mi_funcion(\"cdeenetpi\", [5, 2, 0, 1, 6, 4, 8, 3, 7])"
      ]
    },
    {
      "cell_type": "code",
      "execution_count": 10,
      "metadata": {},
      "outputs": [
        {
          "data": {
            "text/plain": [
              "'bat'"
            ]
          },
          "execution_count": 10,
          "metadata": {},
          "output_type": "execute_result"
        }
      ],
      "source": [
        "mi_funcion(\"bytdag\", [4, 3, 0, 1, 2, 5])"
      ]
    },
    {
      "cell_type": "code",
      "execution_count": 2,
      "metadata": {},
      "outputs": [
        {
          "data": {
            "text/plain": [
              "'c'"
            ]
          },
          "execution_count": 2,
          "metadata": {},
          "output_type": "execute_result"
        }
      ],
      "source": [
        "word = \"cdeo\"\n",
        "word[0]"
      ]
    }
  ],
  "metadata": {
    "colab": {
      "collapsed_sections": [],
      "provenance": [],
      "toc_visible": true
    },
    "kernelspec": {
      "display_name": "Python 3",
      "name": "python3"
    },
    "language_info": {
      "codemirror_mode": {
        "name": "ipython",
        "version": 3
      },
      "file_extension": ".py",
      "mimetype": "text/x-python",
      "name": "python",
      "nbconvert_exporter": "python",
      "pygments_lexer": "ipython3",
      "version": "3.9.19"
    }
  },
  "nbformat": 4,
  "nbformat_minor": 0
}
