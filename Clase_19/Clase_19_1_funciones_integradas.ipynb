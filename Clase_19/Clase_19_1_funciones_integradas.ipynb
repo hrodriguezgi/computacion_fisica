{
  "cells": [
    {
      "cell_type": "markdown",
      "metadata": {
        "id": "Qpvt-Tss2XLi"
      },
      "source": [
        "# Built-in functions (funciones integradas) \n",
        "\n",
        "El interprete Python tiene un número de funciones integradas (built-in), las cuales están siempre disponibles en cualquier parte del lenguaje"
      ]
    },
    {
      "cell_type": "markdown",
      "metadata": {
        "id": "CkylDX11BO0M"
      },
      "source": [
        "## `lambda`\n",
        "\n",
        "\n",
        "En Python, una función anónima es una función que se define sin nombre.\n",
        "\n",
        "Mientras que las funciones normales se definen de la siguiente forma:\n",
        "```python\n",
        "def my_function():\n",
        "  statements\n",
        "```\n",
        "\n",
        "Las funciones anónimas se definen con la parabra reservada `lambda` de la siguiente forma:\n",
        "\n",
        "```python\n",
        "lambda arg, arg,...: expression\n",
        "```\n",
        "\n",
        "Ejemplo:\n",
        "```python\n",
        ">>> L = lambda a, b, c: [a, b * c]\n",
        ">>> L(1, 2, 3)\n",
        "[1, 6]\n",
        "```"
      ]
    },
    {
      "cell_type": "code",
      "execution_count": 2,
      "metadata": {
        "id": "pNa3DYSWXtbz"
      },
      "outputs": [
        {
          "name": "stdout",
          "output_type": "stream",
          "text": [
            "usuario de red: world.org\n"
          ]
        }
      ],
      "source": [
        "# Función Lambda con un argumento\n",
        "# lambda   --> nombre reservado\n",
        "# usuario  --> argumento\n",
        "# :        --> lógica a aplicar al argumento\n",
        "print(\"usuario de red:\", (lambda usuario: usuario.split(\"@\")[1])(\"curso.python@world.org\"))"
      ]
    },
    {
      "cell_type": "code",
      "execution_count": 5,
      "metadata": {
        "id": "qMepE2I9ZdNN"
      },
      "outputs": [
        {
          "name": "stdout",
          "output_type": "stream",
          "text": [
            "suma #1: 1.0\n",
            "suma #2: 0\n",
            "suma #3: 15\n",
            "suma #4: 400\n"
          ]
        }
      ],
      "source": [
        "# Función Lambda con dos argumento\n",
        "\n",
        "print(\"suma #1:\", (lambda numero_1, numero2: numero_1 / numero2)(1,1))\n",
        "print(\"suma #2:\", (lambda numero_1, numero2: numero_1 - numero2)(5,5))\n",
        "print(\"suma #3:\", (lambda numero_1, numero2: numero_1 + numero2)(10,5))\n",
        "print(\"suma #4:\", (lambda numero_1, numero2: numero_1 * numero2)(20,20))"
      ]
    },
    {
      "cell_type": "code",
      "execution_count": null,
      "metadata": {
        "id": "dFjk5NwNaWIT"
      },
      "outputs": [],
      "source": [
        "# Ejercicio\n",
        "# Con la siguiente lista, imprimir el siguiente mensaje para cada nombre:\n",
        "# \"¡Bienvenido Alejandro al curso de Python!\"\n",
        "# Pista: utilizando \"for\"\n",
        "\n",
        "nombres = [\"Alej@ndro\",\"AndrEs\", \"EliAnA\"]\n"
      ]
    },
    {
      "cell_type": "code",
      "execution_count": null,
      "metadata": {
        "id": "yGsS5vchdYNS"
      },
      "outputs": [],
      "source": [
        "# Ejercicio\n",
        "# Con la siguiente lista, imprimir el siguiente mensaje para cada nombre:\n",
        "# \"¡Bienvenido Alejandro al curso de Python!\"\n",
        "# Pista: utilizando funciones lambda\n",
        "\n",
        "nombres = [\"Alej@ndro\",\"AndrEs\", \"EliAnA\"]\n"
      ]
    },
    {
      "cell_type": "code",
      "execution_count": 6,
      "metadata": {
        "id": "lj8zxj1jZg6k"
      },
      "outputs": [
        {
          "name": "stdout",
          "output_type": "stream",
          "text": [
            "suma #1: 2\n",
            "suma #2: 10\n",
            "suma #3: 15\n",
            "suma #4: 40\n"
          ]
        }
      ],
      "source": [
        "# Las funciones lambda se pueden almacenar en variables\n",
        "\n",
        "suma = lambda numero_1, numero2: numero_1 + numero2\n",
        "print(\"suma #1:\", suma(1,1))\n",
        "print(\"suma #2:\", suma(5,5))\n",
        "print(\"suma #3:\", suma(10,5))\n",
        "print(\"suma #4:\", suma(20,20))"
      ]
    },
    {
      "cell_type": "code",
      "execution_count": 7,
      "metadata": {
        "id": "soYhWVU5Zg33"
      },
      "outputs": [
        {
          "data": {
            "text/plain": [
              "['@@alejondo@@', '@@andres@@', '@@eliana@@']"
            ]
          },
          "execution_count": 7,
          "metadata": {},
          "output_type": "execute_result"
        }
      ],
      "source": [
        "nombres = [\"AlejOndo\",\"AndrEs\", \"EliAnA\"]\n",
        "funcion = lambda nombre: \"@@{}@@\".format(nombre.lower())\n",
        "list(map(funcion, nombres))"
      ]
    },
    {
      "cell_type": "markdown",
      "metadata": {
        "id": "BdHj_1XX6yy7"
      },
      "source": [
        "## `type()`\n",
        "\n",
        "La función type() devuelve el tipo del objeto que recibe como argumento."
      ]
    },
    {
      "cell_type": "code",
      "execution_count": 8,
      "metadata": {
        "id": "2V6LHf9dhV9j"
      },
      "outputs": [
        {
          "name": "stdout",
          "output_type": "stream",
          "text": [
            "tipo # 1 :  <class 'list'>\n",
            "tipo # 2 :  <class 'function'>\n"
          ]
        }
      ],
      "source": [
        "print(\"tipo # 1 : \",type(nombres))\n",
        "print(\"tipo # 2 : \",type(funcion))"
      ]
    },
    {
      "cell_type": "markdown",
      "metadata": {
        "id": "gCFgA64l35Hz"
      },
      "source": [
        "## `eval`\n",
        "\n",
        "Evalúa una cadena como una expresión"
      ]
    },
    {
      "cell_type": "code",
      "execution_count": null,
      "metadata": {
        "id": "zeWHsC58hs6N"
      },
      "outputs": [],
      "source": [
        "print(\"(5 * 5) + True\")"
      ]
    },
    {
      "cell_type": "code",
      "execution_count": null,
      "metadata": {
        "id": "gjQK2B-e54lJ"
      },
      "outputs": [],
      "source": [
        "eval(\"(5 * 5) + True\")"
      ]
    },
    {
      "cell_type": "markdown",
      "metadata": {
        "id": "4xM0xlud5vvc"
      },
      "source": [
        "## `exec()`\n",
        "\n",
        "Este método ejecuta el programa creado dinámicamente, que es una cadena o un objeto de código."
      ]
    },
    {
      "cell_type": "code",
      "execution_count": 17,
      "metadata": {
        "id": "i88fZaJFi5Wy"
      },
      "outputs": [
        {
          "name": "stdout",
          "output_type": "stream",
          "text": [
            "el valor cuadratico para : 7 --> es : 343\n"
          ]
        }
      ],
      "source": [
        "codigo_dinamico =\"\"\"\n",
        "al_cuadrado = lambda dato: dato * dato * dato\n",
        "numero = 7\n",
        "print('el valor cuadratico para : {} --> es : {}'.format(numero, al_cuadrado(numero)))\n",
        "\"\"\"\n",
        "exec(codigo_dinamico)"
      ]
    },
    {
      "cell_type": "code",
      "execution_count": null,
      "metadata": {},
      "outputs": [],
      "source": [
        "al_cuadrado = lambda dato: dato * dato * dato\n",
        "numero = 3\n",
        "print('el valor cuadratico para : {} --> es : {}'.format(numero, al_cuadrado(numero)))"
      ]
    },
    {
      "cell_type": "markdown",
      "metadata": {
        "id": "BTE5dmfw5vsl"
      },
      "source": [
        "## `id()`\n",
        "\n",
        "Esta función devuelve la identidad de un objecto. Esto garantiza ser el único entre objetos simultáneamente existentes. (Sugerencia: es la dirección de memoria del objeto)."
      ]
    },
    {
      "cell_type": "code",
      "execution_count": 18,
      "metadata": {},
      "outputs": [],
      "source": [
        "lista = [1,2,3,4,5,6,7,8,9,10]\n",
        "lista2 = lista.copy()\n",
        "lista3 = lista[:]\n",
        "lista4 = lista"
      ]
    },
    {
      "cell_type": "code",
      "execution_count": 20,
      "metadata": {},
      "outputs": [
        {
          "name": "stdout",
          "output_type": "stream",
          "text": [
            "4395698944\n",
            "4395698944\n",
            "4395781696\n",
            "4395865344\n"
          ]
        }
      ],
      "source": [
        "print(id(lista))\n",
        "print(id(lista4))\n",
        "print(id(lista2))\n",
        "print(id(lista3))"
      ]
    },
    {
      "cell_type": "code",
      "execution_count": 21,
      "metadata": {
        "id": "lKXp31fckKwN"
      },
      "outputs": [
        {
          "data": {
            "text/plain": [
              "4395290672"
            ]
          },
          "execution_count": 21,
          "metadata": {},
          "output_type": "execute_result"
        }
      ],
      "source": [
        "id(codigo_dinamico)"
      ]
    },
    {
      "cell_type": "markdown",
      "metadata": {
        "id": "PTMDERgx5vpv"
      },
      "source": [
        "## `len()`\n",
        "\n",
        "Devuelve el número de elementos de un tipo de secuencia o colección."
      ]
    },
    {
      "cell_type": "code",
      "execution_count": 22,
      "metadata": {
        "id": "qJkCLFGXkelF"
      },
      "outputs": [
        {
          "data": {
            "text/plain": [
              "145"
            ]
          },
          "execution_count": 22,
          "metadata": {},
          "output_type": "execute_result"
        }
      ],
      "source": [
        "len(codigo_dinamico)"
      ]
    },
    {
      "cell_type": "code",
      "execution_count": 23,
      "metadata": {},
      "outputs": [
        {
          "data": {
            "text/plain": [
              "10"
            ]
          },
          "execution_count": 23,
          "metadata": {},
          "output_type": "execute_result"
        }
      ],
      "source": [
        "len(lista)"
      ]
    },
    {
      "cell_type": "markdown",
      "metadata": {
        "id": "a84Zw9u15vi1"
      },
      "source": [
        "## `range()`\n",
        "\n",
        "Esta devuelve una lista conteniendo una progresión aritmética de enteros.\n",
        "\n",
        "```python\n",
        "(start, end -1, jump)\n",
        "```"
      ]
    },
    {
      "cell_type": "code",
      "execution_count": 24,
      "metadata": {
        "id": "zGp9Mr7dkjnk"
      },
      "outputs": [
        {
          "data": {
            "text/plain": [
              "[0, 1, 2, 3, 4]"
            ]
          },
          "execution_count": 24,
          "metadata": {},
          "output_type": "execute_result"
        }
      ],
      "source": [
        "# forma 1 | basico total elementos\n",
        "list(range(5))"
      ]
    },
    {
      "cell_type": "code",
      "execution_count": 25,
      "metadata": {
        "id": "rN6COheukwuT"
      },
      "outputs": [
        {
          "data": {
            "text/plain": [
              "[2, 3, 4, 5, 6, 7, 8, 9, 10, 11, 12, 13, 14]"
            ]
          },
          "execution_count": 25,
          "metadata": {},
          "output_type": "execute_result"
        }
      ],
      "source": [
        "# forma 2 | rango inicial y rango final\n",
        "list(range(2,15))"
      ]
    },
    {
      "cell_type": "code",
      "execution_count": 26,
      "metadata": {
        "id": "fxGG3MT7lF3Q"
      },
      "outputs": [
        {
          "data": {
            "text/plain": [
              "[2, 4, 6, 8, 10, 12, 14]"
            ]
          },
          "execution_count": 26,
          "metadata": {},
          "output_type": "execute_result"
        }
      ],
      "source": [
        "# forma 3 | rango inicial, rango final e intervalos\n",
        "list(range(2,15,2))"
      ]
    },
    {
      "cell_type": "markdown",
      "metadata": {
        "id": "4JBLs9Y_6ywF"
      },
      "source": [
        "## `input()`\n",
        "\n",
        "Permite recibir valores por consola"
      ]
    },
    {
      "cell_type": "code",
      "execution_count": 27,
      "metadata": {},
      "outputs": [],
      "source": [
        "nombre = \"Alejandro\""
      ]
    },
    {
      "cell_type": "code",
      "execution_count": 29,
      "metadata": {
        "id": "O_vBQHQMlYnR"
      },
      "outputs": [
        {
          "name": "stdout",
          "output_type": "stream",
          "text": [
            "el nombre ingresado fue : Pedrito\n"
          ]
        }
      ],
      "source": [
        "nombre = input(\"por favor ingrese su nombre : \")\n",
        "print(f\"el nombre ingresado fue : {nombre}\")"
      ]
    },
    {
      "cell_type": "code",
      "execution_count": 32,
      "metadata": {
        "id": "WvxeBqb9lqER"
      },
      "outputs": [
        {
          "name": "stdout",
          "output_type": "stream",
          "text": [
            "None\n"
          ]
        }
      ],
      "source": [
        "# print(3 * 3 * 3)\n",
        "exec(input(\"ingrese operacion : \"))"
      ]
    },
    {
      "cell_type": "markdown",
      "metadata": {},
      "source": [
        "# `print()`"
      ]
    },
    {
      "cell_type": "code",
      "execution_count": 37,
      "metadata": {},
      "outputs": [
        {
          "name": "stdout",
          "output_type": "stream",
          "text": [
            "hola mundo\n",
            "cruel\n",
            "estamos de madrugada\n"
          ]
        }
      ],
      "source": [
        "print('hola mundo', 'cruel', 'estamos de madrugada', sep='\\n')"
      ]
    },
    {
      "cell_type": "code",
      "execution_count": 34,
      "metadata": {},
      "outputs": [
        {
          "name": "stdout",
          "output_type": "stream",
          "text": [
            "Help on built-in function print in module builtins:\n",
            "\n",
            "print(...)\n",
            "    print(value, ..., sep=' ', end='\\n', file=sys.stdout, flush=False)\n",
            "    \n",
            "    Prints the values to a stream, or to sys.stdout by default.\n",
            "    Optional keyword arguments:\n",
            "    file:  a file-like object (stream); defaults to the current sys.stdout.\n",
            "    sep:   string inserted between values, default a space.\n",
            "    end:   string appended after the last value, default a newline.\n",
            "    flush: whether to forcibly flush the stream.\n",
            "\n"
          ]
        }
      ],
      "source": [
        "help(print)"
      ]
    },
    {
      "cell_type": "code",
      "execution_count": 42,
      "metadata": {},
      "outputs": [
        {
          "name": "stdout",
          "output_type": "stream",
          "text": [
            "hola mundo cualquier cosa 10 algo mas\n"
          ]
        }
      ],
      "source": [
        "estado = 'cualquier cosa'\n",
        "otra = 10\n",
        "otra_mas = 'algo mas'\n",
        "\n",
        "\n",
        "print(f\"hola mundo {estado} {otra} {otra_mas}\")\n"
      ]
    },
    {
      "cell_type": "code",
      "execution_count": 45,
      "metadata": {},
      "outputs": [
        {
          "name": "stdout",
          "output_type": "stream",
          "text": [
            "hola mundo 10 cualquier cosa algo mas\n"
          ]
        }
      ],
      "source": [
        "print(\"hola mundo {} {} {}\".format(otra, estado, otra_mas))"
      ]
    },
    {
      "cell_type": "markdown",
      "metadata": {
        "id": "1ifx9szz6yqb"
      },
      "source": [
        "## `max()`\n",
        "\n",
        "Si recibe más de un argumento, devuelve el mayor de ellos."
      ]
    },
    {
      "cell_type": "code",
      "execution_count": 46,
      "metadata": {
        "id": "cT3IplkemQnl"
      },
      "outputs": [
        {
          "data": {
            "text/plain": [
              "5"
            ]
          },
          "execution_count": 46,
          "metadata": {},
          "output_type": "execute_result"
        }
      ],
      "source": [
        "lista = [3,1,2,5,4]\n",
        "max(lista)"
      ]
    },
    {
      "cell_type": "code",
      "execution_count": 47,
      "metadata": {
        "id": "zkl796go7cww"
      },
      "outputs": [
        {
          "data": {
            "text/plain": [
              "'mundo'"
            ]
          },
          "execution_count": 47,
          "metadata": {},
          "output_type": "execute_result"
        }
      ],
      "source": [
        "max('a','b','hola', 'mundo')"
      ]
    },
    {
      "cell_type": "markdown",
      "metadata": {
        "id": "HptcrtYq8NV1"
      },
      "source": [
        "## `min()`\n",
        "\n",
        "Tiene un comportamiento similar a `max()`, pero devuelve el mínimo."
      ]
    },
    {
      "cell_type": "code",
      "execution_count": 48,
      "metadata": {
        "id": "JyurylLdmbsJ"
      },
      "outputs": [
        {
          "data": {
            "text/plain": [
              "1"
            ]
          },
          "execution_count": 48,
          "metadata": {},
          "output_type": "execute_result"
        }
      ],
      "source": [
        "lista = [3,1,2,5,4]\n",
        "min(lista)"
      ]
    },
    {
      "cell_type": "code",
      "execution_count": 49,
      "metadata": {
        "id": "uUFV65_97XzB"
      },
      "outputs": [
        {
          "data": {
            "text/plain": [
              "-1"
            ]
          },
          "execution_count": 49,
          "metadata": {},
          "output_type": "execute_result"
        }
      ],
      "source": [
        "min(1,2,3,4,-1)"
      ]
    },
    {
      "cell_type": "markdown",
      "metadata": {
        "id": "XdRxfAf38NTF"
      },
      "source": [
        "## `round()`\n",
        "\n",
        "Esta función redondea un número flotante a una precisión dada en dígitos decimal (por defecto 0 dígitos). Esto siempre devuelve un número flotante. La precisión tal vez sea negativa."
      ]
    },
    {
      "cell_type": "code",
      "execution_count": 51,
      "metadata": {
        "id": "4dopvtNImgdR"
      },
      "outputs": [
        {
          "name": "stdout",
          "output_type": "stream",
          "text": [
            "round # 1 :  14\n",
            "round # 2 :  15\n",
            "round # 3 :  14.34\n"
          ]
        }
      ],
      "source": [
        "print(\"round # 1 : \", round(14.3))\n",
        "print(\"round # 2 : \", round(14.6))\n",
        "print(\"round # 3 : \", round(14.344345345,2))"
      ]
    },
    {
      "cell_type": "markdown",
      "metadata": {
        "id": "MwzkG28x8NQo"
      },
      "source": [
        "## `sum()`\n",
        "\n",
        "Esta función devuelve una lista ordenada de los elementos de la secuencia que recibe como argumento (lista o cadena). La secuencia original no es modificada."
      ]
    },
    {
      "cell_type": "code",
      "execution_count": 52,
      "metadata": {
        "id": "UBfK7ohYnLzC"
      },
      "outputs": [
        {
          "data": {
            "text/plain": [
              "40.0"
            ]
          },
          "execution_count": 52,
          "metadata": {},
          "output_type": "execute_result"
        }
      ],
      "source": [
        "lista = [3,1,2,5,4,25.0]\n",
        "sum(lista)"
      ]
    },
    {
      "cell_type": "markdown",
      "metadata": {
        "id": "tvbW9-Op8NN-"
      },
      "source": [
        "## `chr()`\n",
        "\n",
        "Esta función recibe como argumento un entero, y devuelve una cadena con el carácter cuyo código Unicode corresponde a ese valor. El rango válido para el argumento es de 0 a 256.\n",
        "\n",
        "<img src=\"https://www.codigosinformaticos.com/wp-content/uploads/2019/05/codigo-ascii.png\"\n",
        "     width=\"800\"\n",
        "     height=\"600\"  class=\"center\"/>"
      ]
    },
    {
      "cell_type": "code",
      "execution_count": 53,
      "metadata": {
        "id": "tBuIhuYnnpzY"
      },
      "outputs": [
        {
          "name": "stdout",
          "output_type": "stream",
          "text": [
            "ascii # 1 -->  #\n",
            "ascii # 2 -->  %\n",
            "ascii # 3 -->  @\n"
          ]
        }
      ],
      "source": [
        "print(\"ascii # 1 --> \", chr(35))\n",
        "print(\"ascii # 2 --> \", chr(37))\n",
        "print(\"ascii # 3 --> \", chr(64))"
      ]
    },
    {
      "cell_type": "markdown",
      "metadata": {
        "id": "OsD8Vwl69uA8"
      },
      "source": [
        "## `iter()`\n",
        "\n",
        "Esta función obtiene un iterador de un objeto. En la primera forma, el argumento debe proporcionar su propio iterador, o ser una secuencia."
      ]
    },
    {
      "cell_type": "code",
      "execution_count": 54,
      "metadata": {
        "id": "YLCEjzWHn77i"
      },
      "outputs": [
        {
          "name": "stdout",
          "output_type": "stream",
          "text": [
            "<list_iterator object at 0x1061cc3a0> <class 'list_iterator'>\n"
          ]
        }
      ],
      "source": [
        "iterador = iter([\"apple\",\"samsung\", \"nokia\"])\n",
        "print(iterador,type(iterador))"
      ]
    },
    {
      "cell_type": "markdown",
      "metadata": {
        "id": "az37OMQs9nFi"
      },
      "source": [
        "## `next()`\n",
        "\n",
        "Esta función devuelve el próximo elemento desde un iterador."
      ]
    },
    {
      "cell_type": "code",
      "execution_count": 55,
      "metadata": {
        "id": "cuyxwnW_oiAa"
      },
      "outputs": [
        {
          "data": {
            "text/plain": [
              "'apple'"
            ]
          },
          "execution_count": 55,
          "metadata": {},
          "output_type": "execute_result"
        }
      ],
      "source": [
        "next(iterador)"
      ]
    },
    {
      "cell_type": "code",
      "execution_count": 56,
      "metadata": {
        "id": "c9uj6iIoosDu"
      },
      "outputs": [
        {
          "name": "stdout",
          "output_type": "stream",
          "text": [
            "codigo intermedio ..,.,.,.,., -->\n"
          ]
        }
      ],
      "source": [
        "print(\"codigo intermedio ..,.,.,.,., -->\")"
      ]
    },
    {
      "cell_type": "code",
      "execution_count": 57,
      "metadata": {
        "id": "jIaKIxdRow3V"
      },
      "outputs": [
        {
          "data": {
            "text/plain": [
              "'samsung'"
            ]
          },
          "execution_count": 57,
          "metadata": {},
          "output_type": "execute_result"
        }
      ],
      "source": [
        "next(iterador)"
      ]
    },
    {
      "cell_type": "code",
      "execution_count": 58,
      "metadata": {
        "id": "wxR-YUEHpDCF"
      },
      "outputs": [
        {
          "name": "stdout",
          "output_type": "stream",
          "text": [
            "codigo intermedio ..,.,.,.,., -->\n"
          ]
        }
      ],
      "source": [
        "print(\"codigo intermedio ..,.,.,.,., -->\")"
      ]
    },
    {
      "cell_type": "code",
      "execution_count": 59,
      "metadata": {
        "id": "qUNi-hufpEHk"
      },
      "outputs": [
        {
          "data": {
            "text/plain": [
              "'nokia'"
            ]
          },
          "execution_count": 59,
          "metadata": {},
          "output_type": "execute_result"
        }
      ],
      "source": [
        "next(iterador)"
      ]
    },
    {
      "cell_type": "code",
      "execution_count": 60,
      "metadata": {
        "id": "ugI55c6vpKI6"
      },
      "outputs": [
        {
          "ename": "StopIteration",
          "evalue": "",
          "output_type": "error",
          "traceback": [
            "\u001b[0;31m---------------------------------------------------------------------------\u001b[0m",
            "\u001b[0;31mStopIteration\u001b[0m                             Traceback (most recent call last)",
            "Cell \u001b[0;32mIn[60], line 1\u001b[0m\n\u001b[0;32m----> 1\u001b[0m \u001b[38;5;28;43mnext\u001b[39;49m\u001b[43m(\u001b[49m\u001b[43miterador\u001b[49m\u001b[43m)\u001b[49m\n",
            "\u001b[0;31mStopIteration\u001b[0m: "
          ]
        }
      ],
      "source": [
        "next(iterador)"
      ]
    },
    {
      "cell_type": "markdown",
      "metadata": {
        "id": "k14wYZDt9nDX"
      },
      "source": [
        "## `sorted()`\n",
        "\n",
        "Esta función devuelve una lista ordenada de los elementos del tipo secuencia que recibe como argumento (lista o cadena de caracteres). La secuencia original no es modificada."
      ]
    },
    {
      "cell_type": "code",
      "execution_count": 61,
      "metadata": {
        "id": "FRsHOyRqpPEQ"
      },
      "outputs": [
        {
          "name": "stdout",
          "output_type": "stream",
          "text": [
            "ascendentemente  :  [1, 2, 3, 4, 5, 25]\n",
            "descendentemente :  [25, 5, 4, 3, 2, 1]\n"
          ]
        }
      ],
      "source": [
        "lista = [3,1,2,5,4,25]\n",
        "\n",
        "print(\"ascendentemente  : \", sorted(lista))\n",
        "print(\"descendentemente : \", sorted(lista,reverse=True))"
      ]
    },
    {
      "cell_type": "markdown",
      "metadata": {
        "id": "sy1dYufS9nAn"
      },
      "source": [
        "## `zip()`\n",
        "\n",
        "Esta función devuelve una lista de tuplas, donde cada tupla contiene el elemento i-th desde cada una de los tipos de secuencias de argumento. La lista devuelta es truncada en longitud a la longitud de la secuencia de argumentos más corta.\n",
        "\n",
        "<img src=\"https://python-course.eu/images/advanced-python/zip_two_lists_400w.webp\"\n",
        "     width=\"300\"\n",
        "     height=\"200\"  class=\"center\"/>\n",
        "\n"
      ]
    },
    {
      "cell_type": "code",
      "execution_count": null,
      "metadata": {
        "id": "MMDLpzzRpmOC"
      },
      "outputs": [],
      "source": [
        "l1 = [1,2,3,4,5]\n",
        "l2 = [\"a\",\"b\",\"c\",\"d\", \"3\"]\n",
        "l3 = [999,998]"
      ]
    },
    {
      "cell_type": "code",
      "execution_count": null,
      "metadata": {
        "id": "hm4p0UgEp9sx"
      },
      "outputs": [],
      "source": [
        "# uniendo elementos\n",
        "list(zip(l1,l2))"
      ]
    },
    {
      "cell_type": "code",
      "execution_count": null,
      "metadata": {
        "id": "4_2rZNNaqOpa"
      },
      "outputs": [],
      "source": [
        "# listas desbalanceadas\n",
        "list(zip(l1, l3))"
      ]
    },
    {
      "cell_type": "code",
      "execution_count": null,
      "metadata": {
        "id": "kRG5DUnPqlbf"
      },
      "outputs": [],
      "source": [
        "# unir multiples listas\n",
        "list(zip(l1, l2,l3))"
      ]
    },
    {
      "cell_type": "code",
      "execution_count": null,
      "metadata": {
        "id": "AbIZ3hfPqsEE"
      },
      "outputs": [],
      "source": [
        "# ingenieria inversa\n",
        "lista_de_tuplas = list(zip(l1,l2))\n",
        "lista_de_tuplas"
      ]
    },
    {
      "cell_type": "code",
      "execution_count": null,
      "metadata": {
        "id": "k4fZsR7uq4Vf"
      },
      "outputs": [],
      "source": [
        "lista_numeros, lista_letras = zip(*lista_de_tuplas)\n",
        "print(\"lista de numeros --> : \",lista_numeros)\n",
        "print(\"lista de letras  --> : \",lista_letras)"
      ]
    },
    {
      "cell_type": "code",
      "execution_count": null,
      "metadata": {
        "id": "Ip3DOsYjrppy"
      },
      "outputs": [],
      "source": [
        "# complex \n",
        "lista_de_tuplas[0][1]"
      ]
    },
    {
      "cell_type": "code",
      "execution_count": null,
      "metadata": {
        "id": "oArIfmz8rK8h"
      },
      "outputs": [],
      "source": [
        "# lista de tuplas en formato imaginario de llave valor [(llave, valor), (\"llav2\", \"valor2\")]\n",
        "# lo puedo pasar a diccionario\n",
        "print(\"lista elementos   --> \",lista_de_tuplas)\n",
        "print(\"zip a diccionario --> \",dict(lista_de_tuplas))"
      ]
    },
    {
      "cell_type": "markdown",
      "metadata": {
        "id": "oYgSLBfO9m9t"
      },
      "source": [
        "## `hash()`\n",
        "\n",
        "Esta función devuelve un valor hash de tipo entero para el objeto."
      ]
    },
    {
      "cell_type": "code",
      "execution_count": null,
      "metadata": {
        "id": "MafOpTrZsBfO"
      },
      "outputs": [],
      "source": [
        "# como garantizar que un archivo no cambiete desde su origen hasta su destino\n",
        "hash(\"hola-todos\")"
      ]
    },
    {
      "cell_type": "code",
      "execution_count": null,
      "metadata": {
        "id": "YxA9QsTFskSh"
      },
      "outputs": [],
      "source": [
        "hash(\"hola-todos\")"
      ]
    },
    {
      "cell_type": "markdown",
      "metadata": {
        "id": "jbW7tP4u9m6k"
      },
      "source": [
        "## `isinstance()`\n",
        "\n",
        "Esta función le permite corroborar si un objeto es una instancia de una clase.\n",
        "\n",
        "```python\n",
        "isinstance(\"variable\",data_type)\n",
        "```"
      ]
    },
    {
      "cell_type": "code",
      "execution_count": null,
      "metadata": {
        "id": "N7V83MHFsB5g"
      },
      "outputs": [],
      "source": [
        "# sive para saber si una variables es de un tipo de dato especifico\n",
        "print(\"es numero : --> \",isinstance(12,int))\n",
        "print(\"es numero : --> \",isinstance(12.5,int))\n",
        "print(\"es lista  : --> \",isinstance([1,2,3],list))\n",
        "print(\"es lista  : --> \",isinstance(1,list))\n",
        "print(\"es dict   : --> \",isinstance({},dict))"
      ]
    },
    {
      "cell_type": "markdown",
      "metadata": {
        "id": "9BbawwrH9m3e"
      },
      "source": [
        "## `enumerate()`\n",
        "\n",
        "Esta función permite obtener un contador y el valor del iterable al mismo tiempo\n",
        "\n"
      ]
    },
    {
      "cell_type": "code",
      "execution_count": null,
      "metadata": {
        "id": "Ijmk7vtIsCPg"
      },
      "outputs": [],
      "source": [
        "# basico\n",
        "nombres = [\"apple\",\"samsung\", \"nokia\"]\n",
        "list(enumerate(nombres))"
      ]
    },
    {
      "cell_type": "code",
      "execution_count": null,
      "metadata": {
        "id": "OnjB-s4TtvjG"
      },
      "outputs": [],
      "source": [
        "# usando zip\n",
        "list(enumerate(zip(nombres,[\"ger.it\",\"ger.bi\",\"ger.analytics\"])))"
      ]
    },
    {
      "cell_type": "code",
      "execution_count": null,
      "metadata": {
        "id": "oNHGbrObuFKt"
      },
      "outputs": [],
      "source": [
        "datos = list(enumerate(zip(nombres,[\"ger.it\",\"ger.bi\",\"ger.analytics\"])))\n",
        "for index, element in datos:\n",
        "  print(\"el indice es ---> {}, el valor es : ---> {}\".format(index, element))"
      ]
    },
    {
      "cell_type": "code",
      "execution_count": null,
      "metadata": {
        "id": "3MMCgVhruxVo"
      },
      "outputs": [],
      "source": [
        "indice_manual, valor_manual = datos[0]\n",
        "print(\"index : \",indice_manual,\"valor : \", valor_manual)"
      ]
    }
  ],
  "metadata": {
    "colab": {
      "collapsed_sections": [],
      "provenance": [],
      "toc_visible": true
    },
    "kernelspec": {
      "display_name": "Python 3",
      "name": "python3"
    },
    "language_info": {
      "codemirror_mode": {
        "name": "ipython",
        "version": 3
      },
      "file_extension": ".py",
      "mimetype": "text/x-python",
      "name": "python",
      "nbconvert_exporter": "python",
      "pygments_lexer": "ipython3",
      "version": "3.9.19"
    }
  },
  "nbformat": 4,
  "nbformat_minor": 0
}
