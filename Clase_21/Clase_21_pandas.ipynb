{
 "cells": [
  {
   "cell_type": "markdown",
   "id": "f219a867",
   "metadata": {},
   "source": [
    "# Pandas\n",
    "\n",
    "Pandas es otra librería que como fue mencionado anteriormente utiliza numpy como\n",
    "parte de su core. Pandas tiene 2 objetos principales: **Series** y **Dataframes**"
   ]
  },
  {
   "cell_type": "code",
   "execution_count": 1,
   "id": "d78f4bc2",
   "metadata": {},
   "outputs": [
    {
     "name": "stdout",
     "output_type": "stream",
     "text": [
      "Collecting pandas\n",
      "  Downloading pandas-2.2.3-cp39-cp39-macosx_11_0_arm64.whl.metadata (89 kB)\n",
      "Requirement already satisfied: numpy>=1.22.4 in /Users/hrodriguezgi/Github/computacion_fisica/venv/lib/python3.9/site-packages (from pandas) (2.0.2)\n",
      "Requirement already satisfied: python-dateutil>=2.8.2 in /Users/hrodriguezgi/Github/computacion_fisica/venv/lib/python3.9/site-packages (from pandas) (2.9.0.post0)\n",
      "Collecting pytz>=2020.1 (from pandas)\n",
      "  Downloading pytz-2024.2-py2.py3-none-any.whl.metadata (22 kB)\n",
      "Collecting tzdata>=2022.7 (from pandas)\n",
      "  Downloading tzdata-2024.2-py2.py3-none-any.whl.metadata (1.4 kB)\n",
      "Requirement already satisfied: six>=1.5 in /Users/hrodriguezgi/Github/computacion_fisica/venv/lib/python3.9/site-packages (from python-dateutil>=2.8.2->pandas) (1.16.0)\n",
      "Downloading pandas-2.2.3-cp39-cp39-macosx_11_0_arm64.whl (11.3 MB)\n",
      "\u001b[2K   \u001b[90m━━━━━━━━━━━━━━━━━━━━━━━━━━━━━━━━━━━━━━━━\u001b[0m \u001b[32m11.3/11.3 MB\u001b[0m \u001b[31m3.8 MB/s\u001b[0m eta \u001b[36m0:00:00\u001b[0ma \u001b[36m0:00:01\u001b[0m\n",
      "\u001b[?25hDownloading pytz-2024.2-py2.py3-none-any.whl (508 kB)\n",
      "Downloading tzdata-2024.2-py2.py3-none-any.whl (346 kB)\n",
      "Installing collected packages: pytz, tzdata, pandas\n",
      "Successfully installed pandas-2.2.3 pytz-2024.2 tzdata-2024.2\n"
     ]
    }
   ],
   "source": [
    "!pip install pandas"
   ]
  },
  {
   "cell_type": "code",
   "execution_count": 1,
   "id": "bc3ff8a6",
   "metadata": {},
   "outputs": [],
   "source": [
    "# Importar la librería\n",
    "import pandas as pd"
   ]
  },
  {
   "cell_type": "code",
   "execution_count": 2,
   "id": "7c098a0a",
   "metadata": {},
   "outputs": [
    {
     "name": "stdout",
     "output_type": "stream",
     "text": [
      "Pandas version: 2.2.3\n"
     ]
    }
   ],
   "source": [
    "# Version\n",
    "print(f\"Pandas version: {pd.__version__}\")"
   ]
  },
  {
   "cell_type": "markdown",
   "id": "23264fb2",
   "metadata": {},
   "source": [
    "## Pandas Series\n",
    "\n",
    "Una serie es un array de una dimensión. Es similar a los array de Numpy con la\n",
    "diferencia de tener los índices etiquetados"
   ]
  },
  {
   "cell_type": "markdown",
   "id": "af20ed22",
   "metadata": {},
   "source": [
    "### Creación de una Serie"
   ]
  },
  {
   "cell_type": "code",
   "execution_count": 4,
   "id": "432542ad",
   "metadata": {},
   "outputs": [
    {
     "data": {
      "text/plain": [
       "0    10\n",
       "1    20\n",
       "2    30\n",
       "3    40\n",
       "4    50\n",
       "Name: Lista ejemplo, dtype: int64"
      ]
     },
     "execution_count": 4,
     "metadata": {},
     "output_type": "execute_result"
    }
   ],
   "source": [
    "# Creación de una serie a partir de una lista\n",
    "data = [10, 20, 30, 40, 50]\n",
    "series = pd.Series(data, name=\"Lista ejemplo\")\n",
    "\n",
    "series"
   ]
  },
  {
   "cell_type": "code",
   "execution_count": 5,
   "id": "ea5807da",
   "metadata": {},
   "outputs": [
    {
     "data": {
      "text/plain": [
       "pandas.core.series.Series"
      ]
     },
     "execution_count": 5,
     "metadata": {},
     "output_type": "execute_result"
    }
   ],
   "source": [
    "type(series)"
   ]
  },
  {
   "cell_type": "code",
   "execution_count": 6,
   "id": "16f5dca0",
   "metadata": {},
   "outputs": [],
   "source": [
    "import numpy as np\n",
    "\n",
    "array = np.array([1, 2, 3, 4, 5])"
   ]
  },
  {
   "cell_type": "code",
   "execution_count": 7,
   "id": "8c8f7c1a",
   "metadata": {},
   "outputs": [
    {
     "data": {
      "text/plain": [
       "0    1\n",
       "1    2\n",
       "2    3\n",
       "3    4\n",
       "4    5\n",
       "Name: Array numpy, dtype: int64"
      ]
     },
     "execution_count": 7,
     "metadata": {},
     "output_type": "execute_result"
    }
   ],
   "source": [
    "serie_np = pd.Series(array, name=\"Array numpy\")\n",
    "\n",
    "serie_np"
   ]
  },
  {
   "cell_type": "code",
   "execution_count": 8,
   "id": "02ce5ca7",
   "metadata": {},
   "outputs": [
    {
     "data": {
      "text/plain": [
       "np.float64(3.0)"
      ]
     },
     "execution_count": 8,
     "metadata": {},
     "output_type": "execute_result"
    }
   ],
   "source": [
    "serie_np.mean()"
   ]
  },
  {
   "cell_type": "markdown",
   "id": "b1a67479",
   "metadata": {},
   "source": [
    "## Pandas DataFrame\n",
    "\n",
    "Un Dataframe es un arreglo de dos dimensiones, similar a lo que conocemos a una\n",
    "tabla con filas y columnas (se puede asemejar a una hoja de cálculo de excel)"
   ]
  },
  {
   "cell_type": "markdown",
   "id": "497e7977",
   "metadata": {},
   "source": [
    "### Creación de un Dataframe\n",
    "\n",
    "#### A partir de Numpy"
   ]
  },
  {
   "cell_type": "code",
   "execution_count": 9,
   "id": "dff1a09b",
   "metadata": {},
   "outputs": [],
   "source": [
    "names = np.array([\"Alice\", \"Bob\", \"Charlie\"])\n",
    "ages = np.array([25, 30, 35])\n",
    "cities = np.array([\"New York\", \"Los Angeles\", \"Chicago\"])"
   ]
  },
  {
   "cell_type": "code",
   "execution_count": 11,
   "id": "796e394f",
   "metadata": {},
   "outputs": [
    {
     "data": {
      "text/html": [
       "<div>\n",
       "<style scoped>\n",
       "    .dataframe tbody tr th:only-of-type {\n",
       "        vertical-align: middle;\n",
       "    }\n",
       "\n",
       "    .dataframe tbody tr th {\n",
       "        vertical-align: top;\n",
       "    }\n",
       "\n",
       "    .dataframe thead th {\n",
       "        text-align: right;\n",
       "    }\n",
       "</style>\n",
       "<table border=\"1\" class=\"dataframe\">\n",
       "  <thead>\n",
       "    <tr style=\"text-align: right;\">\n",
       "      <th></th>\n",
       "      <th>Name</th>\n",
       "      <th>Age</th>\n",
       "      <th>City</th>\n",
       "    </tr>\n",
       "  </thead>\n",
       "  <tbody>\n",
       "    <tr>\n",
       "      <th>0</th>\n",
       "      <td>Alice</td>\n",
       "      <td>25</td>\n",
       "      <td>New York</td>\n",
       "    </tr>\n",
       "    <tr>\n",
       "      <th>1</th>\n",
       "      <td>Bob</td>\n",
       "      <td>30</td>\n",
       "      <td>Los Angeles</td>\n",
       "    </tr>\n",
       "    <tr>\n",
       "      <th>2</th>\n",
       "      <td>Charlie</td>\n",
       "      <td>35</td>\n",
       "      <td>Chicago</td>\n",
       "    </tr>\n",
       "  </tbody>\n",
       "</table>\n",
       "</div>"
      ],
      "text/plain": [
       "      Name  Age         City\n",
       "0    Alice   25     New York\n",
       "1      Bob   30  Los Angeles\n",
       "2  Charlie   35      Chicago"
      ]
     },
     "execution_count": 11,
     "metadata": {},
     "output_type": "execute_result"
    }
   ],
   "source": [
    "df = pd.DataFrame({\"Name\": names, \"Age\": ages, \"City\": cities})\n",
    "\n",
    "df"
   ]
  },
  {
   "cell_type": "code",
   "execution_count": null,
   "id": "e24dfd55",
   "metadata": {},
   "outputs": [
    {
     "data": {
      "text/html": [
       "<div>\n",
       "<style scoped>\n",
       "    .dataframe tbody tr th:only-of-type {\n",
       "        vertical-align: middle;\n",
       "    }\n",
       "\n",
       "    .dataframe tbody tr th {\n",
       "        vertical-align: top;\n",
       "    }\n",
       "\n",
       "    .dataframe thead th {\n",
       "        text-align: right;\n",
       "    }\n",
       "</style>\n",
       "<table border=\"1\" class=\"dataframe\">\n",
       "  <thead>\n",
       "    <tr style=\"text-align: right;\">\n",
       "      <th></th>\n",
       "      <th>Age</th>\n",
       "      <th>City</th>\n",
       "    </tr>\n",
       "  </thead>\n",
       "  <tbody>\n",
       "    <tr>\n",
       "      <th>Alice</th>\n",
       "      <td>25</td>\n",
       "      <td>New York</td>\n",
       "    </tr>\n",
       "    <tr>\n",
       "      <th>Bob</th>\n",
       "      <td>30</td>\n",
       "      <td>Los Angeles</td>\n",
       "    </tr>\n",
       "    <tr>\n",
       "      <th>Charlie</th>\n",
       "      <td>35</td>\n",
       "      <td>Chicago</td>\n",
       "    </tr>\n",
       "  </tbody>\n",
       "</table>\n",
       "</div>"
      ],
      "text/plain": [
       "         Age         City\n",
       "Alice     25     New York\n",
       "Bob       30  Los Angeles\n",
       "Charlie   35      Chicago"
      ]
     },
     "metadata": {},
     "output_type": "display_data"
    }
   ],
   "source": [
    "df = pd.DataFrame({\"Age\": ages, \"City\": cities}, index=names)\n",
    "\n",
    "df"
   ]
  },
  {
   "cell_type": "code",
   "execution_count": 12,
   "id": "42661c16",
   "metadata": {},
   "outputs": [
    {
     "data": {
      "text/html": [
       "<div>\n",
       "<style scoped>\n",
       "    .dataframe tbody tr th:only-of-type {\n",
       "        vertical-align: middle;\n",
       "    }\n",
       "\n",
       "    .dataframe tbody tr th {\n",
       "        vertical-align: top;\n",
       "    }\n",
       "\n",
       "    .dataframe thead th {\n",
       "        text-align: right;\n",
       "    }\n",
       "</style>\n",
       "<table border=\"1\" class=\"dataframe\">\n",
       "  <thead>\n",
       "    <tr style=\"text-align: right;\">\n",
       "      <th></th>\n",
       "      <th>Name</th>\n",
       "      <th>Age</th>\n",
       "      <th>City</th>\n",
       "    </tr>\n",
       "  </thead>\n",
       "  <tbody>\n",
       "    <tr>\n",
       "      <th>0</th>\n",
       "      <td>Alice</td>\n",
       "      <td>25</td>\n",
       "      <td>New York</td>\n",
       "    </tr>\n",
       "    <tr>\n",
       "      <th>1</th>\n",
       "      <td>Bob</td>\n",
       "      <td>30</td>\n",
       "      <td>Los Angeles</td>\n",
       "    </tr>\n",
       "    <tr>\n",
       "      <th>2</th>\n",
       "      <td>Charlie</td>\n",
       "      <td>35</td>\n",
       "      <td>Chicago</td>\n",
       "    </tr>\n",
       "  </tbody>\n",
       "</table>\n",
       "</div>"
      ],
      "text/plain": [
       "      Name  Age         City\n",
       "0    Alice   25     New York\n",
       "1      Bob   30  Los Angeles\n",
       "2  Charlie   35      Chicago"
      ]
     },
     "execution_count": 12,
     "metadata": {},
     "output_type": "execute_result"
    }
   ],
   "source": [
    "df"
   ]
  },
  {
   "cell_type": "code",
   "execution_count": 13,
   "id": "8f262317",
   "metadata": {},
   "outputs": [
    {
     "data": {
      "text/html": [
       "<div>\n",
       "<style scoped>\n",
       "    .dataframe tbody tr th:only-of-type {\n",
       "        vertical-align: middle;\n",
       "    }\n",
       "\n",
       "    .dataframe tbody tr th {\n",
       "        vertical-align: top;\n",
       "    }\n",
       "\n",
       "    .dataframe thead th {\n",
       "        text-align: right;\n",
       "    }\n",
       "</style>\n",
       "<table border=\"1\" class=\"dataframe\">\n",
       "  <thead>\n",
       "    <tr style=\"text-align: right;\">\n",
       "      <th></th>\n",
       "      <th>Name</th>\n",
       "      <th>Age</th>\n",
       "      <th>City</th>\n",
       "    </tr>\n",
       "  </thead>\n",
       "  <tbody>\n",
       "    <tr>\n",
       "      <th>0</th>\n",
       "      <td>Alice</td>\n",
       "      <td>25</td>\n",
       "      <td>New York</td>\n",
       "    </tr>\n",
       "    <tr>\n",
       "      <th>1</th>\n",
       "      <td>Bob</td>\n",
       "      <td>30</td>\n",
       "      <td>Los Angeles</td>\n",
       "    </tr>\n",
       "    <tr>\n",
       "      <th>2</th>\n",
       "      <td>Charlie</td>\n",
       "      <td>35</td>\n",
       "      <td>Chicago</td>\n",
       "    </tr>\n",
       "  </tbody>\n",
       "</table>\n",
       "</div>"
      ],
      "text/plain": [
       "      Name  Age         City\n",
       "0    Alice   25     New York\n",
       "1      Bob   30  Los Angeles\n",
       "2  Charlie   35      Chicago"
      ]
     },
     "execution_count": 13,
     "metadata": {},
     "output_type": "execute_result"
    }
   ],
   "source": [
    "df2 = df\n",
    "df2"
   ]
  },
  {
   "cell_type": "code",
   "execution_count": 18,
   "id": "2a152b49",
   "metadata": {},
   "outputs": [
    {
     "data": {
      "text/plain": [
       "'0x10c4a03d0'"
      ]
     },
     "execution_count": 18,
     "metadata": {},
     "output_type": "execute_result"
    }
   ],
   "source": [
    "hex(id(df))"
   ]
  },
  {
   "cell_type": "code",
   "execution_count": 19,
   "id": "0773ea09",
   "metadata": {},
   "outputs": [
    {
     "data": {
      "text/plain": [
       "'0x10c44e3d0'"
      ]
     },
     "execution_count": 19,
     "metadata": {},
     "output_type": "execute_result"
    }
   ],
   "source": [
    "hex(id(df2))"
   ]
  },
  {
   "cell_type": "code",
   "execution_count": 17,
   "id": "43bbe282",
   "metadata": {},
   "outputs": [],
   "source": [
    "df2 = df.copy()"
   ]
  },
  {
   "cell_type": "markdown",
   "id": "bdda79e3",
   "metadata": {},
   "source": [
    "#### A partir de Diccionarios"
   ]
  },
  {
   "cell_type": "code",
   "execution_count": null,
   "id": "26d1c6fb",
   "metadata": {},
   "outputs": [
    {
     "data": {
      "text/html": [
       "<div>\n",
       "<style scoped>\n",
       "    .dataframe tbody tr th:only-of-type {\n",
       "        vertical-align: middle;\n",
       "    }\n",
       "\n",
       "    .dataframe tbody tr th {\n",
       "        vertical-align: top;\n",
       "    }\n",
       "\n",
       "    .dataframe thead th {\n",
       "        text-align: right;\n",
       "    }\n",
       "</style>\n",
       "<table border=\"1\" class=\"dataframe\">\n",
       "  <thead>\n",
       "    <tr style=\"text-align: right;\">\n",
       "      <th></th>\n",
       "      <th>Name</th>\n",
       "      <th>Age</th>\n",
       "      <th>City</th>\n",
       "    </tr>\n",
       "  </thead>\n",
       "  <tbody>\n",
       "    <tr>\n",
       "      <th>0</th>\n",
       "      <td>Alice</td>\n",
       "      <td>25</td>\n",
       "      <td>New York</td>\n",
       "    </tr>\n",
       "    <tr>\n",
       "      <th>1</th>\n",
       "      <td>Bob</td>\n",
       "      <td>30</td>\n",
       "      <td>Los Angeles</td>\n",
       "    </tr>\n",
       "    <tr>\n",
       "      <th>2</th>\n",
       "      <td>Charlie</td>\n",
       "      <td>35</td>\n",
       "      <td>Chicago</td>\n",
       "    </tr>\n",
       "  </tbody>\n",
       "</table>\n",
       "</div>"
      ],
      "text/plain": [
       "      Name  Age         City\n",
       "0    Alice   25     New York\n",
       "1      Bob   30  Los Angeles\n",
       "2  Charlie   35      Chicago"
      ]
     },
     "metadata": {},
     "output_type": "display_data"
    }
   ],
   "source": [
    "data = {\n",
    "    \"Name\": [\"Alice\", \"Bob\", \"Charlie\"],\n",
    "    \"Age\": [25, 30, 35],\n",
    "    \"City\": [\"New York\", \"Los Angeles\", \"Chicago\"],\n",
    "}\n",
    "df = pd.DataFrame(data)\n",
    "df"
   ]
  },
  {
   "cell_type": "code",
   "execution_count": 22,
   "id": "fc34b5cb",
   "metadata": {},
   "outputs": [
    {
     "data": {
      "text/html": [
       "<div>\n",
       "<style scoped>\n",
       "    .dataframe tbody tr th:only-of-type {\n",
       "        vertical-align: middle;\n",
       "    }\n",
       "\n",
       "    .dataframe tbody tr th {\n",
       "        vertical-align: top;\n",
       "    }\n",
       "\n",
       "    .dataframe thead th {\n",
       "        text-align: right;\n",
       "    }\n",
       "</style>\n",
       "<table border=\"1\" class=\"dataframe\">\n",
       "  <thead>\n",
       "    <tr style=\"text-align: right;\">\n",
       "      <th></th>\n",
       "      <th>Name</th>\n",
       "      <th>Age</th>\n",
       "      <th>City</th>\n",
       "    </tr>\n",
       "  </thead>\n",
       "  <tbody>\n",
       "    <tr>\n",
       "      <th>0</th>\n",
       "      <td>Alice</td>\n",
       "      <td>25</td>\n",
       "      <td>New York</td>\n",
       "    </tr>\n",
       "    <tr>\n",
       "      <th>1</th>\n",
       "      <td>Bob</td>\n",
       "      <td>30</td>\n",
       "      <td>Los Angeles</td>\n",
       "    </tr>\n",
       "    <tr>\n",
       "      <th>2</th>\n",
       "      <td>Charlie</td>\n",
       "      <td>35</td>\n",
       "      <td>Chicago</td>\n",
       "    </tr>\n",
       "  </tbody>\n",
       "</table>\n",
       "</div>"
      ],
      "text/plain": [
       "      Name  Age         City\n",
       "0    Alice   25     New York\n",
       "1      Bob   30  Los Angeles\n",
       "2  Charlie   35      Chicago"
      ]
     },
     "execution_count": 22,
     "metadata": {},
     "output_type": "execute_result"
    }
   ],
   "source": [
    "df = pd.DataFrame(\n",
    "    [\n",
    "        {\"Name\": \"Alice\", \"Age\": 25, \"City\": \"New York\"},\n",
    "        {\"Name\": \"Bob\", \"Age\": 30, \"City\": \"Los Angeles\"},\n",
    "        {\"Name\": \"Charlie\", \"Age\": 35, \"City\": \"Chicago\"},\n",
    "    ]\n",
    ")\n",
    "\n",
    "df"
   ]
  },
  {
   "cell_type": "markdown",
   "id": "d58be04d",
   "metadata": {},
   "source": [
    "#### A partir de archivos CSV"
   ]
  },
  {
   "cell_type": "code",
   "execution_count": 25,
   "id": "61fd06cb",
   "metadata": {},
   "outputs": [
    {
     "data": {
      "text/html": [
       "<div>\n",
       "<style scoped>\n",
       "    .dataframe tbody tr th:only-of-type {\n",
       "        vertical-align: middle;\n",
       "    }\n",
       "\n",
       "    .dataframe tbody tr th {\n",
       "        vertical-align: top;\n",
       "    }\n",
       "\n",
       "    .dataframe thead th {\n",
       "        text-align: right;\n",
       "    }\n",
       "</style>\n",
       "<table border=\"1\" class=\"dataframe\">\n",
       "  <thead>\n",
       "    <tr style=\"text-align: right;\">\n",
       "      <th></th>\n",
       "      <th>uuid_country</th>\n",
       "      <th>country_name_es</th>\n",
       "      <th>country_name_en</th>\n",
       "      <th>alpha2</th>\n",
       "      <th>alpha3</th>\n",
       "      <th>continent</th>\n",
       "      <th>calling_code</th>\n",
       "      <th>ofac</th>\n",
       "      <th>created_at</th>\n",
       "      <th>created_by</th>\n",
       "      <th>updated_at</th>\n",
       "      <th>updated_by</th>\n",
       "    </tr>\n",
       "  </thead>\n",
       "  <tbody>\n",
       "    <tr>\n",
       "      <th>0</th>\n",
       "      <td>b26509d7-7a09-56de-ae9d-5b64febfad57</td>\n",
       "      <td>AFGANISTÁN</td>\n",
       "      <td>AFGHANISTAN</td>\n",
       "      <td>AF</td>\n",
       "      <td>AFG</td>\n",
       "      <td>ASIA</td>\n",
       "      <td>93</td>\n",
       "      <td>False</td>\n",
       "      <td>2024-03-05 11:12:13.848</td>\n",
       "      <td>bd45e290-c5bc-5a2c-80bf-2372f0d822e7</td>\n",
       "      <td>2024-03-05 11:12:13.848</td>\n",
       "      <td>bd45e290-c5bc-5a2c-80bf-2372f0d822e7</td>\n",
       "    </tr>\n",
       "    <tr>\n",
       "      <th>1</th>\n",
       "      <td>960d00d2-38e2-57e7-bb13-b828555cd815</td>\n",
       "      <td>ALBANIA</td>\n",
       "      <td>ALBANIA</td>\n",
       "      <td>AL</td>\n",
       "      <td>ALB</td>\n",
       "      <td>EUROPA</td>\n",
       "      <td>355</td>\n",
       "      <td>False</td>\n",
       "      <td>2024-03-05 11:12:13.848</td>\n",
       "      <td>bd45e290-c5bc-5a2c-80bf-2372f0d822e7</td>\n",
       "      <td>2024-03-05 11:12:13.848</td>\n",
       "      <td>bd45e290-c5bc-5a2c-80bf-2372f0d822e7</td>\n",
       "    </tr>\n",
       "    <tr>\n",
       "      <th>2</th>\n",
       "      <td>7492b603-b7ec-5c15-b4b8-5c05397b68fd</td>\n",
       "      <td>ALEMANIA</td>\n",
       "      <td>GERMANY</td>\n",
       "      <td>DE</td>\n",
       "      <td>DEU</td>\n",
       "      <td>EUROPA</td>\n",
       "      <td>49</td>\n",
       "      <td>False</td>\n",
       "      <td>2024-03-05 11:12:13.848</td>\n",
       "      <td>bd45e290-c5bc-5a2c-80bf-2372f0d822e7</td>\n",
       "      <td>2024-03-05 11:12:13.848</td>\n",
       "      <td>bd45e290-c5bc-5a2c-80bf-2372f0d822e7</td>\n",
       "    </tr>\n",
       "    <tr>\n",
       "      <th>3</th>\n",
       "      <td>a351dfdf-7895-5563-8c76-07e769d49227</td>\n",
       "      <td>ANDORRA</td>\n",
       "      <td>ANDORRA</td>\n",
       "      <td>AD</td>\n",
       "      <td>AND</td>\n",
       "      <td>EUROPA</td>\n",
       "      <td>376</td>\n",
       "      <td>False</td>\n",
       "      <td>2024-03-05 11:12:13.848</td>\n",
       "      <td>bd45e290-c5bc-5a2c-80bf-2372f0d822e7</td>\n",
       "      <td>2024-03-05 11:12:13.848</td>\n",
       "      <td>bd45e290-c5bc-5a2c-80bf-2372f0d822e7</td>\n",
       "    </tr>\n",
       "    <tr>\n",
       "      <th>4</th>\n",
       "      <td>87bcfa97-f33b-5d29-b73b-b5c82be398de</td>\n",
       "      <td>ANGOLA</td>\n",
       "      <td>ANGOLA</td>\n",
       "      <td>AO</td>\n",
       "      <td>AGO</td>\n",
       "      <td>AFRICA</td>\n",
       "      <td>244</td>\n",
       "      <td>False</td>\n",
       "      <td>2024-03-05 11:12:13.848</td>\n",
       "      <td>bd45e290-c5bc-5a2c-80bf-2372f0d822e7</td>\n",
       "      <td>2024-03-05 11:12:13.848</td>\n",
       "      <td>bd45e290-c5bc-5a2c-80bf-2372f0d822e7</td>\n",
       "    </tr>\n",
       "  </tbody>\n",
       "</table>\n",
       "</div>"
      ],
      "text/plain": [
       "                           uuid_country country_name_es country_name_en  \\\n",
       "0  b26509d7-7a09-56de-ae9d-5b64febfad57      AFGANISTÁN     AFGHANISTAN   \n",
       "1  960d00d2-38e2-57e7-bb13-b828555cd815         ALBANIA         ALBANIA   \n",
       "2  7492b603-b7ec-5c15-b4b8-5c05397b68fd        ALEMANIA         GERMANY   \n",
       "3  a351dfdf-7895-5563-8c76-07e769d49227         ANDORRA         ANDORRA   \n",
       "4  87bcfa97-f33b-5d29-b73b-b5c82be398de          ANGOLA          ANGOLA   \n",
       "\n",
       "  alpha2 alpha3 continent  calling_code   ofac               created_at  \\\n",
       "0     AF    AFG      ASIA            93  False  2024-03-05 11:12:13.848   \n",
       "1     AL    ALB    EUROPA           355  False  2024-03-05 11:12:13.848   \n",
       "2     DE    DEU    EUROPA            49  False  2024-03-05 11:12:13.848   \n",
       "3     AD    AND    EUROPA           376  False  2024-03-05 11:12:13.848   \n",
       "4     AO    AGO    AFRICA           244  False  2024-03-05 11:12:13.848   \n",
       "\n",
       "                             created_by               updated_at  \\\n",
       "0  bd45e290-c5bc-5a2c-80bf-2372f0d822e7  2024-03-05 11:12:13.848   \n",
       "1  bd45e290-c5bc-5a2c-80bf-2372f0d822e7  2024-03-05 11:12:13.848   \n",
       "2  bd45e290-c5bc-5a2c-80bf-2372f0d822e7  2024-03-05 11:12:13.848   \n",
       "3  bd45e290-c5bc-5a2c-80bf-2372f0d822e7  2024-03-05 11:12:13.848   \n",
       "4  bd45e290-c5bc-5a2c-80bf-2372f0d822e7  2024-03-05 11:12:13.848   \n",
       "\n",
       "                             updated_by  \n",
       "0  bd45e290-c5bc-5a2c-80bf-2372f0d822e7  \n",
       "1  bd45e290-c5bc-5a2c-80bf-2372f0d822e7  \n",
       "2  bd45e290-c5bc-5a2c-80bf-2372f0d822e7  \n",
       "3  bd45e290-c5bc-5a2c-80bf-2372f0d822e7  \n",
       "4  bd45e290-c5bc-5a2c-80bf-2372f0d822e7  "
      ]
     },
     "execution_count": 25,
     "metadata": {},
     "output_type": "execute_result"
    }
   ],
   "source": [
    "countries_csv = pd.read_csv(\"md_country.csv\")\n",
    "countries_csv.head()"
   ]
  },
  {
   "cell_type": "markdown",
   "id": "cde6bb00",
   "metadata": {},
   "source": [
    "#### A partir de archivos JSON"
   ]
  },
  {
   "cell_type": "code",
   "execution_count": 26,
   "id": "99921340",
   "metadata": {},
   "outputs": [
    {
     "data": {
      "text/html": [
       "<div>\n",
       "<style scoped>\n",
       "    .dataframe tbody tr th:only-of-type {\n",
       "        vertical-align: middle;\n",
       "    }\n",
       "\n",
       "    .dataframe tbody tr th {\n",
       "        vertical-align: top;\n",
       "    }\n",
       "\n",
       "    .dataframe thead th {\n",
       "        text-align: right;\n",
       "    }\n",
       "</style>\n",
       "<table border=\"1\" class=\"dataframe\">\n",
       "  <thead>\n",
       "    <tr style=\"text-align: right;\">\n",
       "      <th></th>\n",
       "      <th>uuid_port</th>\n",
       "      <th>locode</th>\n",
       "      <th>port_name</th>\n",
       "      <th>type_name</th>\n",
       "      <th>country_uuid</th>\n",
       "      <th>created_at</th>\n",
       "      <th>created_by</th>\n",
       "      <th>updated_at</th>\n",
       "      <th>updated_by</th>\n",
       "    </tr>\n",
       "  </thead>\n",
       "  <tbody>\n",
       "    <tr>\n",
       "      <th>0</th>\n",
       "      <td>c940ebda-58ce-5f06-866e-05e85c856420</td>\n",
       "      <td>NLTHE</td>\n",
       "      <td>'T HORNTJE</td>\n",
       "      <td>MARITIME PORT</td>\n",
       "      <td>905a4460-6733-51d4-9301-925c3fa6d853</td>\n",
       "      <td>2023-01-01 05:00:00+00:00</td>\n",
       "      <td>bd45e290-c5bc-5a2c-80bf-2372f0d822e7</td>\n",
       "      <td>2023-01-01 05:00:00+00:00</td>\n",
       "      <td>bd45e290-c5bc-5a2c-80bf-2372f0d822e7</td>\n",
       "    </tr>\n",
       "    <tr>\n",
       "      <th>1</th>\n",
       "      <td>ed378e00-72c5-5d82-84a0-538a2c5b8419</td>\n",
       "      <td>CAHOS</td>\n",
       "      <td>100 MILE HOUSE (ONE HUNDRED MILE HO</td>\n",
       "      <td>AIR PORT</td>\n",
       "      <td>32894402-6493-5a21-8fed-f27d9e60ad06</td>\n",
       "      <td>2024-06-05 21:22:00.312000+00:00</td>\n",
       "      <td>bd45e290-c5bc-5a2c-80bf-2372f0d822e7</td>\n",
       "      <td>2024-06-05 21:22:00.312000+00:00</td>\n",
       "      <td>bd45e290-c5bc-5a2c-80bf-2372f0d822e7</td>\n",
       "    </tr>\n",
       "    <tr>\n",
       "      <th>2</th>\n",
       "      <td>cafc2f84-26c1-5479-8de2-ef45cc850346</td>\n",
       "      <td>ESAXO</td>\n",
       "      <td>A BAIUCA</td>\n",
       "      <td>MARITIME PORT</td>\n",
       "      <td>182f7f17-dcbf-5151-8ebe-ea841e58830f</td>\n",
       "      <td>2024-06-05 21:22:00.312000+00:00</td>\n",
       "      <td>bd45e290-c5bc-5a2c-80bf-2372f0d822e7</td>\n",
       "      <td>2024-06-05 21:22:00.312000+00:00</td>\n",
       "      <td>bd45e290-c5bc-5a2c-80bf-2372f0d822e7</td>\n",
       "    </tr>\n",
       "    <tr>\n",
       "      <th>3</th>\n",
       "      <td>48c1729f-3b50-5f1f-8c03-cd52a3bd068d</td>\n",
       "      <td>NOAAA</td>\n",
       "      <td>A I LOFOTEN</td>\n",
       "      <td>MARITIME PORT</td>\n",
       "      <td>c3e7bdfd-74a5-5451-a586-2e558c74bc5b</td>\n",
       "      <td>2024-06-05 21:22:00.312000+00:00</td>\n",
       "      <td>bd45e290-c5bc-5a2c-80bf-2372f0d822e7</td>\n",
       "      <td>2024-06-05 21:22:00.312000+00:00</td>\n",
       "      <td>bd45e290-c5bc-5a2c-80bf-2372f0d822e7</td>\n",
       "    </tr>\n",
       "    <tr>\n",
       "      <th>4</th>\n",
       "      <td>b4748cd5-80c4-5222-b501-5aaadae381e1</td>\n",
       "      <td>DEAAH</td>\n",
       "      <td>AACHEN</td>\n",
       "      <td>AIR PORT</td>\n",
       "      <td>7492b603-b7ec-5c15-b4b8-5c05397b68fd</td>\n",
       "      <td>2024-06-05 21:22:00.312000+00:00</td>\n",
       "      <td>bd45e290-c5bc-5a2c-80bf-2372f0d822e7</td>\n",
       "      <td>2024-06-05 21:22:00.312000+00:00</td>\n",
       "      <td>bd45e290-c5bc-5a2c-80bf-2372f0d822e7</td>\n",
       "    </tr>\n",
       "  </tbody>\n",
       "</table>\n",
       "</div>"
      ],
      "text/plain": [
       "                              uuid_port locode  \\\n",
       "0  c940ebda-58ce-5f06-866e-05e85c856420  NLTHE   \n",
       "1  ed378e00-72c5-5d82-84a0-538a2c5b8419  CAHOS   \n",
       "2  cafc2f84-26c1-5479-8de2-ef45cc850346  ESAXO   \n",
       "3  48c1729f-3b50-5f1f-8c03-cd52a3bd068d  NOAAA   \n",
       "4  b4748cd5-80c4-5222-b501-5aaadae381e1  DEAAH   \n",
       "\n",
       "                             port_name      type_name  \\\n",
       "0                           'T HORNTJE  MARITIME PORT   \n",
       "1  100 MILE HOUSE (ONE HUNDRED MILE HO       AIR PORT   \n",
       "2                             A BAIUCA  MARITIME PORT   \n",
       "3                          A I LOFOTEN  MARITIME PORT   \n",
       "4                               AACHEN       AIR PORT   \n",
       "\n",
       "                           country_uuid                       created_at  \\\n",
       "0  905a4460-6733-51d4-9301-925c3fa6d853        2023-01-01 05:00:00+00:00   \n",
       "1  32894402-6493-5a21-8fed-f27d9e60ad06 2024-06-05 21:22:00.312000+00:00   \n",
       "2  182f7f17-dcbf-5151-8ebe-ea841e58830f 2024-06-05 21:22:00.312000+00:00   \n",
       "3  c3e7bdfd-74a5-5451-a586-2e558c74bc5b 2024-06-05 21:22:00.312000+00:00   \n",
       "4  7492b603-b7ec-5c15-b4b8-5c05397b68fd 2024-06-05 21:22:00.312000+00:00   \n",
       "\n",
       "                             created_by                       updated_at  \\\n",
       "0  bd45e290-c5bc-5a2c-80bf-2372f0d822e7        2023-01-01 05:00:00+00:00   \n",
       "1  bd45e290-c5bc-5a2c-80bf-2372f0d822e7 2024-06-05 21:22:00.312000+00:00   \n",
       "2  bd45e290-c5bc-5a2c-80bf-2372f0d822e7 2024-06-05 21:22:00.312000+00:00   \n",
       "3  bd45e290-c5bc-5a2c-80bf-2372f0d822e7 2024-06-05 21:22:00.312000+00:00   \n",
       "4  bd45e290-c5bc-5a2c-80bf-2372f0d822e7 2024-06-05 21:22:00.312000+00:00   \n",
       "\n",
       "                             updated_by  \n",
       "0  bd45e290-c5bc-5a2c-80bf-2372f0d822e7  \n",
       "1  bd45e290-c5bc-5a2c-80bf-2372f0d822e7  \n",
       "2  bd45e290-c5bc-5a2c-80bf-2372f0d822e7  \n",
       "3  bd45e290-c5bc-5a2c-80bf-2372f0d822e7  \n",
       "4  bd45e290-c5bc-5a2c-80bf-2372f0d822e7  "
      ]
     },
     "execution_count": 26,
     "metadata": {},
     "output_type": "execute_result"
    }
   ],
   "source": [
    "countries_json = pd.read_json(\"md_port_0.json\")\n",
    "countries_json.head()"
   ]
  },
  {
   "cell_type": "code",
   "execution_count": null,
   "id": "43c066e5",
   "metadata": {},
   "outputs": [
    {
     "data": {
      "text/html": [
       "<div>\n",
       "<style scoped>\n",
       "    .dataframe tbody tr th:only-of-type {\n",
       "        vertical-align: middle;\n",
       "    }\n",
       "\n",
       "    .dataframe tbody tr th {\n",
       "        vertical-align: top;\n",
       "    }\n",
       "\n",
       "    .dataframe thead th {\n",
       "        text-align: right;\n",
       "    }\n",
       "</style>\n",
       "<table border=\"1\" class=\"dataframe\">\n",
       "  <thead>\n",
       "    <tr style=\"text-align: right;\">\n",
       "      <th></th>\n",
       "      <th>Name</th>\n",
       "      <th>Age</th>\n",
       "      <th>City</th>\n",
       "    </tr>\n",
       "  </thead>\n",
       "  <tbody>\n",
       "    <tr>\n",
       "      <th>0</th>\n",
       "      <td>Alice</td>\n",
       "      <td>25</td>\n",
       "      <td>New York</td>\n",
       "    </tr>\n",
       "    <tr>\n",
       "      <th>1</th>\n",
       "      <td>Bob</td>\n",
       "      <td>30</td>\n",
       "      <td>Los Angeles</td>\n",
       "    </tr>\n",
       "    <tr>\n",
       "      <th>2</th>\n",
       "      <td>Charlie</td>\n",
       "      <td>35</td>\n",
       "      <td>Chicago</td>\n",
       "    </tr>\n",
       "  </tbody>\n",
       "</table>\n",
       "</div>"
      ],
      "text/plain": [
       "      Name  Age         City\n",
       "0    Alice   25     New York\n",
       "1      Bob   30  Los Angeles\n",
       "2  Charlie   35      Chicago"
      ]
     },
     "metadata": {},
     "output_type": "display_data"
    }
   ],
   "source": [
    "data = {\n",
    "    \"Name\": [\"Alice\", \"Bob\", \"Charlie\"],\n",
    "    \"Age\": [25, 30, 35],\n",
    "    \"City\": [\"New York\", \"Los Angeles\", \"Chicago\"],\n",
    "}\n",
    "df = pd.DataFrame(data)\n",
    "df"
   ]
  },
  {
   "cell_type": "code",
   "execution_count": 28,
   "id": "33b44d2b",
   "metadata": {},
   "outputs": [
    {
     "name": "stdout",
     "output_type": "stream",
     "text": [
      "Collecting openpyxl\n",
      "  Downloading openpyxl-3.1.5-py2.py3-none-any.whl.metadata (2.5 kB)\n",
      "Collecting et-xmlfile (from openpyxl)\n",
      "  Using cached et_xmlfile-1.1.0-py3-none-any.whl.metadata (1.8 kB)\n",
      "Downloading openpyxl-3.1.5-py2.py3-none-any.whl (250 kB)\n",
      "Using cached et_xmlfile-1.1.0-py3-none-any.whl (4.7 kB)\n",
      "Installing collected packages: et-xmlfile, openpyxl\n",
      "Successfully installed et-xmlfile-1.1.0 openpyxl-3.1.5\n"
     ]
    }
   ],
   "source": [
    "!pip install openpyxl"
   ]
  },
  {
   "cell_type": "code",
   "execution_count": 29,
   "id": "3ae83bc8",
   "metadata": {},
   "outputs": [],
   "source": [
    "excel = pd.read_excel(\"fichero.xlsx\", sheet_name=\"Sheet1\")"
   ]
  },
  {
   "cell_type": "code",
   "execution_count": 30,
   "id": "ccc28c9d",
   "metadata": {},
   "outputs": [
    {
     "data": {
      "text/html": [
       "<div>\n",
       "<style scoped>\n",
       "    .dataframe tbody tr th:only-of-type {\n",
       "        vertical-align: middle;\n",
       "    }\n",
       "\n",
       "    .dataframe tbody tr th {\n",
       "        vertical-align: top;\n",
       "    }\n",
       "\n",
       "    .dataframe thead th {\n",
       "        text-align: right;\n",
       "    }\n",
       "</style>\n",
       "<table border=\"1\" class=\"dataframe\">\n",
       "  <thead>\n",
       "    <tr style=\"text-align: right;\">\n",
       "      <th></th>\n",
       "      <th>nombre</th>\n",
       "      <th>apellido</th>\n",
       "      <th>edad</th>\n",
       "    </tr>\n",
       "  </thead>\n",
       "  <tbody>\n",
       "    <tr>\n",
       "      <th>0</th>\n",
       "      <td>Pepito</td>\n",
       "      <td>Perez</td>\n",
       "      <td>12</td>\n",
       "    </tr>\n",
       "    <tr>\n",
       "      <th>1</th>\n",
       "      <td>Carlitos</td>\n",
       "      <td>Camargo</td>\n",
       "      <td>11</td>\n",
       "    </tr>\n",
       "  </tbody>\n",
       "</table>\n",
       "</div>"
      ],
      "text/plain": [
       "     nombre apellido  edad\n",
       "0    Pepito    Perez    12\n",
       "1  Carlitos  Camargo    11"
      ]
     },
     "execution_count": 30,
     "metadata": {},
     "output_type": "execute_result"
    }
   ],
   "source": [
    "excel"
   ]
  },
  {
   "cell_type": "markdown",
   "id": "1e41150b",
   "metadata": {},
   "source": [
    "## Explorando DataFrames\n",
    "Pandas provee varios métodos para explorar los datos:\n",
    "\n",
    "- `.head()`: Presenta los primeros registros\n",
    "- `.describe()`: Nos presenta un resumen estadístico de los datos\n",
    "- `.info()`: Provee un resumen conciso del Dataframe\n"
   ]
  },
  {
   "cell_type": "code",
   "execution_count": 20,
   "id": "4310d13c",
   "metadata": {},
   "outputs": [
    {
     "name": "stdout",
     "output_type": "stream",
     "text": [
      "    Name  Age         City\n",
      "0  Alice   25     New York\n",
      "1    Bob   30  Los Angeles\n"
     ]
    }
   ],
   "source": [
    "# Imprimir las 2 primeras filas\n",
    "print(df.head(2))"
   ]
  },
  {
   "cell_type": "code",
   "execution_count": 18,
   "id": "4489273b",
   "metadata": {},
   "outputs": [
    {
     "name": "stdout",
     "output_type": "stream",
     "text": [
      "        Age\n",
      "count   3.0\n",
      "mean   30.0\n",
      "std     5.0\n",
      "min    25.0\n",
      "25%    27.5\n",
      "50%    30.0\n",
      "75%    32.5\n",
      "max    35.0\n"
     ]
    }
   ],
   "source": [
    "# Imprimir el resumen estadístico\n",
    "print(df.describe())"
   ]
  },
  {
   "cell_type": "code",
   "execution_count": 19,
   "id": "9f358bbd",
   "metadata": {},
   "outputs": [
    {
     "name": "stdout",
     "output_type": "stream",
     "text": [
      "<class 'pandas.core.frame.DataFrame'>\n",
      "RangeIndex: 3 entries, 0 to 2\n",
      "Data columns (total 3 columns):\n",
      " #   Column  Non-Null Count  Dtype \n",
      "---  ------  --------------  ----- \n",
      " 0   Name    3 non-null      object\n",
      " 1   Age     3 non-null      int64 \n",
      " 2   City    3 non-null      object\n",
      "dtypes: int64(1), object(2)\n",
      "memory usage: 200.0+ bytes\n",
      "None\n"
     ]
    }
   ],
   "source": [
    "# Imprimir un resumen conciso\n",
    "print(df.info())"
   ]
  },
  {
   "cell_type": "markdown",
   "id": "7f5864a8",
   "metadata": {},
   "source": [
    "## Accediendo a las columnas\n",
    "Pandas nos permite acceder a los datos de una columna o más si es necesario"
   ]
  },
  {
   "cell_type": "markdown",
   "id": "0c1a0b98",
   "metadata": {},
   "source": [
    "### Accediendo a una columna"
   ]
  },
  {
   "cell_type": "code",
   "execution_count": 9,
   "id": "962bf099",
   "metadata": {},
   "outputs": [
    {
     "data": {
      "text/plain": [
       "0      Alice\n",
       "1        Bob\n",
       "2    Charlie\n",
       "Name: Name, dtype: object"
      ]
     },
     "execution_count": 9,
     "metadata": {},
     "output_type": "execute_result"
    }
   ],
   "source": [
    "df[\"Name\"]"
   ]
  },
  {
   "cell_type": "code",
   "execution_count": 32,
   "id": "656ed9b7",
   "metadata": {},
   "outputs": [
    {
     "data": {
      "text/html": [
       "<div>\n",
       "<style scoped>\n",
       "    .dataframe tbody tr th:only-of-type {\n",
       "        vertical-align: middle;\n",
       "    }\n",
       "\n",
       "    .dataframe tbody tr th {\n",
       "        vertical-align: top;\n",
       "    }\n",
       "\n",
       "    .dataframe thead th {\n",
       "        text-align: right;\n",
       "    }\n",
       "</style>\n",
       "<table border=\"1\" class=\"dataframe\">\n",
       "  <thead>\n",
       "    <tr style=\"text-align: right;\">\n",
       "      <th></th>\n",
       "      <th>Age</th>\n",
       "      <th>City</th>\n",
       "      <th>Name</th>\n",
       "    </tr>\n",
       "  </thead>\n",
       "  <tbody>\n",
       "    <tr>\n",
       "      <th>0</th>\n",
       "      <td>25</td>\n",
       "      <td>New York</td>\n",
       "      <td>Alice</td>\n",
       "    </tr>\n",
       "    <tr>\n",
       "      <th>1</th>\n",
       "      <td>30</td>\n",
       "      <td>Los Angeles</td>\n",
       "      <td>Bob</td>\n",
       "    </tr>\n",
       "    <tr>\n",
       "      <th>2</th>\n",
       "      <td>35</td>\n",
       "      <td>Chicago</td>\n",
       "      <td>Charlie</td>\n",
       "    </tr>\n",
       "  </tbody>\n",
       "</table>\n",
       "</div>"
      ],
      "text/plain": [
       "   Age         City     Name\n",
       "0   25     New York    Alice\n",
       "1   30  Los Angeles      Bob\n",
       "2   35      Chicago  Charlie"
      ]
     },
     "execution_count": 32,
     "metadata": {},
     "output_type": "execute_result"
    }
   ],
   "source": [
    "df[[\"Age\", \"City\", \"Name\"]]"
   ]
  },
  {
   "cell_type": "markdown",
   "id": "17e23dd4",
   "metadata": {},
   "source": [
    "## Modificando un DataFrame\n",
    "\n",
    "### Creando una nueva columna"
   ]
  },
  {
   "cell_type": "code",
   "execution_count": 33,
   "id": "10005153",
   "metadata": {},
   "outputs": [
    {
     "data": {
      "text/html": [
       "<div>\n",
       "<style scoped>\n",
       "    .dataframe tbody tr th:only-of-type {\n",
       "        vertical-align: middle;\n",
       "    }\n",
       "\n",
       "    .dataframe tbody tr th {\n",
       "        vertical-align: top;\n",
       "    }\n",
       "\n",
       "    .dataframe thead th {\n",
       "        text-align: right;\n",
       "    }\n",
       "</style>\n",
       "<table border=\"1\" class=\"dataframe\">\n",
       "  <thead>\n",
       "    <tr style=\"text-align: right;\">\n",
       "      <th></th>\n",
       "      <th>Name</th>\n",
       "      <th>Age</th>\n",
       "      <th>City</th>\n",
       "      <th>Score</th>\n",
       "    </tr>\n",
       "  </thead>\n",
       "  <tbody>\n",
       "    <tr>\n",
       "      <th>0</th>\n",
       "      <td>Alice</td>\n",
       "      <td>25</td>\n",
       "      <td>New York</td>\n",
       "      <td>88</td>\n",
       "    </tr>\n",
       "    <tr>\n",
       "      <th>1</th>\n",
       "      <td>Bob</td>\n",
       "      <td>30</td>\n",
       "      <td>Los Angeles</td>\n",
       "      <td>92</td>\n",
       "    </tr>\n",
       "    <tr>\n",
       "      <th>2</th>\n",
       "      <td>Charlie</td>\n",
       "      <td>35</td>\n",
       "      <td>Chicago</td>\n",
       "      <td>85</td>\n",
       "    </tr>\n",
       "  </tbody>\n",
       "</table>\n",
       "</div>"
      ],
      "text/plain": [
       "      Name  Age         City  Score\n",
       "0    Alice   25     New York     88\n",
       "1      Bob   30  Los Angeles     92\n",
       "2  Charlie   35      Chicago     85"
      ]
     },
     "execution_count": 33,
     "metadata": {},
     "output_type": "execute_result"
    }
   ],
   "source": [
    "df[\"Score\"] = [88, 92, 85]\n",
    "df"
   ]
  },
  {
   "cell_type": "code",
   "execution_count": 34,
   "id": "f1e72e91",
   "metadata": {},
   "outputs": [
    {
     "data": {
      "text/html": [
       "<div>\n",
       "<style scoped>\n",
       "    .dataframe tbody tr th:only-of-type {\n",
       "        vertical-align: middle;\n",
       "    }\n",
       "\n",
       "    .dataframe tbody tr th {\n",
       "        vertical-align: top;\n",
       "    }\n",
       "\n",
       "    .dataframe thead th {\n",
       "        text-align: right;\n",
       "    }\n",
       "</style>\n",
       "<table border=\"1\" class=\"dataframe\">\n",
       "  <thead>\n",
       "    <tr style=\"text-align: right;\">\n",
       "      <th></th>\n",
       "      <th>Name</th>\n",
       "      <th>Age</th>\n",
       "      <th>City</th>\n",
       "      <th>Score</th>\n",
       "      <th>New_Score</th>\n",
       "    </tr>\n",
       "  </thead>\n",
       "  <tbody>\n",
       "    <tr>\n",
       "      <th>0</th>\n",
       "      <td>Alice</td>\n",
       "      <td>25</td>\n",
       "      <td>New York</td>\n",
       "      <td>88</td>\n",
       "      <td>90</td>\n",
       "    </tr>\n",
       "    <tr>\n",
       "      <th>1</th>\n",
       "      <td>Bob</td>\n",
       "      <td>30</td>\n",
       "      <td>Los Angeles</td>\n",
       "      <td>92</td>\n",
       "      <td>94</td>\n",
       "    </tr>\n",
       "    <tr>\n",
       "      <th>2</th>\n",
       "      <td>Charlie</td>\n",
       "      <td>35</td>\n",
       "      <td>Chicago</td>\n",
       "      <td>85</td>\n",
       "      <td>87</td>\n",
       "    </tr>\n",
       "  </tbody>\n",
       "</table>\n",
       "</div>"
      ],
      "text/plain": [
       "      Name  Age         City  Score  New_Score\n",
       "0    Alice   25     New York     88         90\n",
       "1      Bob   30  Los Angeles     92         94\n",
       "2  Charlie   35      Chicago     85         87"
      ]
     },
     "execution_count": 34,
     "metadata": {},
     "output_type": "execute_result"
    }
   ],
   "source": [
    "df[\"New_Score\"] = df[\"Score\"] + 2\n",
    "df"
   ]
  },
  {
   "cell_type": "markdown",
   "id": "5d972d21",
   "metadata": {},
   "source": [
    "## Filtrando los datos\n",
    "\n",
    "### Filtrando basado en una condición\n"
   ]
  },
  {
   "cell_type": "code",
   "execution_count": 26,
   "id": "4fdfcdef",
   "metadata": {},
   "outputs": [
    {
     "data": {
      "text/html": [
       "<div>\n",
       "<style scoped>\n",
       "    .dataframe tbody tr th:only-of-type {\n",
       "        vertical-align: middle;\n",
       "    }\n",
       "\n",
       "    .dataframe tbody tr th {\n",
       "        vertical-align: top;\n",
       "    }\n",
       "\n",
       "    .dataframe thead th {\n",
       "        text-align: right;\n",
       "    }\n",
       "</style>\n",
       "<table border=\"1\" class=\"dataframe\">\n",
       "  <thead>\n",
       "    <tr style=\"text-align: right;\">\n",
       "      <th></th>\n",
       "      <th>Name</th>\n",
       "      <th>Age</th>\n",
       "      <th>City</th>\n",
       "      <th>Score</th>\n",
       "      <th>New_Score</th>\n",
       "    </tr>\n",
       "  </thead>\n",
       "  <tbody>\n",
       "    <tr>\n",
       "      <th>1</th>\n",
       "      <td>Bob</td>\n",
       "      <td>30</td>\n",
       "      <td>Los Angeles</td>\n",
       "      <td>92</td>\n",
       "      <td>94</td>\n",
       "    </tr>\n",
       "    <tr>\n",
       "      <th>2</th>\n",
       "      <td>Charlie</td>\n",
       "      <td>35</td>\n",
       "      <td>Chicago</td>\n",
       "      <td>85</td>\n",
       "      <td>87</td>\n",
       "    </tr>\n",
       "  </tbody>\n",
       "</table>\n",
       "</div>"
      ],
      "text/plain": [
       "      Name  Age         City  Score  New_Score\n",
       "1      Bob   30  Los Angeles     92         94\n",
       "2  Charlie   35      Chicago     85         87"
      ]
     },
     "execution_count": 26,
     "metadata": {},
     "output_type": "execute_result"
    }
   ],
   "source": [
    "df[df[\"Age\"] > 28]"
   ]
  },
  {
   "cell_type": "code",
   "execution_count": 27,
   "id": "cd996268",
   "metadata": {},
   "outputs": [
    {
     "data": {
      "text/html": [
       "<div>\n",
       "<style scoped>\n",
       "    .dataframe tbody tr th:only-of-type {\n",
       "        vertical-align: middle;\n",
       "    }\n",
       "\n",
       "    .dataframe tbody tr th {\n",
       "        vertical-align: top;\n",
       "    }\n",
       "\n",
       "    .dataframe thead th {\n",
       "        text-align: right;\n",
       "    }\n",
       "</style>\n",
       "<table border=\"1\" class=\"dataframe\">\n",
       "  <thead>\n",
       "    <tr style=\"text-align: right;\">\n",
       "      <th></th>\n",
       "      <th>Name</th>\n",
       "      <th>Age</th>\n",
       "      <th>City</th>\n",
       "      <th>Score</th>\n",
       "      <th>New_Score</th>\n",
       "    </tr>\n",
       "  </thead>\n",
       "  <tbody>\n",
       "    <tr>\n",
       "      <th>2</th>\n",
       "      <td>Charlie</td>\n",
       "      <td>35</td>\n",
       "      <td>Chicago</td>\n",
       "      <td>85</td>\n",
       "      <td>87</td>\n",
       "    </tr>\n",
       "  </tbody>\n",
       "</table>\n",
       "</div>"
      ],
      "text/plain": [
       "      Name  Age     City  Score  New_Score\n",
       "2  Charlie   35  Chicago     85         87"
      ]
     },
     "execution_count": 27,
     "metadata": {},
     "output_type": "execute_result"
    }
   ],
   "source": [
    "df[(df[\"Age\"] > 28) & (df[\"City\"] == \"Chicago\")]"
   ]
  },
  {
   "cell_type": "markdown",
   "id": "02a7c196",
   "metadata": {},
   "source": [
    "## Actividad\n",
    "\n",
    "Haciendo uso de pandas resolver los siguientes puntos:\n",
    "1. Cargar el dataset que se encuentra en el siguiente link https://raw.githubusercontent.com/hrodriguezgi/computacion_fisica/refs/heads/main/Clase_21/motion_data.csv a un dataframe de pandas.\n",
    "2. Calcular el desplazamiento de cada uno de los objetos\n",
    "3. Graficar desplazamiento vs tiempo para cada uno de los objetos\n",
    "4. Calcular la energía cinética de los objetos teniendo en cuenta que:\n",
    "    - Ball: $0.5 \\, Kg$\n",
    "    - Car: $1.5 \\, Kg$\n",
    "5. Cuál es la máxima velocidad de cada objeto?"
   ]
  },
  {
   "cell_type": "markdown",
   "id": "ebb2087b",
   "metadata": {},
   "source": []
  }
 ],
 "metadata": {
  "kernelspec": {
   "display_name": "venv",
   "language": "python",
   "name": "python3"
  },
  "language_info": {
   "codemirror_mode": {
    "name": "ipython",
    "version": 3
   },
   "file_extension": ".py",
   "mimetype": "text/x-python",
   "name": "python",
   "nbconvert_exporter": "python",
   "pygments_lexer": "ipython3",
   "version": "3.9.19"
  }
 },
 "nbformat": 4,
 "nbformat_minor": 5
}
