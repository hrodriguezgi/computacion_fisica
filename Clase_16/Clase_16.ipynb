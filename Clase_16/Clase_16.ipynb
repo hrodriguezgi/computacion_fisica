{
  "cells": [
    {
      "cell_type": "markdown",
      "metadata": {
        "id": "3rHAFb2XrJ8j"
      },
      "source": [
        "# Manejo de Python"
      ]
    },
    {
      "cell_type": "markdown",
      "metadata": {
        "id": "ftMV1whQ3jrW"
      },
      "source": [
        "## 1. Revisar la documentación de Python\n",
        "\n",
        "- Propio del lenguaje: https://www.python.org/doc/\n",
        "- Librerías externas:\n",
        "   - Pandas\n",
        "   - Matplotlib\n",
        "   - Keras\n",
        "   - etc...\n",
        "- Haciendo uso del módulo help\n",
        "\n",
        "Para hacer uso de esta última opción basta con digitar en la consola `help` y el nombre del objeto o función que queremos consultar. Ejemplo:\n",
        "\n",
        "```python\n",
        "help('lambda')\n",
        "Lambdas\n",
        "*******\n",
        "\n",
        "   lambda_expr ::= \"lambda\" [parameter_list] \":\" expression\n",
        "\n",
        "Lambda expressions (sometimes called lambda forms) are used to create\n",
        "anonymous functions. The expression \"lambda parameters: expression\"\n",
        "yields a function object.  The unnamed object behaves like a function\n",
        "object defined with:\n",
        "\n",
        "   def <lambda>(parameters):\n",
        "       return expression\n",
        "\n",
        "See section Function definitions for the syntax of parameter lists.\n",
        "Note that functions created with lambda expressions cannot contain\n",
        "statements or annotations.\n",
        "\n",
        "Related help topics: FUNCTIONS\n",
        "```"
      ]
    },
    {
      "cell_type": "markdown",
      "metadata": {
        "id": "2UJQzwz_rPsv"
      },
      "source": [
        "## 2. Tipo de Dato: **str** (cadena)"
      ]
    },
    {
      "cell_type": "code",
      "execution_count": 1,
      "metadata": {
        "colab": {
          "base_uri": "https://localhost:8080/"
        },
        "id": "1EusZZlY5wQU",
        "outputId": "eb263213-33b0-4c8f-a175-3ec7d90dc6a1"
      },
      "outputs": [
        {
          "name": "stdout",
          "output_type": "stream",
          "text": [
            "Help on class str in module builtins:\n",
            "\n",
            "class str(object)\n",
            " |  str(object='') -> str\n",
            " |  str(bytes_or_buffer[, encoding[, errors]]) -> str\n",
            " |  \n",
            " |  Create a new string object from the given object. If encoding or\n",
            " |  errors is specified, then the object must expose a data buffer\n",
            " |  that will be decoded using the given encoding and error handler.\n",
            " |  Otherwise, returns the result of object.__str__() (if defined)\n",
            " |  or repr(object).\n",
            " |  encoding defaults to sys.getdefaultencoding().\n",
            " |  errors defaults to 'strict'.\n",
            " |  \n",
            " |  Methods defined here:\n",
            " |  \n",
            " |  __add__(self, value, /)\n",
            " |      Return self+value.\n",
            " |  \n",
            " |  __contains__(self, key, /)\n",
            " |      Return key in self.\n",
            " |  \n",
            " |  __eq__(self, value, /)\n",
            " |      Return self==value.\n",
            " |  \n",
            " |  __format__(self, format_spec, /)\n",
            " |      Return a formatted version of the string as described by format_spec.\n",
            " |  \n",
            " |  __ge__(self, value, /)\n",
            " |      Return self>=value.\n",
            " |  \n",
            " |  __getattribute__(self, name, /)\n",
            " |      Return getattr(self, name).\n",
            " |  \n",
            " |  __getitem__(self, key, /)\n",
            " |      Return self[key].\n",
            " |  \n",
            " |  __getnewargs__(...)\n",
            " |  \n",
            " |  __gt__(self, value, /)\n",
            " |      Return self>value.\n",
            " |  \n",
            " |  __hash__(self, /)\n",
            " |      Return hash(self).\n",
            " |  \n",
            " |  __iter__(self, /)\n",
            " |      Implement iter(self).\n",
            " |  \n",
            " |  __le__(self, value, /)\n",
            " |      Return self<=value.\n",
            " |  \n",
            " |  __len__(self, /)\n",
            " |      Return len(self).\n",
            " |  \n",
            " |  __lt__(self, value, /)\n",
            " |      Return self<value.\n",
            " |  \n",
            " |  __mod__(self, value, /)\n",
            " |      Return self%value.\n",
            " |  \n",
            " |  __mul__(self, value, /)\n",
            " |      Return self*value.\n",
            " |  \n",
            " |  __ne__(self, value, /)\n",
            " |      Return self!=value.\n",
            " |  \n",
            " |  __repr__(self, /)\n",
            " |      Return repr(self).\n",
            " |  \n",
            " |  __rmod__(self, value, /)\n",
            " |      Return value%self.\n",
            " |  \n",
            " |  __rmul__(self, value, /)\n",
            " |      Return value*self.\n",
            " |  \n",
            " |  __sizeof__(self, /)\n",
            " |      Return the size of the string in memory, in bytes.\n",
            " |  \n",
            " |  __str__(self, /)\n",
            " |      Return str(self).\n",
            " |  \n",
            " |  capitalize(self, /)\n",
            " |      Return a capitalized version of the string.\n",
            " |      \n",
            " |      More specifically, make the first character have upper case and the rest lower\n",
            " |      case.\n",
            " |  \n",
            " |  casefold(self, /)\n",
            " |      Return a version of the string suitable for caseless comparisons.\n",
            " |  \n",
            " |  center(self, width, fillchar=' ', /)\n",
            " |      Return a centered string of length width.\n",
            " |      \n",
            " |      Padding is done using the specified fill character (default is a space).\n",
            " |  \n",
            " |  count(...)\n",
            " |      S.count(sub[, start[, end]]) -> int\n",
            " |      \n",
            " |      Return the number of non-overlapping occurrences of substring sub in\n",
            " |      string S[start:end].  Optional arguments start and end are\n",
            " |      interpreted as in slice notation.\n",
            " |  \n",
            " |  encode(self, /, encoding='utf-8', errors='strict')\n",
            " |      Encode the string using the codec registered for encoding.\n",
            " |      \n",
            " |      encoding\n",
            " |        The encoding in which to encode the string.\n",
            " |      errors\n",
            " |        The error handling scheme to use for encoding errors.\n",
            " |        The default is 'strict' meaning that encoding errors raise a\n",
            " |        UnicodeEncodeError.  Other possible values are 'ignore', 'replace' and\n",
            " |        'xmlcharrefreplace' as well as any other name registered with\n",
            " |        codecs.register_error that can handle UnicodeEncodeErrors.\n",
            " |  \n",
            " |  endswith(...)\n",
            " |      S.endswith(suffix[, start[, end]]) -> bool\n",
            " |      \n",
            " |      Return True if S ends with the specified suffix, False otherwise.\n",
            " |      With optional start, test S beginning at that position.\n",
            " |      With optional end, stop comparing S at that position.\n",
            " |      suffix can also be a tuple of strings to try.\n",
            " |  \n",
            " |  expandtabs(self, /, tabsize=8)\n",
            " |      Return a copy where all tab characters are expanded using spaces.\n",
            " |      \n",
            " |      If tabsize is not given, a tab size of 8 characters is assumed.\n",
            " |  \n",
            " |  find(...)\n",
            " |      S.find(sub[, start[, end]]) -> int\n",
            " |      \n",
            " |      Return the lowest index in S where substring sub is found,\n",
            " |      such that sub is contained within S[start:end].  Optional\n",
            " |      arguments start and end are interpreted as in slice notation.\n",
            " |      \n",
            " |      Return -1 on failure.\n",
            " |  \n",
            " |  format(...)\n",
            " |      S.format(*args, **kwargs) -> str\n",
            " |      \n",
            " |      Return a formatted version of S, using substitutions from args and kwargs.\n",
            " |      The substitutions are identified by braces ('{' and '}').\n",
            " |  \n",
            " |  format_map(...)\n",
            " |      S.format_map(mapping) -> str\n",
            " |      \n",
            " |      Return a formatted version of S, using substitutions from mapping.\n",
            " |      The substitutions are identified by braces ('{' and '}').\n",
            " |  \n",
            " |  index(...)\n",
            " |      S.index(sub[, start[, end]]) -> int\n",
            " |      \n",
            " |      Return the lowest index in S where substring sub is found,\n",
            " |      such that sub is contained within S[start:end].  Optional\n",
            " |      arguments start and end are interpreted as in slice notation.\n",
            " |      \n",
            " |      Raises ValueError when the substring is not found.\n",
            " |  \n",
            " |  isalnum(self, /)\n",
            " |      Return True if the string is an alpha-numeric string, False otherwise.\n",
            " |      \n",
            " |      A string is alpha-numeric if all characters in the string are alpha-numeric and\n",
            " |      there is at least one character in the string.\n",
            " |  \n",
            " |  isalpha(self, /)\n",
            " |      Return True if the string is an alphabetic string, False otherwise.\n",
            " |      \n",
            " |      A string is alphabetic if all characters in the string are alphabetic and there\n",
            " |      is at least one character in the string.\n",
            " |  \n",
            " |  isascii(self, /)\n",
            " |      Return True if all characters in the string are ASCII, False otherwise.\n",
            " |      \n",
            " |      ASCII characters have code points in the range U+0000-U+007F.\n",
            " |      Empty string is ASCII too.\n",
            " |  \n",
            " |  isdecimal(self, /)\n",
            " |      Return True if the string is a decimal string, False otherwise.\n",
            " |      \n",
            " |      A string is a decimal string if all characters in the string are decimal and\n",
            " |      there is at least one character in the string.\n",
            " |  \n",
            " |  isdigit(self, /)\n",
            " |      Return True if the string is a digit string, False otherwise.\n",
            " |      \n",
            " |      A string is a digit string if all characters in the string are digits and there\n",
            " |      is at least one character in the string.\n",
            " |  \n",
            " |  isidentifier(self, /)\n",
            " |      Return True if the string is a valid Python identifier, False otherwise.\n",
            " |      \n",
            " |      Call keyword.iskeyword(s) to test whether string s is a reserved identifier,\n",
            " |      such as \"def\" or \"class\".\n",
            " |  \n",
            " |  islower(self, /)\n",
            " |      Return True if the string is a lowercase string, False otherwise.\n",
            " |      \n",
            " |      A string is lowercase if all cased characters in the string are lowercase and\n",
            " |      there is at least one cased character in the string.\n",
            " |  \n",
            " |  isnumeric(self, /)\n",
            " |      Return True if the string is a numeric string, False otherwise.\n",
            " |      \n",
            " |      A string is numeric if all characters in the string are numeric and there is at\n",
            " |      least one character in the string.\n",
            " |  \n",
            " |  isprintable(self, /)\n",
            " |      Return True if the string is printable, False otherwise.\n",
            " |      \n",
            " |      A string is printable if all of its characters are considered printable in\n",
            " |      repr() or if it is empty.\n",
            " |  \n",
            " |  isspace(self, /)\n",
            " |      Return True if the string is a whitespace string, False otherwise.\n",
            " |      \n",
            " |      A string is whitespace if all characters in the string are whitespace and there\n",
            " |      is at least one character in the string.\n",
            " |  \n",
            " |  istitle(self, /)\n",
            " |      Return True if the string is a title-cased string, False otherwise.\n",
            " |      \n",
            " |      In a title-cased string, upper- and title-case characters may only\n",
            " |      follow uncased characters and lowercase characters only cased ones.\n",
            " |  \n",
            " |  isupper(self, /)\n",
            " |      Return True if the string is an uppercase string, False otherwise.\n",
            " |      \n",
            " |      A string is uppercase if all cased characters in the string are uppercase and\n",
            " |      there is at least one cased character in the string.\n",
            " |  \n",
            " |  join(self, iterable, /)\n",
            " |      Concatenate any number of strings.\n",
            " |      \n",
            " |      The string whose method is called is inserted in between each given string.\n",
            " |      The result is returned as a new string.\n",
            " |      \n",
            " |      Example: '.'.join(['ab', 'pq', 'rs']) -> 'ab.pq.rs'\n",
            " |  \n",
            " |  ljust(self, width, fillchar=' ', /)\n",
            " |      Return a left-justified string of length width.\n",
            " |      \n",
            " |      Padding is done using the specified fill character (default is a space).\n",
            " |  \n",
            " |  lower(self, /)\n",
            " |      Return a copy of the string converted to lowercase.\n",
            " |  \n",
            " |  lstrip(self, chars=None, /)\n",
            " |      Return a copy of the string with leading whitespace removed.\n",
            " |      \n",
            " |      If chars is given and not None, remove characters in chars instead.\n",
            " |  \n",
            " |  partition(self, sep, /)\n",
            " |      Partition the string into three parts using the given separator.\n",
            " |      \n",
            " |      This will search for the separator in the string.  If the separator is found,\n",
            " |      returns a 3-tuple containing the part before the separator, the separator\n",
            " |      itself, and the part after it.\n",
            " |      \n",
            " |      If the separator is not found, returns a 3-tuple containing the original string\n",
            " |      and two empty strings.\n",
            " |  \n",
            " |  removeprefix(self, prefix, /)\n",
            " |      Return a str with the given prefix string removed if present.\n",
            " |      \n",
            " |      If the string starts with the prefix string, return string[len(prefix):].\n",
            " |      Otherwise, return a copy of the original string.\n",
            " |  \n",
            " |  removesuffix(self, suffix, /)\n",
            " |      Return a str with the given suffix string removed if present.\n",
            " |      \n",
            " |      If the string ends with the suffix string and that suffix is not empty,\n",
            " |      return string[:-len(suffix)]. Otherwise, return a copy of the original\n",
            " |      string.\n",
            " |  \n",
            " |  replace(self, old, new, count=-1, /)\n",
            " |      Return a copy with all occurrences of substring old replaced by new.\n",
            " |      \n",
            " |        count\n",
            " |          Maximum number of occurrences to replace.\n",
            " |          -1 (the default value) means replace all occurrences.\n",
            " |      \n",
            " |      If the optional argument count is given, only the first count occurrences are\n",
            " |      replaced.\n",
            " |  \n",
            " |  rfind(...)\n",
            " |      S.rfind(sub[, start[, end]]) -> int\n",
            " |      \n",
            " |      Return the highest index in S where substring sub is found,\n",
            " |      such that sub is contained within S[start:end].  Optional\n",
            " |      arguments start and end are interpreted as in slice notation.\n",
            " |      \n",
            " |      Return -1 on failure.\n",
            " |  \n",
            " |  rindex(...)\n",
            " |      S.rindex(sub[, start[, end]]) -> int\n",
            " |      \n",
            " |      Return the highest index in S where substring sub is found,\n",
            " |      such that sub is contained within S[start:end].  Optional\n",
            " |      arguments start and end are interpreted as in slice notation.\n",
            " |      \n",
            " |      Raises ValueError when the substring is not found.\n",
            " |  \n",
            " |  rjust(self, width, fillchar=' ', /)\n",
            " |      Return a right-justified string of length width.\n",
            " |      \n",
            " |      Padding is done using the specified fill character (default is a space).\n",
            " |  \n",
            " |  rpartition(self, sep, /)\n",
            " |      Partition the string into three parts using the given separator.\n",
            " |      \n",
            " |      This will search for the separator in the string, starting at the end. If\n",
            " |      the separator is found, returns a 3-tuple containing the part before the\n",
            " |      separator, the separator itself, and the part after it.\n",
            " |      \n",
            " |      If the separator is not found, returns a 3-tuple containing two empty strings\n",
            " |      and the original string.\n",
            " |  \n",
            " |  rsplit(self, /, sep=None, maxsplit=-1)\n",
            " |      Return a list of the words in the string, using sep as the delimiter string.\n",
            " |      \n",
            " |        sep\n",
            " |          The delimiter according which to split the string.\n",
            " |          None (the default value) means split according to any whitespace,\n",
            " |          and discard empty strings from the result.\n",
            " |        maxsplit\n",
            " |          Maximum number of splits to do.\n",
            " |          -1 (the default value) means no limit.\n",
            " |      \n",
            " |      Splits are done starting at the end of the string and working to the front.\n",
            " |  \n",
            " |  rstrip(self, chars=None, /)\n",
            " |      Return a copy of the string with trailing whitespace removed.\n",
            " |      \n",
            " |      If chars is given and not None, remove characters in chars instead.\n",
            " |  \n",
            " |  split(self, /, sep=None, maxsplit=-1)\n",
            " |      Return a list of the words in the string, using sep as the delimiter string.\n",
            " |      \n",
            " |      sep\n",
            " |        The delimiter according which to split the string.\n",
            " |        None (the default value) means split according to any whitespace,\n",
            " |        and discard empty strings from the result.\n",
            " |      maxsplit\n",
            " |        Maximum number of splits to do.\n",
            " |        -1 (the default value) means no limit.\n",
            " |  \n",
            " |  splitlines(self, /, keepends=False)\n",
            " |      Return a list of the lines in the string, breaking at line boundaries.\n",
            " |      \n",
            " |      Line breaks are not included in the resulting list unless keepends is given and\n",
            " |      true.\n",
            " |  \n",
            " |  startswith(...)\n",
            " |      S.startswith(prefix[, start[, end]]) -> bool\n",
            " |      \n",
            " |      Return True if S starts with the specified prefix, False otherwise.\n",
            " |      With optional start, test S beginning at that position.\n",
            " |      With optional end, stop comparing S at that position.\n",
            " |      prefix can also be a tuple of strings to try.\n",
            " |  \n",
            " |  strip(self, chars=None, /)\n",
            " |      Return a copy of the string with leading and trailing whitespace removed.\n",
            " |      \n",
            " |      If chars is given and not None, remove characters in chars instead.\n",
            " |  \n",
            " |  swapcase(self, /)\n",
            " |      Convert uppercase characters to lowercase and lowercase characters to uppercase.\n",
            " |  \n",
            " |  title(self, /)\n",
            " |      Return a version of the string where each word is titlecased.\n",
            " |      \n",
            " |      More specifically, words start with uppercased characters and all remaining\n",
            " |      cased characters have lower case.\n",
            " |  \n",
            " |  translate(self, table, /)\n",
            " |      Replace each character in the string using the given translation table.\n",
            " |      \n",
            " |        table\n",
            " |          Translation table, which must be a mapping of Unicode ordinals to\n",
            " |          Unicode ordinals, strings, or None.\n",
            " |      \n",
            " |      The table must implement lookup/indexing via __getitem__, for instance a\n",
            " |      dictionary or list.  If this operation raises LookupError, the character is\n",
            " |      left untouched.  Characters mapped to None are deleted.\n",
            " |  \n",
            " |  upper(self, /)\n",
            " |      Return a copy of the string converted to uppercase.\n",
            " |  \n",
            " |  zfill(self, width, /)\n",
            " |      Pad a numeric string with zeros on the left, to fill a field of the given width.\n",
            " |      \n",
            " |      The string is never truncated.\n",
            " |  \n",
            " |  ----------------------------------------------------------------------\n",
            " |  Static methods defined here:\n",
            " |  \n",
            " |  __new__(*args, **kwargs) from builtins.type\n",
            " |      Create and return a new object.  See help(type) for accurate signature.\n",
            " |  \n",
            " |  maketrans(...)\n",
            " |      Return a translation table usable for str.translate().\n",
            " |      \n",
            " |      If there is only one argument, it must be a dictionary mapping Unicode\n",
            " |      ordinals (integers) or characters to Unicode ordinals, strings or None.\n",
            " |      Character keys will be then converted to ordinals.\n",
            " |      If there are two arguments, they must be strings of equal length, and\n",
            " |      in the resulting dictionary, each character in x will be mapped to the\n",
            " |      character at the same position in y. If there is a third argument, it\n",
            " |      must be a string, whose characters will be mapped to None in the result.\n",
            "\n"
          ]
        }
      ],
      "source": [
        "help(\"str\")"
      ]
    },
    {
      "cell_type": "markdown",
      "metadata": {
        "id": "ZQZC_6euFx7D"
      },
      "source": [
        "### 2.1 Slice\n",
        "\n",
        "Acceder a un string por elementos o rangos, definimos un inicio y un final. \n",
        "\n",
        "Si el inicio no está definido, se toma desde el comienzo del string, y de igual forma si el final no está definido se toma hasta el final del string\n",
        "\n",
        "```python\n",
        "cadena = 'hola mundo'\n",
        "print(cadena[0:5])\n",
        "'hola '\n",
        "```"
      ]
    },
    {
      "cell_type": "code",
      "execution_count": 2,
      "metadata": {
        "colab": {
          "base_uri": "https://localhost:8080/"
        },
        "id": "o4JZDtLoGM-z",
        "outputId": "964361e1-ce48-41cd-a7fc-9151107bbdb5"
      },
      "outputs": [
        {
          "name": "stdout",
          "output_type": "stream",
          "text": [
            "hola \n"
          ]
        }
      ],
      "source": [
        "cadena = \"hola mundo\"\n",
        "print(cadena[0:5])"
      ]
    },
    {
      "cell_type": "code",
      "execution_count": 3,
      "metadata": {
        "colab": {
          "base_uri": "https://localhost:8080/"
        },
        "id": "aqoUQVpAGmQr",
        "outputId": "594bef83-8fa5-4707-f482-f75bec33780f"
      },
      "outputs": [
        {
          "name": "stdout",
          "output_type": "stream",
          "text": [
            "la mund\n"
          ]
        }
      ],
      "source": [
        "# Toma desde la posición 2 hasta la posición 9 excluída\n",
        "print(cadena[2:9])"
      ]
    },
    {
      "cell_type": "code",
      "execution_count": 4,
      "metadata": {
        "colab": {
          "base_uri": "https://localhost:8080/"
        },
        "id": "M4tbgCInG1Wz",
        "outputId": "795b4290-bb30-45cb-cf9d-ababdfc30b5f"
      },
      "outputs": [
        {
          "name": "stdout",
          "output_type": "stream",
          "text": [
            "l\n"
          ]
        }
      ],
      "source": [
        "# Toma el valor de la posición 2\n",
        "print(cadena[2])"
      ]
    },
    {
      "cell_type": "code",
      "execution_count": 5,
      "metadata": {
        "colab": {
          "base_uri": "https://localhost:8080/"
        },
        "id": "-EtwfBewG4qN",
        "outputId": "06c71138-e1ff-43da-ce70-e99f94603a2f"
      },
      "outputs": [
        {
          "name": "stdout",
          "output_type": "stream",
          "text": [
            "la mundo\n"
          ]
        }
      ],
      "source": [
        "# Toma desde la posición 2 en adelante\n",
        "print(cadena[2:])"
      ]
    },
    {
      "cell_type": "code",
      "execution_count": 6,
      "metadata": {
        "colab": {
          "base_uri": "https://localhost:8080/"
        },
        "id": "d7oF-N8MHHT-",
        "outputId": "4b83a5a5-4e7a-44d3-b6a1-457bc6812b7f"
      },
      "outputs": [
        {
          "name": "stdout",
          "output_type": "stream",
          "text": [
            "hola mu\n"
          ]
        }
      ],
      "source": [
        "# Toma desde el inicio hasta la posición 6 incluída\n",
        "print(cadena[:7])"
      ]
    },
    {
      "cell_type": "code",
      "execution_count": 7,
      "metadata": {
        "colab": {
          "base_uri": "https://localhost:8080/"
        },
        "id": "WIDgAT6MHBn-",
        "outputId": "19ce7cb9-da82-4fbc-9fa8-7a878be2b9c7"
      },
      "outputs": [
        {
          "name": "stdout",
          "output_type": "stream",
          "text": [
            "undo\n"
          ]
        }
      ],
      "source": [
        "# Toma desde la posición -4 (cuento desde la última posición\n",
        "# 4 caracteres) y tomo de ahi en adelante\n",
        "# cadena = 'hola mundo'\n",
        "# La posición -4 es la 'u'\n",
        "print(cadena[-4:])"
      ]
    },
    {
      "cell_type": "code",
      "execution_count": 8,
      "metadata": {
        "colab": {
          "base_uri": "https://localhost:8080/"
        },
        "id": "0DbGs-IwHWsz",
        "outputId": "5fd3b9b1-5a77-4d01-a231-b1cc5b4182c6"
      },
      "outputs": [
        {
          "name": "stdout",
          "output_type": "stream",
          "text": [
            "cadena original:\t\t\t hola mundo\n",
            "cadena con slice:\t\t\t ola mund\n",
            "cadena con slice saltando 2 posiciones:\t hl ud\n",
            "cadena con slice saltando 3 posiciones:\t o n\n"
          ]
        }
      ],
      "source": [
        "# Toma desde la posición inicial hasta la final\n",
        "# saltando N caracteres\n",
        "print(\"cadena original:\\t\\t\\t\", cadena)\n",
        "print(\"cadena con slice:\\t\\t\\t\", cadena[1:9])\n",
        "print(\"cadena con slice saltando 2 posiciones:\\t\", cadena[::2])\n",
        "print(\"cadena con slice saltando 3 posiciones:\\t\", cadena[1:9:3])"
      ]
    },
    {
      "cell_type": "code",
      "execution_count": 9,
      "metadata": {
        "colab": {
          "base_uri": "https://localhost:8080/"
        },
        "id": "AzdA_tMMJLqA",
        "outputId": "d318e4fc-6f25-4dff-cc4c-d5e5e81f63ca"
      },
      "outputs": [
        {
          "name": "stdout",
          "output_type": "stream",
          "text": [
            "0. original                 :  curso.python.universidad.eia\n",
            "1. rangos vacios            :  curso.python.universidad.eia\n",
            "2. inicia desde             :  .python.universidad.eia\n",
            "3. hasta                    :  curso.python.universidad.\n",
            "4. salteos                  :  aeddseiunhy.su\n",
            "5. invertir                 :  aie.dadisrevinu.nohtyp.osruc\n",
            "6. segmento inverso         :  yp.\n"
          ]
        }
      ],
      "source": [
        "curso = \"curso.python.universidad.eia\"\n",
        "\n",
        "\"\"\"\n",
        "variable[inicio:fin:salto]\n",
        "rangos vacios --> depende de la posición\n",
        "\n",
        "si esta derecha --> toma desde  0\n",
        "si esta a la izquierda --> toma hasta el ultimo\n",
        "\"\"\"\n",
        "print(\"0. original                 : \", curso)  # Variable sin modificación\n",
        "print(\"1. rangos vacios            : \", curso[::])  # Imprime la cadena normal\n",
        "print(\"2. inicia desde             : \", curso[5:])  # Imprime desde la posición 5\n",
        "print(\"3. hasta                    : \", curso[:-3])  # Imprime hasta la posición -3\n",
        "print(\n",
        "    \"4. salteos                  : \", curso[::-2]\n",
        ")  # Imprime la cadena con saltos de -2\n",
        "print(\"5. invertir                 : \", curso[::-1])  # Imprime la cadena invertida\n",
        "print(\n",
        "    \"6. segmento inverso         : \", curso[7:4:-1]\n",
        ")  # Imprime un segmento de la cadena invertida"
      ]
    },
    {
      "cell_type": "markdown",
      "metadata": {
        "id": "Q6KRwGQIOUCH"
      },
      "source": [
        "### 2.2 Métodos de los string"
      ]
    },
    {
      "cell_type": "code",
      "execution_count": 10,
      "metadata": {
        "colab": {
          "base_uri": "https://localhost:8080/"
        },
        "id": "5Q3Jkm_XOXe-",
        "outputId": "a371d7b6-d251-47ce-dac6-32054238fa31"
      },
      "outputs": [
        {
          "name": "stdout",
          "output_type": "stream",
          "text": [
            "00. variable original  : -->  CuRsO PyThon UnIv3rSiD@D EIA\n",
            "01. mayúsculas         : -->  CURSO PYTHON UNIV3RSID@D EIA\n",
            "02. minúsculas         : -->  curso python univ3rsid@d eia\n",
            "03. inicia con         : -->  False\n",
            "04. inicia con         : -->  True\n",
            "05. capitalize         : -->  Curso python univ3rsid@d eia\n",
            "06. titulo             : -->  Curso Python Univ3Rsid@D Eia\n",
            "07. centrado           : -->  ***********CuRsO PyThon UnIv3rSiD@D EIA***********\n",
            "07. centrado           : -->             Curso Python Univ3Rsid@D Eia           \n",
            "08. rjust              : -->  **********************CuRsO PyThon UnIv3rSiD@D EIA\n",
            "09. ljust              : -->  CuRsO PyThon UnIv3rSiD@D EIA**********************\n",
            "10. zfill              : -->  0000000000000000000000CuRsO PyThon UnIv3rSiD@D EIA\n",
            "10. zfill              : -->  00123\n",
            "11. remplazar          : -->  curs@ pyth@n univ3rsid@d eia\n",
            "11. remplazar          : -->  CuRsO PyTh@n UnIv3rSiD@D EIA\n",
            "11. contar             : -->  1\n",
            "12. contar             : -->  1\n",
            "13. buscar             : -->  6\n",
            "13. buscar             : -->  -1\n"
          ]
        }
      ],
      "source": [
        "demo = \"CuRsO PyThon UnIv3rSiD@D EIA\"\n",
        "\n",
        "print(\"00. variable original  : --> \", demo)\n",
        "print(\"01. mayúsculas         : --> \", demo.upper())\n",
        "print(\"02. minúsculas         : --> \", demo.lower())\n",
        "print(\"03. inicia con         : --> \", demo.startswith(\"c\"))\n",
        "# concatenar operaciones(metodos) | concatenacion de operaciones finitas\n",
        "print(\"04. inicia con         : --> \", demo.lower().startswith(\"c\"))\n",
        "print(\"05. capitalize         : --> \", demo.capitalize())\n",
        "print(\"06. titulo             : --> \", demo.title())\n",
        "print(\"07. centrado           : --> \", demo.center(50, \"*\"))\n",
        "print(\"07. centrado           : --> \", demo.title().center(50, \" \"))  # centrando\n",
        "print(\"08. rjust              : --> \", demo.rjust(50, \"*\"))\n",
        "print(\"09. ljust              : --> \", demo.ljust(50, \"*\"))\n",
        "print(\"10. zfill              : --> \", demo.zfill(50))\n",
        "print(\"10. zfill              : --> \", \"123\".zfill(5))\n",
        "print(\"11. remplazar          : --> \", demo.lower().replace(\"o\", \"@\"))\n",
        "print(\"11. remplazar          : --> \", demo.replace(\"o\", \"@\"))\n",
        "print(\"11. contar             : --> \", demo.count(\"o\"))\n",
        "print(\"12. contar             : --> \", demo.count(\"@\"))\n",
        "print(\"13. buscar             : --> \", demo.lower().find(\"python\"))\n",
        "print(\"13. buscar             : --> \", demo.lower().find(\"python--\"))"
      ]
    },
    {
      "cell_type": "code",
      "execution_count": 11,
      "metadata": {
        "colab": {
          "base_uri": "https://localhost:8080/"
        },
        "id": "a4BA30AqSOmD",
        "outputId": "f995555d-3b29-4e4e-d8c5-71895b30126e"
      },
      "outputs": [
        {
          "name": "stdout",
          "output_type": "stream",
          "text": [
            "Help on method_descriptor in str:\n",
            "\n",
            "str.find = find(...)\n",
            "    S.find(sub[, start[, end]]) -> int\n",
            "    \n",
            "    Return the lowest index in S where substring sub is found,\n",
            "    such that sub is contained within S[start:end].  Optional\n",
            "    arguments start and end are interpreted as in slice notation.\n",
            "    \n",
            "    Return -1 on failure.\n",
            "\n"
          ]
        }
      ],
      "source": [
        "help(\"str.find\")"
      ]
    },
    {
      "cell_type": "code",
      "execution_count": 12,
      "metadata": {
        "colab": {
          "base_uri": "https://localhost:8080/"
        },
        "id": "N4mrlvSITucY",
        "outputId": "87eb4ab3-9dd0-42f2-9fc7-bb1a6d14b1f9"
      },
      "outputs": [
        {
          "data": {
            "text/plain": [
              "13"
            ]
          },
          "execution_count": 12,
          "metadata": {},
          "output_type": "execute_result"
        }
      ],
      "source": [
        "frase = \"clase de hoy de python\"\n",
        "palabra = \"de\"\n",
        "\n",
        "frase.find(palabra, 8)"
      ]
    },
    {
      "cell_type": "code",
      "execution_count": 13,
      "metadata": {
        "colab": {
          "base_uri": "https://localhost:8080/"
        },
        "id": "tJmeP2b4VQ_Q",
        "outputId": "31f9d5c8-8644-4e44-fc53-846dfbdec6ad"
      },
      "outputs": [
        {
          "name": "stdout",
          "output_type": "stream",
          "text": [
            "14. longitud cadena    : -->  28\n",
            "15. lstrip             : -->  hola espacios izquierdos\n",
            "16. rstrip             : -->  hola espacios derechos\n",
            "17. strip              : -->  espacio central\n"
          ]
        }
      ],
      "source": [
        "print(\"14. longitud cadena    : --> \", len(demo))  # listas, tuplas, strings\n",
        "\n",
        "\n",
        "espacios_izquierda = \"          hola espacios izquierdos\"\n",
        "espacios_derecha = \"hola espacios derechos            \"\n",
        "espacios_ambos = \"            espacio central       \"\n",
        "\n",
        "print(\"15. lstrip             : --> \", espacios_izquierda.lstrip())\n",
        "print(\"16. rstrip             : --> \", espacios_derecha.rstrip())\n",
        "print(\"17. strip              : --> \", espacios_ambos.strip())"
      ]
    },
    {
      "cell_type": "code",
      "execution_count": 14,
      "metadata": {
        "colab": {
          "base_uri": "https://localhost:8080/"
        },
        "id": "XCJrzJZyWKMm",
        "outputId": "5ac12ad7-0def-450c-8ffc-06bd6bdec51b"
      },
      "outputs": [
        {
          "name": "stdout",
          "output_type": "stream",
          "text": [
            "len espacios_ambos 1 : -->  34\n",
            "len espacios_ambos 2 : -->  15\n"
          ]
        }
      ],
      "source": [
        "print(\"len espacios_ambos 1 : --> \", len(espacios_ambos))\n",
        "print(\"len espacios_ambos 2 : --> \", len(espacios_ambos.strip()))"
      ]
    },
    {
      "cell_type": "code",
      "execution_count": 15,
      "metadata": {
        "colab": {
          "base_uri": "https://localhost:8080/"
        },
        "id": "olpyTVP2XBPq",
        "outputId": "508e87f8-1538-4f1d-9cc4-65d1ba009145"
      },
      "outputs": [
        {
          "name": "stdout",
          "output_type": "stream",
          "text": [
            "18. len numero        : -->  8\n",
            "19. es digito         : -->  True\n",
            "19. es digito         : -->  False\n",
            "19. es digito         : -->  False\n"
          ]
        }
      ],
      "source": [
        "pi = 3.141618\n",
        "\n",
        "print(\"18. len numero        : --> \", len(str(pi)))\n",
        "print(\"19. es digito         : --> \", \"234234\".isdigit())\n",
        "print(\"19. es digito         : --> \", \"a1\".isdigit())\n",
        "print(\"19. es digito         : --> \", \"1f\".isdigit())"
      ]
    },
    {
      "cell_type": "code",
      "execution_count": 16,
      "metadata": {
        "colab": {
          "base_uri": "https://localhost:8080/"
        },
        "id": "4ma26-MFXqhM",
        "outputId": "3ddc08ac-1227-4c58-a88f-15a62d2cb782"
      },
      "outputs": [
        {
          "name": "stdout",
          "output_type": "stream",
          "text": [
            "Help on method_descriptor in str:\n",
            "\n",
            "str.isdigit = isdigit(self, /)\n",
            "    Return True if the string is a digit string, False otherwise.\n",
            "    \n",
            "    A string is a digit string if all characters in the string are digits and there\n",
            "    is at least one character in the string.\n",
            "\n"
          ]
        }
      ],
      "source": [
        "help(\"str.isdigit\")"
      ]
    },
    {
      "cell_type": "code",
      "execution_count": 17,
      "metadata": {
        "colab": {
          "base_uri": "https://localhost:8080/"
        },
        "id": "bw6mxW_aYEWw",
        "outputId": "b413a479-1873-4c0f-f79b-ae1dde43edc8"
      },
      "outputs": [
        {
          "name": "stdout",
          "output_type": "stream",
          "text": [
            "00. variable original : -->  CuRsO PyThon UnIv3rSiD@D EIA\n",
            "20. indice            : -->  10\n",
            "20. indice            : -->  10\n"
          ]
        }
      ],
      "source": [
        "print(\"00. variable original : --> \", demo)\n",
        "print(\"20. indice            : --> \", demo.index(\"o\"))\n",
        "print(\"20. indice            : --> \", demo.find(\"o\"))"
      ]
    },
    {
      "cell_type": "code",
      "execution_count": 18,
      "metadata": {
        "colab": {
          "base_uri": "https://localhost:8080/"
        },
        "id": "rLt29c4VYNqL",
        "outputId": "08089032-0345-4fa2-c738-bc23c9af8bab"
      },
      "outputs": [
        {
          "name": "stdout",
          "output_type": "stream",
          "text": [
            "Help on method_descriptor in str:\n",
            "\n",
            "str.index = index(...)\n",
            "    S.index(sub[, start[, end]]) -> int\n",
            "    \n",
            "    Return the lowest index in S where substring sub is found,\n",
            "    such that sub is contained within S[start:end].  Optional\n",
            "    arguments start and end are interpreted as in slice notation.\n",
            "    \n",
            "    Raises ValueError when the substring is not found.\n",
            "\n"
          ]
        }
      ],
      "source": [
        "help(\"str.index\")"
      ]
    },
    {
      "cell_type": "code",
      "execution_count": 19,
      "metadata": {
        "colab": {
          "base_uri": "https://localhost:8080/"
        },
        "id": "9Zyl3sOBY0Jb",
        "outputId": "b297349e-849e-4041-bb8f-eba594d054bd"
      },
      "outputs": [
        {
          "name": "stdout",
          "output_type": "stream",
          "text": [
            "Help on method_descriptor in str:\n",
            "\n",
            "str.find = find(...)\n",
            "    S.find(sub[, start[, end]]) -> int\n",
            "    \n",
            "    Return the lowest index in S where substring sub is found,\n",
            "    such that sub is contained within S[start:end].  Optional\n",
            "    arguments start and end are interpreted as in slice notation.\n",
            "    \n",
            "    Return -1 on failure.\n",
            "\n"
          ]
        }
      ],
      "source": [
        "help(\"str.find\")"
      ]
    },
    {
      "cell_type": "code",
      "execution_count": 20,
      "metadata": {
        "colab": {
          "base_uri": "https://localhost:8080/",
          "height": 235
        },
        "id": "zUnpKJwKYt_T",
        "outputId": "839eb7ec-41b2-41cc-97d9-3b4b8bb054c0"
      },
      "outputs": [
        {
          "name": "stdout",
          "output_type": "stream",
          "text": [
            "00. variable original : -->  CuRsO PyThon UnIv3rSiD@D EIA\n",
            "20. indice            : -->  22\n",
            "20. indice            : -->  22\n"
          ]
        }
      ],
      "source": [
        "print(\"00. variable original : --> \", demo)\n",
        "print(\"20. indice            : --> \", demo.find(\"@\"))\n",
        "print(\"20. indice            : --> \", demo.index(\"@\"))"
      ]
    },
    {
      "cell_type": "code",
      "execution_count": 21,
      "metadata": {},
      "outputs": [
        {
          "name": "stdout",
          "output_type": "stream",
          "text": [
            "Help on method_descriptor in str:\n",
            "\n",
            "str.split = split(self, /, sep=None, maxsplit=-1)\n",
            "    Return a list of the words in the string, using sep as the delimiter string.\n",
            "    \n",
            "    sep\n",
            "      The delimiter according which to split the string.\n",
            "      None (the default value) means split according to any whitespace,\n",
            "      and discard empty strings from the result.\n",
            "    maxsplit\n",
            "      Maximum number of splits to do.\n",
            "      -1 (the default value) means no limit.\n",
            "\n"
          ]
        }
      ],
      "source": [
        "help(\"str.split\")"
      ]
    },
    {
      "cell_type": "code",
      "execution_count": 22,
      "metadata": {},
      "outputs": [
        {
          "name": "stdout",
          "output_type": "stream",
          "text": [
            "1. con slices  : -->  harvey.rodriguez\n",
            "2. con split   : -->  ['harvey', 'rodriguez@eia', 'com']\n",
            "3. con split   : -->  ['harvey.rodriguez', 'eia.com']\n"
          ]
        }
      ],
      "source": [
        "# splits | super importante | separar elementos a partir de un delimitador\n",
        "# harvey.rodriguez@bancolombia.com\n",
        "email = \"harvey.rodriguez@eia.com\"  # str\n",
        "\n",
        "print(\"1. con slices  : --> \", email[:16])\n",
        "print(\"2. con split   : --> \", email.split(\".\"))\n",
        "print(\"3. con split   : --> \", email.split(\"@\"))"
      ]
    },
    {
      "cell_type": "code",
      "execution_count": 23,
      "metadata": {},
      "outputs": [
        {
          "name": "stdout",
          "output_type": "stream",
          "text": [
            "harvey.rodriguez@eia.com\n"
          ]
        }
      ],
      "source": [
        "print(email)"
      ]
    },
    {
      "cell_type": "code",
      "execution_count": 24,
      "metadata": {},
      "outputs": [
        {
          "name": "stdout",
          "output_type": "stream",
          "text": [
            "['harvey.rodriguez', 'eia.com'] <class 'list'>\n"
          ]
        }
      ],
      "source": [
        "# Creo una variable llamada larga asignandole el valor de email.split(\"@\")\n",
        "larga = email.split(\"@\")\n",
        "\n",
        "# El resultado es una lista con 2 elementos\n",
        "print(larga, type(larga))"
      ]
    },
    {
      "cell_type": "code",
      "execution_count": 25,
      "metadata": {},
      "outputs": [
        {
          "data": {
            "text/plain": [
              "'harvey.rodriguez'"
            ]
          },
          "execution_count": 25,
          "metadata": {},
          "output_type": "execute_result"
        }
      ],
      "source": [
        "# Los slice también se aplican a las listas\n",
        "# Las listas al igual que las cadenas son iterables\n",
        "larga[0]  # es igual que decir larga[0]"
      ]
    },
    {
      "cell_type": "code",
      "execution_count": 26,
      "metadata": {},
      "outputs": [
        {
          "name": "stdout",
          "output_type": "stream",
          "text": [
            "[1, 2, 3, 4, 5, 6, 7, 8, 9]\n"
          ]
        }
      ],
      "source": [
        "lista = [1, 2, 3, 4, 5, 6, 7, 8, 9]\n",
        "#   pos  0 1 2 3 4 5 6 7 8\n",
        "print(lista)"
      ]
    },
    {
      "cell_type": "code",
      "execution_count": 27,
      "metadata": {},
      "outputs": [
        {
          "name": "stdout",
          "output_type": "stream",
          "text": [
            "[2, 5, 8]\n"
          ]
        }
      ],
      "source": [
        "# Slice recibe 3 valores: inicio, fin y salto\n",
        "# si no declaro el inicio, toma desde la posición 0\n",
        "# si no declaro el fin, toma hasta la última posición\n",
        "# si no declaro el salto, toma cada elemento (1)\n",
        "print(lista[1:8:3])"
      ]
    },
    {
      "cell_type": "code",
      "execution_count": 28,
      "metadata": {},
      "outputs": [
        {
          "name": "stdout",
          "output_type": "stream",
          "text": [
            "['g', 'e', 'c', 'a']\n"
          ]
        }
      ],
      "source": [
        "lista2 = [\"a\", \"b\", \"c\", \"d\", \"e\", \"f\", \"g\", \"h\", \"i\", \"j\"]\n",
        "#   pos    0    1    2    3    4    5    6    7    8    9\n",
        "#  pos in -10  -9   -8   -7   -6   -5   -4   -3   -2   -1\n",
        "\n",
        "# Los indices de izquierda a derecha comienzan en 0\n",
        "# Los indices de derecha a izquierda comienzan en -1\n",
        "\n",
        "print(lista2[-4::-2])\n",
        "# Resultado:\n",
        "# ['g', 'i'] -> By Ricardo!! :)"
      ]
    },
    {
      "cell_type": "code",
      "execution_count": 29,
      "metadata": {},
      "outputs": [
        {
          "name": "stdout",
          "output_type": "stream",
          "text": [
            "['g', 'h', 'i', 'j']\n"
          ]
        }
      ],
      "source": [
        "print(lista2[-4:11:1])"
      ]
    },
    {
      "cell_type": "code",
      "execution_count": 30,
      "metadata": {},
      "outputs": [
        {
          "data": {
            "text/plain": [
              "[]"
            ]
          },
          "execution_count": 30,
          "metadata": {},
          "output_type": "execute_result"
        }
      ],
      "source": [
        "lista2[7:4]"
      ]
    },
    {
      "cell_type": "code",
      "execution_count": 31,
      "metadata": {},
      "outputs": [
        {
          "ename": "IndexError",
          "evalue": "list index out of range",
          "output_type": "error",
          "traceback": [
            "\u001b[0;31m---------------------------------------------------------------------------\u001b[0m",
            "\u001b[0;31mIndexError\u001b[0m                                Traceback (most recent call last)",
            "Cell \u001b[0;32mIn[31], line 1\u001b[0m\n\u001b[0;32m----> 1\u001b[0m \u001b[43mlista2\u001b[49m\u001b[43m[\u001b[49m\u001b[38;5;241;43m-\u001b[39;49m\u001b[38;5;241;43m11\u001b[39;49m\u001b[43m]\u001b[49m\n",
            "\u001b[0;31mIndexError\u001b[0m: list index out of range"
          ]
        }
      ],
      "source": [
        "lista2[-11]"
      ]
    },
    {
      "cell_type": "code",
      "execution_count": 32,
      "metadata": {},
      "outputs": [
        {
          "data": {
            "text/plain": [
              "'p'"
            ]
          },
          "execution_count": 32,
          "metadata": {},
          "output_type": "execute_result"
        }
      ],
      "source": [
        "# Los indices de izquierda a derecha comienzan en 0\n",
        "# Los indices de derecha a izquierda comienzan en -1\n",
        "cadena = \"palabrA\"\n",
        "cadena[-7]"
      ]
    },
    {
      "cell_type": "code",
      "execution_count": 33,
      "metadata": {},
      "outputs": [
        {
          "data": {
            "text/plain": [
              "'p'"
            ]
          },
          "execution_count": 33,
          "metadata": {},
          "output_type": "execute_result"
        }
      ],
      "source": [
        "cadena[-0]"
      ]
    },
    {
      "cell_type": "code",
      "execution_count": 34,
      "metadata": {},
      "outputs": [
        {
          "name": "stdout",
          "output_type": "stream",
          "text": [
            "Al hacer un split a la variable email \"harvey.rodriguez@eia.com\"\n",
            "por el caracter \"@\" obtenemos la lista larga: ['harvey.rodriguez', 'eia.com']\n"
          ]
        }
      ],
      "source": [
        "print(\n",
        "    f'Al hacer un split a la variable email \"{email}\"\\npor el caracter \"@\" obtenemos la lista larga: {larga}'\n",
        ")"
      ]
    },
    {
      "cell_type": "code",
      "execution_count": 35,
      "metadata": {},
      "outputs": [],
      "source": [
        "larga1 = larga[0]"
      ]
    },
    {
      "cell_type": "code",
      "execution_count": 36,
      "metadata": {},
      "outputs": [
        {
          "name": "stdout",
          "output_type": "stream",
          "text": [
            "4. forma larga : -->  harvey.rodriguez\n",
            "5. forma corta : -->  harvey.rodriguez\n",
            "5. forma corta : -->  Harvey Rodriguez\n"
          ]
        }
      ],
      "source": [
        "print(\"4. forma larga : --> \", larga1)\n",
        "print(\"5. forma corta : --> \", email.split(\"@\")[0])\n",
        "print(\"5. forma corta : --> \", email.split(\"@\")[0].replace(\".\", \" \").title())"
      ]
    },
    {
      "cell_type": "code",
      "execution_count": 37,
      "metadata": {},
      "outputs": [
        {
          "name": "stdout",
          "output_type": "stream",
          "text": [
            "1. usando join : -->  ['harvey.rodriguez', 'eia.com']\n",
            "2. usando join : -->  harvey.rodriguez - eia.com\n",
            "3. usando join : -->  harvey.rodriguez|eia.com\n",
            "4. usando join : -->  ['harvey.rodriguez', 'eia.com']\n"
          ]
        }
      ],
      "source": [
        "# join permite transformar una lista en un string bajo un delimitador\n",
        "print(\"1. usando join : --> \", email.split(\"@\"))\n",
        "print(\"2. usando join : --> \", \" - \".join(email.split(\"@\")))  # método para listas\n",
        "print(\"3. usando join : --> \", \"|\".join(email.split(\"@\")))\n",
        "print(\"4. usando join : --> \", (\"|\".join(email.split(\"@\"))).split(\"|\"))"
      ]
    },
    {
      "cell_type": "code",
      "execution_count": 38,
      "metadata": {},
      "outputs": [
        {
          "name": "stdout",
          "output_type": "stream",
          "text": [
            "['a', 'b', 'c', 'd', 'e', 'f', 'g', 'h', 'i', 'j'] <class 'list'>\n",
            "a * b * c * d * e * f * g * h * i * j <class 'str'>\n"
          ]
        }
      ],
      "source": [
        "# Esta es la lista original\n",
        "print(lista2, type(lista2))\n",
        "\n",
        "# Esta es la lista convertida a cadena\n",
        "print(\" * \".join(lista2), type(\" * \".join(lista2)))"
      ]
    },
    {
      "cell_type": "code",
      "execution_count": 39,
      "metadata": {},
      "outputs": [
        {
          "data": {
            "text/plain": [
              "'nombre  apellido  segundo apellido'"
            ]
          },
          "execution_count": 39,
          "metadata": {},
          "output_type": "execute_result"
        }
      ],
      "source": [
        "# concatenar\n",
        "\n",
        "\"nombre \" + \" apellido \" + \" segundo apellido\""
      ]
    },
    {
      "cell_type": "markdown",
      "metadata": {},
      "source": [
        "### 1.1 Actividad\n",
        "\n",
        "Supongamos que tenemos un parámetro (texto) con el siguiente valor:\n",
        "\n",
        "```python\n",
        "appname=pythoneia.corp\n",
        "```\n",
        "\n",
        "1. la idea es que este parámetro quede segmentado en dos variables: `nombre_parametro` y `valor_parametro`. Esto se debe de hacer de las siguientes formas:\n",
        "\n",
        "  - Por índices\n",
        "  - Usando split\n",
        "  - Se deberá mostrar el contenido de las variables usando print por variable y por lista\n",
        "\n",
        "2. Se debe imprimir la longitud relacionada a \n",
        "\n",
        "  - Longitud total del parámetro\n",
        "  - Longitud total de `nombre_parametro`\n",
        "  - Longitud total de `valor_parametro`\n",
        "  - Total de la suma de las longitudes anteriores\n",
        "\n",
        "3. Del parámetro general, deseo realizar un split por el delimitador `=`, luego de esto, se debe realizar un split por `.`, tomar el ultimo el elemento y luego invertirlo. \n",
        "\n",
        "4. De parámetro general deseo realizar un split por el delimitador `=`, tomar el último valor, y tener la frase separada de la siguiente forma: `Python EIA Corp`\n",
        "\n",
        "5. Se deben remplazar: \n",
        "\n",
        "- `o` --> `@`\n",
        "- `=` --> `.....Xd.....`\n",
        "\n",
        "6. Deseo saber el índice del parámetro general para los siguientes valores: \n",
        "\n",
        "- `=`\n",
        "- `.`\n",
        "- `!`"
      ]
    }
  ],
  "metadata": {
    "colab": {
      "collapsed_sections": [],
      "provenance": [],
      "toc_visible": true
    },
    "kernelspec": {
      "display_name": "Python 3",
      "name": "python3"
    },
    "language_info": {
      "codemirror_mode": {
        "name": "ipython",
        "version": 3
      },
      "file_extension": ".py",
      "mimetype": "text/x-python",
      "name": "python",
      "nbconvert_exporter": "python",
      "pygments_lexer": "ipython3",
      "version": "3.9.19"
    }
  },
  "nbformat": 4,
  "nbformat_minor": 0
}
