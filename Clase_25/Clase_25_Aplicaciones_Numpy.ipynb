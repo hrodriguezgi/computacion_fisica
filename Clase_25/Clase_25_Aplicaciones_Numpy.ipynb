{
  "cells": [
    {
      "cell_type": "markdown",
      "metadata": {
        "id": "k1lgSUNa_Ai9"
      },
      "source": [
        "# Aplicaciones de Python"
      ]
    },
    {
      "cell_type": "code",
      "execution_count": 1,
      "metadata": {},
      "outputs": [],
      "source": [
        "import numpy as np\n",
        "import matplotlib.pyplot as plt"
      ]
    },
    {
      "cell_type": "markdown",
      "metadata": {},
      "source": [
        "# Resolución de ecuaciones\n",
        "\n",
        "Encontrar la solución de la siguiente ecuación:\n",
        "$$f(x) = x^3 + 4 x^2 - 10$$"
      ]
    },
    {
      "cell_type": "code",
      "execution_count": 2,
      "metadata": {},
      "outputs": [],
      "source": [
        "x = np.arange(-4, 3, 0.1)\n",
        "fx = x**3 + 4 * x**2 - 10"
      ]
    },
    {
      "cell_type": "code",
      "execution_count": 3,
      "metadata": {},
      "outputs": [
        {
          "data": {
            "image/png": "[encoded data removed]",
            "text/plain": [
              "<Figure size 640x480 with 1 Axes>"
            ]
          },
          "metadata": {},
          "output_type": "display_data"
        }
      ],
      "source": [
        "plt.plot(x, fx)\n",
        "plt.axhline(0, color=\"black\", linestyle=\"--\")\n",
        "plt.axvline(1.3652, color=\"red\", linestyle=\"--\")\n",
        "plt.title(\"$f(x) = x^3 + 4 x^2 - 10$\")\n",
        "plt.xlabel(\"$x$\")\n",
        "plt.ylabel(\"$f(x)$\")\n",
        "plt.grid(True)\n",
        "plt.show()"
      ]
    },
    {
      "cell_type": "markdown",
      "metadata": {},
      "source": [
        "### Método de Newton Raphson\n",
        "\n",
        "Es un procedimiento numérico utilizado para encontrar aproximaciones a las raíces de una función $f(x)$. Este método se basa en la idea de que una curva puede aproximarse a su tangente y que las intersecciones de la tangente con el eje $x$ pueden ser usadas para encontrar mejores aproximaciones de la raíz.\n",
        "\n",
        "<img src=\"newton.png\" width=\"400\">\n",
        "\n",
        "La formula iterativa para el método de Newton-Raphson es:\n",
        "$$x_{n+1} = x_n - \\frac{f(x_n)}{f'(x_n)}$$\n",
        "\n",
        "Donde:\n",
        "\n",
        "- $x_n$ es la aproximación actual.\n",
        "- $x_{n+1}$ es la nueva aproximación.\n",
        "- $f(x_n)$ es el valor de la función en $x_n$.\n",
        "- $f'(x_n)$ es la derivada de la función en $x_n$.\n",
        "\n",
        "Pasos del método:\n",
        "\n",
        "1. Escoge una aproximación inicial $x_0$.\n",
        "2. Evalúa la función y su derivada en ese punto.\n",
        "3. Recalcula la nueva aproximación usando la fórmula de Newton-Raphson.\n",
        "4. Repite el proceso hasta que la diferencia entre $x_n$ y $x_{n+1}$ sea lo suficientemente pequeña o se cumpla algún otro criterio de parada."
      ]
    },
    {
      "cell_type": "code",
      "execution_count": 2,
      "metadata": {},
      "outputs": [],
      "source": [
        "# Definir la función:\n",
        "def f(x):\n",
        "    return x**3 + 4 * x**2 - 10\n",
        "\n",
        "# Definir la derivada de la función:\n",
        "def df(x):\n",
        "    return 3 * x**2 + 8 * x"
      ]
    },
    {
      "cell_type": "code",
      "execution_count": 4,
      "metadata": {},
      "outputs": [
        {
          "name": "stdout",
          "output_type": "stream",
          "text": [
            "1.365230013634654\n"
          ]
        }
      ],
      "source": [
        "diff = 150\n",
        "x0 = 3\n",
        "\n",
        "while diff > 0.0001:\n",
        "    xn = x0 - f(x0)/df(x0)\n",
        "    diff = abs(xn - x0)\n",
        "    x0 = xn\n",
        "print(xn)"
      ]
    },
    {
      "cell_type": "code",
      "execution_count": null,
      "metadata": {},
      "outputs": [],
      "source": []
    },
    {
      "cell_type": "code",
      "execution_count": null,
      "metadata": {},
      "outputs": [],
      "source": []
    },
    {
      "cell_type": "code",
      "execution_count": null,
      "metadata": {},
      "outputs": [],
      "source": []
    },
    {
      "cell_type": "code",
      "execution_count": null,
      "metadata": {},
      "outputs": [],
      "source": []
    },
    {
      "cell_type": "markdown",
      "metadata": {},
      "source": [
        "Una forma más eficiente:"
      ]
    },
    {
      "cell_type": "code",
      "execution_count": 5,
      "metadata": {},
      "outputs": [],
      "source": [
        "def newton_raphson(f, df, x0, tol=1e-6, max_iter=100):\n",
        "    xn = x0\n",
        "    for n in range(0, max_iter):\n",
        "        fxn = f(xn)\n",
        "        dfxn = df(xn)\n",
        "        if abs(fxn) < tol:\n",
        "            print(f\"Raíz encontrada: {xn} después de {n} iteraciones.\")\n",
        "            return xn\n",
        "        if dfxn == 0:\n",
        "            print(\"La derivada es cero. No se puede continuar.\")\n",
        "            return None\n",
        "        xn = xn - fxn / dfxn\n",
        "    print(\"Número máximo de iteraciones alcanzado. No se encontró una solución.\")\n",
        "    return xn"
      ]
    },
    {
      "cell_type": "code",
      "execution_count": 6,
      "metadata": {},
      "outputs": [
        {
          "name": "stdout",
          "output_type": "stream",
          "text": [
            "Raíz encontrada: 1.365230013634654 después de 5 iteraciones.\n",
            "La raíz es: 1.365230013634654\n"
          ]
        }
      ],
      "source": [
        "# Llamamos al método con una aproximación inicial\n",
        "raiz = newton_raphson(f, df, x0=3)\n",
        "print(\"La raíz es:\", raiz)"
      ]
    },
    {
      "cell_type": "markdown",
      "metadata": {},
      "source": [
        "### Scipy: newton"
      ]
    },
    {
      "cell_type": "code",
      "execution_count": 7,
      "metadata": {},
      "outputs": [
        {
          "name": "stdout",
          "output_type": "stream",
          "text": [
            "Solucion para f(x)=0: x=(np.float64(1.3652300134140969),       converged: True\n",
            "           flag: converged\n",
            " function_calls: 12\n",
            "     iterations: 6\n",
            "           root: 1.3652300134140969\n",
            "         method: newton)\n"
          ]
        }
      ],
      "source": [
        "from scipy.optimize import newton\n",
        "\n",
        "sol_newton = newton(f, x0=3, fprime=df, full_output=True)\n",
        "print(f\"Solucion para f(x)=0: x={sol_newton}\")"
      ]
    }
  ],
  "metadata": {
    "colab": {
      "collapsed_sections": [],
      "provenance": [],
      "toc_visible": true
    },
    "kernelspec": {
      "display_name": "venv",
      "language": "python",
      "name": "python3"
    },
    "language_info": {
      "codemirror_mode": {
        "name": "ipython",
        "version": 3
      },
      "file_extension": ".py",
      "mimetype": "text/x-python",
      "name": "python",
      "nbconvert_exporter": "python",
      "pygments_lexer": "ipython3",
      "version": "3.10.15"
    }
  },
  "nbformat": 4,
  "nbformat_minor": 0
}
