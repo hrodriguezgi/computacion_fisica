{
 "cells": [
  {
   "cell_type": "markdown",
   "metadata": {},
   "source": [
    "# Integración numérica\n",
    "\n",
    "La integración numérica pretende encontrar el resultado de:\n",
    "\n",
    "$$I = \\int_a^b f(x)\\,dx $$\n",
    "\n",
    "Por medio de operaciones matemáticas en el computador cuando no es fácil encontrar la respuesta por medio de medios analíticos.\n",
    "Para esto vamos a ver 2 de los métodos para integración:\n",
    "\n",
    "## Trapecios\n",
    "\n",
    "El método de los trapecios consiste en aproximar el área bajo la curva de una función $f(x)$ mediante trapecios en lugar de rectángulos. La idea es dividir el intervalo de integración en segmentos pequeños y aproximar la función como una línea recta entre los puntos evaluados, formando un trapecio. La fórmula para calcular la integral será cuando se tiene un solo intervalo:\n",
    "\n",
    "$$ \\int_a^b f(x)\\,dx \\approx \\frac{h}{2} \\left(f(a) + f(b) \\right) $$\n",
    "\n",
    "Sin embargo cuando tengo más de un intervalo la formula va a ser:\n",
    "\n",
    "\\begin{align*}\n",
    "\\int_a^b f(x)\\,dx &\\approx \\frac{h}{2} \\Sigma_{i=0}^{n-1} \\left( f(x_i) + f(x_{i+1})\\right) \\\\\n",
    "&= \\frac{h}{2} \\left(f(x_0) + 2f(x_1) + 2f(x_2) + ... + 2f(x_{n-1}) + f(x_n) \\right)\n",
    "\\end{align*}\n",
    "\n",
    "<img src=\"trapecios.png\" width=\"400\">\n"
   ]
  },
  {
   "cell_type": "markdown",
   "metadata": {},
   "source": [
    "## Simpson\n",
    "\n",
    "El método de Simpson mejora la aproximación de la integral utilizando parábolas en lugar de líneas rectas para aproximar la curva. En lugar de conectar puntos consecutivos con una línea recta (como en el método de los trapecios), el método de Simpson aproxima cada par de puntos con un polinomio de segundo grado (una parábola).\n",
    "\n",
    "$$ \\int_a^b f(x)\\,dx \\approx \\frac{h}{3} \\left( f(a) + 4 f\\left(\\frac{a+b}{2}\\right) + f(b) \\right) $$\n",
    "\n",
    "Sin embargo cuando tengo más de un intervalo la fórmula va a ser:\n",
    "\n",
    "\\begin{align*}\n",
    "\\int_a^b f(x)\\,dx &\\approx \\frac{h}{3} \\left( f(x_0) + 2 \\Sigma_{j=1}^{\\frac{n}{2}-1} f(x_{2j}) + 4 \\Sigma_{j=1}^{\\frac{n}{2}} f(x_{2j-1}) + f(x_n) \\right) \\\\\n",
    "&= \\frac{h}{3} \\left(f(x_0) + 4f(x_1) + 2f(x_2) + 4f(x_3) + ... + 2f(x_{n-2}) + 4f(x_{n-1}) + f(x_n) \\right)\n",
    "\\end{align*}\n",
    "\n",
    "<img src=\"simpson.png\" width=\"400\">"
   ]
  },
  {
   "cell_type": "markdown",
   "metadata": {},
   "source": [
    "**Ejercicio**\n",
    "\n",
    "Calcular la integral:\n",
    "\n",
    "$$ I = \\int_0^{\\frac{\\pi}{2}} \\sin(x) e^{-x} \\, dx $$\n",
    "\n",
    "Utilizando el método de trapecios y de simpson con 4 y 8 subintervalos. Para cada caso calcula el error cometido sabiendo que el resultado analítico es:\n",
    "\n",
    "$$ \\frac{1 - e^{-\\frac{\\pi}{2}}}{2} $$"
   ]
  },
  {
   "cell_type": "code",
   "execution_count": 2,
   "metadata": {},
   "outputs": [],
   "source": [
    "import numpy as np\n",
    "\n",
    "def f(x):\n",
    "    return np.sin(x) * np.e**(-x)"
   ]
  },
  {
   "cell_type": "markdown",
   "metadata": {},
   "source": [
    "\\begin{align*}\n",
    "\\int_a^b f(x)\\,dx &\\approx \\frac{h}{2} \\Sigma_{i=0}^{n-1} \\left( f(x_i) + f(x_{i+1})\\right) \\\\\n",
    "&= \\frac{h}{2} \\left(f(x_0) + 2f(x_1) + 2f(x_2) + ... + 2f(x_{n-1}) + f(x_n) \\right)\n",
    "\\end{align*}"
   ]
  },
  {
   "cell_type": "code",
   "execution_count": 4,
   "metadata": {},
   "outputs": [],
   "source": [
    "def trapecios(f, a, b, n):\n",
    "    h = (b-a)/n\n",
    "    x = np.linspace(a, b, n)\n",
    "    pesos = np.ones(n) # Creo un vector de unos de tamaño n (subintervalos)\n",
    "    pesos[1:-1] = 2 # Cambio los valores intermedios por 2 [1 2 2 1]\n",
    "    return h/2 * np.sum(pesos * f(x))\n"
   ]
  },
  {
   "cell_type": "code",
   "execution_count": 6,
   "metadata": {},
   "outputs": [
    {
     "name": "stdout",
     "output_type": "stream",
     "text": [
      "Resultado con 4 subintervalos:  0.27647495021200347\n",
      "Resultado con 8 subintervalos:  0.3421225799603697\n"
     ]
    }
   ],
   "source": [
    "result_trapecios_4 = trapecios(f, 0, np.pi/2, 4)\n",
    "print(\"Resultado con 4 subintervalos: \", result_trapecios_4)\n",
    "\n",
    "result_trapecios_8 = trapecios(f, 0, np.pi/2, 8)\n",
    "print(\"Resultado con 8 subintervalos: \", result_trapecios_8)"
   ]
  },
  {
   "cell_type": "markdown",
   "metadata": {},
   "source": [
    "\\begin{align*}\n",
    "\\int_a^b f(x)\\,dx &\\approx \\frac{h}{3} \\left( f(x_0) + 2 \\Sigma_{j=1}^{\\frac{n}{2}-1} f(x_{2j}) + 4 \\Sigma_{j=1}^{\\frac{n}{2}} f(x_{2j-1}) + f(x_n) \\right) \\\\\n",
    "&= \\frac{h}{3} \\left(f(x_0) + 4f(x_1) + 2f(x_2) + 4f(x_3) + ... + 2f(x_{n-2}) + 4f(x_{n-1}) + f(x_n) \\right)\n",
    "\\end{align*}"
   ]
  },
  {
   "cell_type": "code",
   "execution_count": 7,
   "metadata": {},
   "outputs": [],
   "source": [
    "def simpson(f, a, b, n):\n",
    "    h = (b-a)/n\n",
    "    x = np.linspace(a, b, n)\n",
    "    pesos = np.ones(n) # Creo un vector de unos de tamaño n (subintervalos)\n",
    "    pesos[1:-1:2] = 4 # Todos los términos intermedios pares los cambio por 4 [1 4 X 4 X 4 1]\n",
    "    pesos[2::2] = 2 # Todos los términos intermedios impares los cambio por 2 [1 4 2 4 2 4 1]\n",
    "    return h/3 * np.sum(pesos * f(x))"
   ]
  },
  {
   "cell_type": "code",
   "execution_count": 8,
   "metadata": {},
   "outputs": [
    {
     "name": "stdout",
     "output_type": "stream",
     "text": [
      "Resultado con 4 subintervalos:  0.26185962864237544\n",
      "Resultado con 8 subintervalos:  0.33138788125403046\n"
     ]
    }
   ],
   "source": [
    "result_simpson_4 = simpson(f, 0, np.pi/2, 4)\n",
    "print(\"Resultado con 4 subintervalos: \", result_simpson_4)\n",
    "\n",
    "result_simpson_8 = simpson(f, 0, np.pi/2, 8)\n",
    "print(\"Resultado con 8 subintervalos: \", result_simpson_8)"
   ]
  },
  {
   "cell_type": "code",
   "execution_count": 9,
   "metadata": {},
   "outputs": [
    {
     "data": {
      "text/plain": [
       "0.39606021182461904"
      ]
     },
     "execution_count": 9,
     "metadata": {},
     "output_type": "execute_result"
    }
   ],
   "source": [
    "(1 - np.e**(-np.pi/2))/2 # Valor exacto de la integral"
   ]
  },
  {
   "cell_type": "code",
   "execution_count": 10,
   "metadata": {},
   "outputs": [
    {
     "name": "stdout",
     "output_type": "stream",
     "text": [
      "Resultado con 32 subintervalos:  0.3834329810710765\n"
     ]
    }
   ],
   "source": [
    "result_trapecios_32 = trapecios(f, 0, np.pi/2, 32)\n",
    "print(\"Resultado con 32 subintervalos: \", result_trapecios_32)"
   ]
  },
  {
   "cell_type": "code",
   "execution_count": 11,
   "metadata": {},
   "outputs": [
    {
     "name": "stdout",
     "output_type": "stream",
     "text": [
      "Resultado con 32 subintervalos:  0.3801956390125093\n"
     ]
    }
   ],
   "source": [
    "result_simpson_32 = simpson(f, 0, np.pi/2, 32)\n",
    "print(\"Resultado con 32 subintervalos: \", result_simpson_32)"
   ]
  }
 ],
 "metadata": {
  "kernelspec": {
   "display_name": "venv",
   "language": "python",
   "name": "python3"
  },
  "language_info": {
   "codemirror_mode": {
    "name": "ipython",
    "version": 3
   },
   "file_extension": ".py",
   "mimetype": "text/x-python",
   "name": "python",
   "nbconvert_exporter": "python",
   "pygments_lexer": "ipython3",
   "version": "3.10.15"
  }
 },
 "nbformat": 4,
 "nbformat_minor": 2
}
