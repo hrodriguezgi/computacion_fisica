{
 "cells": [
  {
   "cell_type": "markdown",
   "metadata": {},
   "source": [
    "# Diferenciación numérica\n",
    "\n",
    "## Diferencias Finitas\n",
    "El método más común para calcular derivadas de manera numérica es el uso de diferencias finitas. Estos métodos utilizan valores de la función en puntos cercanos para aproximar la derivada en un punto determinado."
   ]
  },
  {
   "cell_type": "markdown",
   "metadata": {},
   "source": [
    "### Progresiva\n",
    "Este método utiliza el valor de la función en el punto actual y en un punto ligeramente más adelante para aproximar la derivada.\n",
    "$$ f'(x) \\approx \\frac{f(x+h) - f(x)}{h}$$\n",
    "\n",
    "Donde $h$ es un pequeño incremento."
   ]
  },
  {
   "cell_type": "markdown",
   "metadata": {},
   "source": [
    "### Regresiva\n",
    "Este método utiliza el valor de la función en el punto actual y en un punto ligeramente anterior.\n",
    "$$ f'(x) \\approx \\frac{f(x) - f(x-h)}{h}$$"
   ]
  },
  {
   "cell_type": "markdown",
   "metadata": {},
   "source": [
    "### Central\n",
    "Este método utiliza los valores de la función en puntos a ambos lados de $x$ para mejorar la precisión.\n",
    "$$ f'(x) \\approx \\frac{f(x+h) - f(x-h)}{2h}$$"
   ]
  },
  {
   "cell_type": "markdown",
   "metadata": {},
   "source": [
    "**Ejercicio**\n",
    "\n",
    "Sea la función $f(x) = x^2 e^{-x}$, obtener el valor de $f'(0.5)$ a partir de los nodos $x=\\{0, 0.25, 0.5, 0.75, 1\\}$"
   ]
  },
  {
   "cell_type": "code",
   "execution_count": 1,
   "metadata": {},
   "outputs": [],
   "source": [
    "import numpy as np\n",
    "\n",
    "def f(x):\n",
    "    return x**2 * np.e ** (-x)\n",
    "\n",
    "def progresiva(f, x, h):\n",
    "    return (f(x + h) - f(x))/h\n",
    "\n",
    "def regresiva(f, x, h):\n",
    "    return (f(x) - f(x - h))/h\n",
    "\n",
    "def central(f, x, h):\n",
    "    return (f(x + h) - f(x - h))/(2*h)"
   ]
  },
  {
   "cell_type": "code",
   "execution_count": 5,
   "metadata": {},
   "outputs": [],
   "source": [
    "x = np.array((0, 0.25, 0.5, 0.75, 1))\n",
    "h = x[1] - x[0]\n",
    "\n",
    "x_pro = progresiva(f, x, h)\n",
    "x_reg = regresiva(f, x, h)\n",
    "x_cen = central(f, x, h)"
   ]
  },
  {
   "cell_type": "code",
   "execution_count": 6,
   "metadata": {},
   "outputs": [
    {
     "data": {
      "text/html": [
       "<div>\n",
       "<style scoped>\n",
       "    .dataframe tbody tr th:only-of-type {\n",
       "        vertical-align: middle;\n",
       "    }\n",
       "\n",
       "    .dataframe tbody tr th {\n",
       "        vertical-align: top;\n",
       "    }\n",
       "\n",
       "    .dataframe thead th {\n",
       "        text-align: right;\n",
       "    }\n",
       "</style>\n",
       "<table border=\"1\" class=\"dataframe\">\n",
       "  <thead>\n",
       "    <tr style=\"text-align: right;\">\n",
       "      <th></th>\n",
       "      <th>0.00</th>\n",
       "      <th>0.25</th>\n",
       "      <th>0.50</th>\n",
       "      <th>0.75</th>\n",
       "      <th>1.00</th>\n",
       "    </tr>\n",
       "  </thead>\n",
       "  <tbody>\n",
       "    <tr>\n",
       "      <th>Progresiva</th>\n",
       "      <td>0.194700</td>\n",
       "      <td>0.411830</td>\n",
       "      <td>0.456294</td>\n",
       "      <td>0.408693</td>\n",
       "      <td>0.319137</td>\n",
       "    </tr>\n",
       "    <tr>\n",
       "      <th>Regresiva</th>\n",
       "      <td>-0.321006</td>\n",
       "      <td>0.194700</td>\n",
       "      <td>0.411830</td>\n",
       "      <td>0.456294</td>\n",
       "      <td>0.408693</td>\n",
       "    </tr>\n",
       "    <tr>\n",
       "      <th>Central</th>\n",
       "      <td>-0.063153</td>\n",
       "      <td>0.303265</td>\n",
       "      <td>0.434062</td>\n",
       "      <td>0.432494</td>\n",
       "      <td>0.363915</td>\n",
       "    </tr>\n",
       "  </tbody>\n",
       "</table>\n",
       "</div>"
      ],
      "text/plain": [
       "                0.00      0.25      0.50      0.75      1.00\n",
       "Progresiva  0.194700  0.411830  0.456294  0.408693  0.319137\n",
       "Regresiva  -0.321006  0.194700  0.411830  0.456294  0.408693\n",
       "Central    -0.063153  0.303265  0.434062  0.432494  0.363915"
      ]
     },
     "execution_count": 6,
     "metadata": {},
     "output_type": "execute_result"
    }
   ],
   "source": [
    "import pandas as pd\n",
    "\n",
    "results = pd.DataFrame([x_pro, x_reg, x_cen], index=['Progresiva', 'Regresiva', 'Central'], columns=x)\n",
    "results"
   ]
  },
  {
   "cell_type": "markdown",
   "metadata": {},
   "source": [
    "El valor analítico de la derivada es: $f'(0.5)$ es $0.4549$"
   ]
  },
  {
   "cell_type": "code",
   "execution_count": 7,
   "metadata": {},
   "outputs": [
    {
     "data": {
      "text/plain": [
       "Progresiva    0.456294\n",
       "Regresiva     0.411830\n",
       "Central       0.434062\n",
       "Name: 0.5, dtype: float64"
      ]
     },
     "execution_count": 7,
     "metadata": {},
     "output_type": "execute_result"
    }
   ],
   "source": [
    "results.iloc[:,2]"
   ]
  }
 ],
 "metadata": {
  "kernelspec": {
   "display_name": "venv",
   "language": "python",
   "name": "python3"
  },
  "language_info": {
   "codemirror_mode": {
    "name": "ipython",
    "version": 3
   },
   "file_extension": ".py",
   "mimetype": "text/x-python",
   "name": "python",
   "nbconvert_exporter": "python",
   "pygments_lexer": "ipython3",
   "version": "3.10.15"
  }
 },
 "nbformat": 4,
 "nbformat_minor": 2
}
