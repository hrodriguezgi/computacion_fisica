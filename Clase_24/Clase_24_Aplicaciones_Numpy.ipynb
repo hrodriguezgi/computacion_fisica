{
  "cells": [
    {
      "cell_type": "markdown",
      "metadata": {
        "id": "k1lgSUNa_Ai9"
      },
      "source": [
        "# Aplicaciones de Python"
      ]
    },
    {
      "cell_type": "code",
      "execution_count": 1,
      "metadata": {},
      "outputs": [],
      "source": [
        "import numpy as np\n",
        "import matplotlib.pyplot as plt"
      ]
    },
    {
      "cell_type": "markdown",
      "metadata": {},
      "source": [
        "# Resolución de ecuaciones\n",
        "\n",
        "Encontrar la solución de la siguiente ecuación:\n",
        "$$f(x) = x^3 + 4 x^2 - 10$$"
      ]
    },
    {
      "cell_type": "code",
      "execution_count": 2,
      "metadata": {},
      "outputs": [],
      "source": [
        "x = np.arange(-2, 4, 0.1)\n",
        "fx = x**3 + 4 * x**2 - 10"
      ]
    },
    {
      "cell_type": "code",
      "execution_count": 3,
      "metadata": {},
      "outputs": [
        {
          "data": {
            "image/png": "[encoded data removed]",
            "text/plain": [
              "<Figure size 640x480 with 1 Axes>"
            ]
          },
          "metadata": {},
          "output_type": "display_data"
        }
      ],
      "source": [
        "plt.plot(x, fx)\n",
        "plt.axhline(0, color=\"black\", linestyle=\"--\")\n",
        "plt.axvline(1.3652, color=\"red\", linestyle=\"--\")\n",
        "plt.title(\"$f(x) = x^3 + 4 x^2 - 10$\")\n",
        "plt.xlabel(\"$x$\")\n",
        "plt.ylabel(\"$f(x)$\")\n",
        "plt.grid(True)\n",
        "plt.show()"
      ]
    },
    {
      "cell_type": "code",
      "execution_count": 4,
      "metadata": {},
      "outputs": [],
      "source": [
        "# Definir la función:\n",
        "def f(x):\n",
        "    return x**3 + 4 * x**2 - 10"
      ]
    },
    {
      "cell_type": "markdown",
      "metadata": {},
      "source": [
        "### Método de Bisección\n",
        "\n",
        "$$f(x) = x^3 + 4 x^2 - 10$$\n",
        "\n",
        "El método consiste en lo siguiente:\n",
        "- Debe existir seguridad sobre la continuidad de la función $f$ en el intervalo $[a,b]$\n",
        "- A continuación se verifica que $f(a) \\cdot f(b) < 0$\n",
        "- Se calcula el punto medio $m$ del intervalo $[a, b]$ y se evalúa $f(m)$ si ese valor es igual a cero, ya hemos encontrado la raíz buscada\n",
        "- En caso de que no lo sea, verificamos si $f(m)$ tiene signo opuesto con $f(a)$ o con $f(b)$\n",
        "- Se redefine el intervalo $[a,b]$ como $[a,m]$ o $[m,b]$ según se haya determinado en cuál de estos intervalos ocurre un cambio de signo\n",
        "- Con este nuevo intervalo se continúa sucesivamente encerrando la solución en un intervalo cada vez más pequeño, hasta alcanzar la precisión deseada\n",
        "\n",
        "<img src=\"biseccion.png\" width=\"400\">"
      ]
    },
    {
      "cell_type": "markdown",
      "metadata": {},
      "source": []
    },
    {
      "cell_type": "code",
      "execution_count": 10,
      "metadata": {},
      "outputs": [
        {
          "name": "stdout",
          "output_type": "stream",
          "text": [
            "no hay raíz\n",
            "raíz en: 1\n",
            "iteraciones: 0\n"
          ]
        }
      ],
      "source": [
        "def f(x):\n",
        "    fx = x**3 + 4 * x**2 - 10\n",
        "    return fx\n",
        "\n",
        "\n",
        "a = 0\n",
        "b = 1\n",
        "\n",
        "fa = f(a)\n",
        "fb = f(b)\n",
        "\n",
        "max_iter = 100\n",
        "iter = 0\n",
        "tolerancia = 0.00001\n",
        "\n",
        "while (iter < max_iter) & (b - a > tolerancia):\n",
        "    if fa * fb < 0:\n",
        "        c = (a + b) / 2\n",
        "        fc = f(c)\n",
        "        if fa * fc < 0:\n",
        "            b = c\n",
        "            fb = fc\n",
        "        else:\n",
        "            a = c\n",
        "            fa = fc\n",
        "    else:\n",
        "        print(\"no hay raíz\")\n",
        "        break\n",
        "    iter += 1\n",
        "\n",
        "print(f\"raíz en: {b}\")\n",
        "print(f\"iteraciones: {iter}\")"
      ]
    },
    {
      "cell_type": "markdown",
      "metadata": {},
      "source": [
        "Una forma más eficiente:"
      ]
    },
    {
      "cell_type": "code",
      "execution_count": 11,
      "metadata": {},
      "outputs": [],
      "source": [
        "def bisection(f, a, b, xtol=0.00001, maxiter=100):\n",
        "    if f(b) * f(a) > 0:\n",
        "        raise ValueError(\"No existe raíz en el intervalo dado\")\n",
        "\n",
        "    iter = 0\n",
        "    while iter <= maxiter:\n",
        "        iter += 1\n",
        "        c = (a + b) / 2\n",
        "        if abs(f(c)) <= xtol:\n",
        "            return c, iter\n",
        "        elif f(c) * f(a) < 0:\n",
        "            b = c\n",
        "        else:\n",
        "            a = c\n",
        "\n",
        "    raise Exception(\"El número máximo de iteraciones permitidas ha sido excedido.\")"
      ]
    },
    {
      "cell_type": "code",
      "execution_count": 16,
      "metadata": {},
      "outputs": [
        {
          "name": "stdout",
          "output_type": "stream",
          "text": [
            "Solucion para f(x)=0: x=1.3652305603027344\n",
            "Total de iteraciones: 18\n"
          ]
        }
      ],
      "source": [
        "sol, iter = bisection(f, 1, 2, maxiter=20)\n",
        "print(f\"Solucion para f(x)=0: x={sol}\")\n",
        "print(f\"Total de iteraciones: {iter}\")"
      ]
    },
    {
      "cell_type": "markdown",
      "metadata": {},
      "source": [
        "### Scipy: bisect"
      ]
    },
    {
      "cell_type": "code",
      "execution_count": 17,
      "metadata": {},
      "outputs": [
        {
          "name": "stdout",
          "output_type": "stream",
          "text": [
            "Solucion para f(x)=0: x=1.3652267456054688\n"
          ]
        }
      ],
      "source": [
        "from scipy.optimize import bisect\n",
        "\n",
        "sol_bisect = bisect(f, 1, 2, xtol=0.00001)\n",
        "print(f\"Solucion para f(x)=0: x={sol_bisect}\")"
      ]
    },
    {
      "cell_type": "markdown",
      "metadata": {},
      "source": [
        "### Scipy: fsolve"
      ]
    },
    {
      "cell_type": "code",
      "execution_count": 18,
      "metadata": {},
      "outputs": [
        {
          "name": "stdout",
          "output_type": "stream",
          "text": [
            "Solucion para f(x)=0: x=1.3652300134140962\n"
          ]
        }
      ],
      "source": [
        "from scipy.optimize import fsolve\n",
        "\n",
        "punto_inicial = 0.5\n",
        "sol_fsolve = fsolve(f, punto_inicial)\n",
        "print(f\"Solucion para f(x)=0: x={sol_fsolve[0]}\")"
      ]
    }
  ],
  "metadata": {
    "colab": {
      "collapsed_sections": [],
      "provenance": [],
      "toc_visible": true
    },
    "kernelspec": {
      "display_name": "venv",
      "language": "python",
      "name": "python3"
    },
    "language_info": {
      "codemirror_mode": {
        "name": "ipython",
        "version": 3
      },
      "file_extension": ".py",
      "mimetype": "text/x-python",
      "name": "python",
      "nbconvert_exporter": "python",
      "pygments_lexer": "ipython3",
      "version": "3.10.15"
    }
  },
  "nbformat": 4,
  "nbformat_minor": 0
}
