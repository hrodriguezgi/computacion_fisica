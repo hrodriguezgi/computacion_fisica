{
 "cells": [
  {
   "cell_type": "markdown",
   "metadata": {},
   "source": [
    "# Dispositivo de tiro con arco\n",
    "\n",
    "Un análisis cuantitativo del sistema de tiro con arco de la siguiente figura:\n",
    "\n",
    "<img src=\"arco.png\" width=\"200\">\n",
    "\n",
    "Permite recopilar los valores de la fuera $F$ en Newton en función del desplazamiento $x$ en metros. Los datos se resumen en la siguiente tabla:\n",
    "\n",
    "| Distancia | Fuerza |\n",
    "|-----------|--------|\n",
    "| 0.00      | 0      |\n",
    "| 0.05      | 37     |\n",
    "| 0.10      | 71     |\n",
    "| 0.15      | 104    |\n",
    "| 0.20      | 134    |\n",
    "| 0.25      | 161    |\n",
    "| 0.30      | 185    |\n",
    "| 0.35      | 207    |\n",
    "| 0.40      | 225    |\n",
    "| 0.45      | 239    |\n",
    "| 0.50      | 250    |\n",
    "\n",
    "\n",
    "Si el arco es lanzado desde una distancia $x=0.5\\,m$ calcule la velocidad de una flecha de masa $m=0,075\\,Kg$ cuando esta es arrojada por el arco.\n",
    "\n",
    "*Hint:* la energía cinética de la flecha es igual al trabajo realizado al estirar el arco.\n",
    "\n",
    "- Definición de Energía Cinética: $E = \\frac{1}{2} mv^2$\n",
    "\n",
    "- Definición de Trabajo: $W = \\int_a^b F(x)\\,dx$\n",
    "\n",
    "- Igualando las dos ecuaciones anteriores: $\\frac{1}{2} mv^2 = \\int_a^b F(x)\\,dx$\n",
    "\n",
    "\n",
    "Actividades:\n",
    "* Evalúe la integral usando Trapecios y Simpson\n",
    "* Calcule la velocidad de la flecha para cada valor de $x$ de la tabla."
   ]
  },
  {
   "cell_type": "code",
   "execution_count": 1,
   "metadata": {},
   "outputs": [],
   "source": [
    "import numpy as np\n",
    "\n",
    "x = np.array([0, 0.05, 0.1, 0.15, 0.2, 0.25, 0.3, 0.35, 0.4, 0.45, 0.5])\n",
    "F = np.array([0, 37, 71, 104, 134, 161, 185, 207, 225, 239, 250])\n",
    "m = 0.075"
   ]
  },
  {
   "cell_type": "code",
   "execution_count": 2,
   "metadata": {},
   "outputs": [
    {
     "data": {
      "image/png": "[encoded data removed]",
      "text/plain": [
       "<Figure size 640x480 with 1 Axes>"
      ]
     },
     "metadata": {},
     "output_type": "display_data"
    }
   ],
   "source": [
    "import matplotlib.pyplot as plt\n",
    "\n",
    "plt.plot(x, F)\n",
    "plt.fill_between(x, F, 0, alpha=0.1) # Rellenar en color azul bajo la curva\n",
    "plt.xlim(0, 0.5) # Limitar los valores de x entre 0 y 0.5\n",
    "plt.ylim(0, 260)\n",
    "plt.xlabel(\"x (m)\")\n",
    "plt.ylabel(\"F (N)\")\n",
    "plt.title(\"Fuerza vs. Desplazamiento\")\n",
    "plt.show()"
   ]
  },
  {
   "cell_type": "code",
   "execution_count": 3,
   "metadata": {},
   "outputs": [],
   "source": [
    "def Trapecio(x, F):\n",
    "    a = x[0]\n",
    "    b = x[-1]\n",
    "    n = len(x) - 1\n",
    "    h = (b - a) / n\n",
    "    pesos = np.ones(n + 1)\n",
    "    pesos[1:-1] = 2\n",
    "    return h / 2 * np.sum(pesos * F)"
   ]
  },
  {
   "cell_type": "code",
   "execution_count": 4,
   "metadata": {},
   "outputs": [
    {
     "data": {
      "text/plain": [
       "np.float64(74.4)"
      ]
     },
     "execution_count": 4,
     "metadata": {},
     "output_type": "execute_result"
    }
   ],
   "source": [
    "Trapecio(x, F)"
   ]
  },
  {
   "cell_type": "code",
   "execution_count": 5,
   "metadata": {},
   "outputs": [],
   "source": [
    "def Simpson(x, F):\n",
    "    a = x[0]\n",
    "    b = x[-1]\n",
    "    n = len(x) - 1\n",
    "    h = (b - a) / n\n",
    "    pesos = np.ones(n + 1)\n",
    "    pesos[1:-1:2] = 4\n",
    "    pesos[2:-2:2] = 2\n",
    "    return h / 3 * np.sum(pesos * F)"
   ]
  },
  {
   "cell_type": "code",
   "execution_count": 6,
   "metadata": {},
   "outputs": [
    {
     "data": {
      "text/plain": [
       "np.float64(74.53333333333333)"
      ]
     },
     "execution_count": 6,
     "metadata": {},
     "output_type": "execute_result"
    }
   ],
   "source": [
    "Simpson(x, F)"
   ]
  },
  {
   "cell_type": "markdown",
   "metadata": {},
   "source": [
    "*Hint:* la energía cinética de la flecha es igual al trabajo realizado al estirar el arco.\n",
    "\n",
    "- Definición de Energía Cinética: $E = \\frac{1}{2} mv^2$\n",
    "\n",
    "- Definición de Trabajo: $W = \\int_a^b F(x)\\,dx$\n",
    "\n",
    "- Igualando las dos ecuaciones anteriores: $\\frac{1}{2} mv^2 = \\int_a^b F(x)\\,dx$"
   ]
  },
  {
   "cell_type": "code",
   "execution_count": 8,
   "metadata": {},
   "outputs": [
    {
     "name": "stdout",
     "output_type": "stream",
     "text": [
      "Distancia = 0.0, Velocidad = 0.0\n",
      "Distancia = 0.05, Velocidad = 4.0551750201988135\n",
      "Distancia = 0.1, Velocidad = 9.72967967955095\n",
      "Distancia = 0.15, Velocidad = 11.775681155103797\n",
      "Distancia = 0.2, Velocidad = 18.903262505010435\n",
      "Distancia = 0.25, Velocidad = 20.372094203155015\n",
      "Distancia = 0.3, Velocidad = 27.202941017470888\n",
      "Distancia = 0.35, Velocidad = 28.31455960657495\n",
      "Distancia = 0.4, Velocidad = 34.64101615137754\n",
      "Distancia = 0.45, Velocidad = 35.20311434034295\n",
      "Distancia = 0.5, Velocidad = 40.824829046386306\n"
     ]
    }
   ],
   "source": [
    "W = np.zeros(len(x))\n",
    "\n",
    "for i in range(1, len(x)):\n",
    "    if i % 2 == 0:\n",
    "        # Integral using Trapezoidal rule\n",
    "        W[i] = Trapecio(F[: i + 1], x[: i + 1])\n",
    "    else:\n",
    "        # Integral using Simpson's rule\n",
    "        W[i] = Simpson(F[: i + 1], x[: i + 1])\n",
    "\n",
    "v = np.sqrt(2 * W / m)\n",
    "for i, v in zip(x, v):\n",
    "    print(f\"Distancia = {i}, Velocidad = {v}\")"
   ]
  }
 ],
 "metadata": {
  "kernelspec": {
   "display_name": "venv",
   "language": "python",
   "name": "python3"
  },
  "language_info": {
   "codemirror_mode": {
    "name": "ipython",
    "version": 3
   },
   "file_extension": ".py",
   "mimetype": "text/x-python",
   "name": "python",
   "nbconvert_exporter": "python",
   "pygments_lexer": "ipython3",
   "version": "3.10.15"
  }
 },
 "nbformat": 4,
 "nbformat_minor": 2
}
